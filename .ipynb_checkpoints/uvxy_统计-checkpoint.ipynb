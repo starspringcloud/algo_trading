{
 "cells": [
  {
   "cell_type": "code",
   "execution_count": 1,
   "id": "possible-reputation",
   "metadata": {},
   "outputs": [
    {
     "name": "stdout",
     "output_type": "stream",
     "text": [
      "0.7114135197\n",
      "-0.3049975019064398\n",
      "0.09473778650689475\n"
     ]
    }
   ],
   "source": [
    "# 这是一个简单的规则\n",
    "# 判断uvxy 和 spy 是否同方向了，并作出操作"
   ]
  },
  {
   "cell_type": "code",
   "execution_count": 37,
   "id": "capable-geography",
   "metadata": {},
   "outputs": [],
   "source": [
    "import yfinance as yf\n",
    "import matplotlib.pyplot as plt\n",
    "import seaborn as sns\n",
    "import numpy as np\n",
    "import statsmodels\n",
    "from statsmodels.tsa.stattools import coint\n",
    "import pandas as pd\n",
    "import scipy.stats as st\n",
    "from statsmodels.stats.stattools import jarque_bera\n",
    "import os\n"
   ]
  },
  {
   "cell_type": "code",
   "execution_count": 5,
   "id": "social-american",
   "metadata": {},
   "outputs": [
    {
     "name": "stdout",
     "output_type": "stream",
     "text": [
      "(300, 8)\n",
      "(300, 8)\n"
     ]
    }
   ],
   "source": [
    "reload = False\n",
    "\n",
    "cycle = '600d'\n",
    "file_name = 'uvxy_' + cycle\n",
    "\n",
    "if not reload and  os.path.exists(file_name):\n",
    "    hist = pd.read_csv(file_name)\n",
    "else:\n",
    "    tmp = yf.Ticker(\"UVXY\")\n",
    "    hist = tmp.history(period=cycle)\n",
    "    hist.to_csv(file_name)\n",
    "    \n",
    "\n",
    "file_name = 'spy_' + cycle\n",
    "if not reload and  os.path.exists(file_name):\n",
    "    spy_hist = pd.read_csv(file_name)\n",
    "else:\n",
    "    tmp = yf.Ticker(\"SPY\")\n",
    "    spy_hist = tmp.history(period=cycle)\n",
    "    spy_hist.to_csv(file_name)\n",
    "\n",
    "print(hist.shape)\n",
    "print(spy_hist.shape)"
   ]
  },
  {
   "cell_type": "code",
   "execution_count": 6,
   "id": "plain-disney",
   "metadata": {},
   "outputs": [
    {
     "data": {
      "text/plain": [
       "(300, 8)"
      ]
     },
     "execution_count": 6,
     "metadata": {},
     "output_type": "execute_result"
    }
   ],
   "source": [
    "hist.shape"
   ]
  },
  {
   "cell_type": "code",
   "execution_count": 30,
   "id": "interracial-wheel",
   "metadata": {},
   "outputs": [],
   "source": [
    "hist['gains'] = (hist.Close - hist.Close.shift(1))/hist.Close.shift(1) * 100\n",
    "spy_hist['gains'] = (spy_hist.Close - spy_hist.Close.shift(1))/spy_hist.Close.shift(1) * 100\n",
    "\n",
    "hist.dropna(inplace=True)\n",
    "spy_hist.dropna(inplace=True)"
   ]
  },
  {
   "cell_type": "code",
   "execution_count": 48,
   "id": "democratic-broad",
   "metadata": {},
   "outputs": [
    {
     "data": {
      "text/html": [
       "<div>\n",
       "<style scoped>\n",
       "    .dataframe tbody tr th:only-of-type {\n",
       "        vertical-align: middle;\n",
       "    }\n",
       "\n",
       "    .dataframe tbody tr th {\n",
       "        vertical-align: top;\n",
       "    }\n",
       "\n",
       "    .dataframe thead th {\n",
       "        text-align: right;\n",
       "    }\n",
       "</style>\n",
       "<table border=\"1\" class=\"dataframe\">\n",
       "  <thead>\n",
       "    <tr style=\"text-align: right;\">\n",
       "      <th></th>\n",
       "      <th>Date</th>\n",
       "      <th>Open</th>\n",
       "      <th>High</th>\n",
       "      <th>Low</th>\n",
       "      <th>Close</th>\n",
       "      <th>Volume</th>\n",
       "      <th>Dividends</th>\n",
       "      <th>Stock Splits</th>\n",
       "      <th>gains</th>\n",
       "    </tr>\n",
       "  </thead>\n",
       "  <tbody>\n",
       "    <tr>\n",
       "      <th>4</th>\n",
       "      <td>2020-01-22</td>\n",
       "      <td>10.450000</td>\n",
       "      <td>10.860000</td>\n",
       "      <td>10.440000</td>\n",
       "      <td>10.830000</td>\n",
       "      <td>13941100</td>\n",
       "      <td>0</td>\n",
       "      <td>0</td>\n",
       "      <td>0.837990</td>\n",
       "    </tr>\n",
       "    <tr>\n",
       "      <th>5</th>\n",
       "      <td>2020-01-23</td>\n",
       "      <td>11.090000</td>\n",
       "      <td>11.380000</td>\n",
       "      <td>10.750000</td>\n",
       "      <td>10.760000</td>\n",
       "      <td>17442600</td>\n",
       "      <td>0</td>\n",
       "      <td>0</td>\n",
       "      <td>-0.646350</td>\n",
       "    </tr>\n",
       "    <tr>\n",
       "      <th>6</th>\n",
       "      <td>2020-01-24</td>\n",
       "      <td>10.550000</td>\n",
       "      <td>12.060000</td>\n",
       "      <td>10.490000</td>\n",
       "      <td>11.720000</td>\n",
       "      <td>39095500</td>\n",
       "      <td>0</td>\n",
       "      <td>0</td>\n",
       "      <td>8.921933</td>\n",
       "    </tr>\n",
       "    <tr>\n",
       "      <th>7</th>\n",
       "      <td>2020-01-27</td>\n",
       "      <td>13.230000</td>\n",
       "      <td>13.550000</td>\n",
       "      <td>12.790000</td>\n",
       "      <td>13.550000</td>\n",
       "      <td>41665200</td>\n",
       "      <td>0</td>\n",
       "      <td>0</td>\n",
       "      <td>15.614333</td>\n",
       "    </tr>\n",
       "    <tr>\n",
       "      <th>8</th>\n",
       "      <td>2020-01-28</td>\n",
       "      <td>13.060000</td>\n",
       "      <td>13.190000</td>\n",
       "      <td>12.270000</td>\n",
       "      <td>12.380000</td>\n",
       "      <td>24530800</td>\n",
       "      <td>0</td>\n",
       "      <td>0</td>\n",
       "      <td>-8.634687</td>\n",
       "    </tr>\n",
       "    <tr>\n",
       "      <th>...</th>\n",
       "      <td>...</td>\n",
       "      <td>...</td>\n",
       "      <td>...</td>\n",
       "      <td>...</td>\n",
       "      <td>...</td>\n",
       "      <td>...</td>\n",
       "      <td>...</td>\n",
       "      <td>...</td>\n",
       "      <td>...</td>\n",
       "    </tr>\n",
       "    <tr>\n",
       "      <th>99</th>\n",
       "      <td>2020-06-08</td>\n",
       "      <td>27.430000</td>\n",
       "      <td>28.860001</td>\n",
       "      <td>27.240000</td>\n",
       "      <td>28.469999</td>\n",
       "      <td>8074100</td>\n",
       "      <td>0</td>\n",
       "      <td>0</td>\n",
       "      <td>3.339383</td>\n",
       "    </tr>\n",
       "    <tr>\n",
       "      <th>100</th>\n",
       "      <td>2020-06-09</td>\n",
       "      <td>29.680000</td>\n",
       "      <td>30.879999</td>\n",
       "      <td>29.370001</td>\n",
       "      <td>30.590000</td>\n",
       "      <td>11013600</td>\n",
       "      <td>0</td>\n",
       "      <td>0</td>\n",
       "      <td>7.446438</td>\n",
       "    </tr>\n",
       "    <tr>\n",
       "      <th>101</th>\n",
       "      <td>2020-06-10</td>\n",
       "      <td>30.879999</td>\n",
       "      <td>31.740000</td>\n",
       "      <td>28.520000</td>\n",
       "      <td>30.340000</td>\n",
       "      <td>13754700</td>\n",
       "      <td>0</td>\n",
       "      <td>0</td>\n",
       "      <td>-0.817261</td>\n",
       "    </tr>\n",
       "    <tr>\n",
       "      <th>102</th>\n",
       "      <td>2020-06-11</td>\n",
       "      <td>35.330002</td>\n",
       "      <td>46.650002</td>\n",
       "      <td>33.240002</td>\n",
       "      <td>45.560001</td>\n",
       "      <td>40297200</td>\n",
       "      <td>0</td>\n",
       "      <td>0</td>\n",
       "      <td>50.164803</td>\n",
       "    </tr>\n",
       "    <tr>\n",
       "      <th>103</th>\n",
       "      <td>2020-06-12</td>\n",
       "      <td>39.950001</td>\n",
       "      <td>51.000000</td>\n",
       "      <td>38.299999</td>\n",
       "      <td>40.459999</td>\n",
       "      <td>37208700</td>\n",
       "      <td>0</td>\n",
       "      <td>0</td>\n",
       "      <td>-11.194035</td>\n",
       "    </tr>\n",
       "  </tbody>\n",
       "</table>\n",
       "<p>100 rows × 9 columns</p>\n",
       "</div>"
      ],
      "text/plain": [
       "           Date       Open       High        Low      Close    Volume  \\\n",
       "4    2020-01-22  10.450000  10.860000  10.440000  10.830000  13941100   \n",
       "5    2020-01-23  11.090000  11.380000  10.750000  10.760000  17442600   \n",
       "6    2020-01-24  10.550000  12.060000  10.490000  11.720000  39095500   \n",
       "7    2020-01-27  13.230000  13.550000  12.790000  13.550000  41665200   \n",
       "8    2020-01-28  13.060000  13.190000  12.270000  12.380000  24530800   \n",
       "..          ...        ...        ...        ...        ...       ...   \n",
       "99   2020-06-08  27.430000  28.860001  27.240000  28.469999   8074100   \n",
       "100  2020-06-09  29.680000  30.879999  29.370001  30.590000  11013600   \n",
       "101  2020-06-10  30.879999  31.740000  28.520000  30.340000  13754700   \n",
       "102  2020-06-11  35.330002  46.650002  33.240002  45.560001  40297200   \n",
       "103  2020-06-12  39.950001  51.000000  38.299999  40.459999  37208700   \n",
       "\n",
       "     Dividends  Stock Splits      gains  \n",
       "4            0             0   0.837990  \n",
       "5            0             0  -0.646350  \n",
       "6            0             0   8.921933  \n",
       "7            0             0  15.614333  \n",
       "8            0             0  -8.634687  \n",
       "..         ...           ...        ...  \n",
       "99           0             0   3.339383  \n",
       "100          0             0   7.446438  \n",
       "101          0             0  -0.817261  \n",
       "102          0             0  50.164803  \n",
       "103          0             0 -11.194035  \n",
       "\n",
       "[100 rows x 9 columns]"
      ]
     },
     "execution_count": 48,
     "metadata": {},
     "output_type": "execute_result"
    }
   ],
   "source": [
    "hist.head(100)"
   ]
  },
  {
   "cell_type": "code",
   "execution_count": 9,
   "id": "involved-supervision",
   "metadata": {},
   "outputs": [
    {
     "data": {
      "text/plain": [
       "<AxesSubplot:>"
      ]
     },
     "execution_count": 9,
     "metadata": {},
     "output_type": "execute_result"
    },
    {
     "data": {
      "image/png": "[encoded data removed]",
      "text/plain": [
       "<Figure size 432x288 with 1 Axes>"
      ]
     },
     "metadata": {
      "needs_background": "light"
     },
     "output_type": "display_data"
    }
   ],
   "source": [
    "hist.gains.plot()"
   ]
  },
  {
   "cell_type": "code",
   "execution_count": 49,
   "id": "rubber-antibody",
   "metadata": {},
   "outputs": [
    {
     "name": "stdout",
     "output_type": "stream",
     "text": [
      "count    296.000000\n",
      "mean       0.227936\n",
      "std        9.385858\n",
      "min      -23.246625\n",
      "25%       -4.964697\n",
      "50%       -1.646283\n",
      "75%        2.876865\n",
      "max       57.477283\n",
      "Name: gains, dtype: float64\n"
     ]
    },
    {
     "data": {
      "text/plain": [
       "count    297.000000\n",
       "mean       0.079308\n",
       "std        1.986308\n",
       "min      -10.942361\n",
       "25%       -0.571488\n",
       "50%        0.189914\n",
       "75%        0.941856\n",
       "max        9.060331\n",
       "Name: gains, dtype: float64"
      ]
     },
     "execution_count": 49,
     "metadata": {},
     "output_type": "execute_result"
    }
   ],
   "source": [
    "print(hist['gains'].describe())\n",
    "spy_hist['gains'].describe()"
   ]
  },
  {
   "cell_type": "code",
   "execution_count": 46,
   "id": "reflected-philip",
   "metadata": {},
   "outputs": [
    {
     "name": "stderr",
     "output_type": "stream",
     "text": [
      "/Library/Frameworks/Python.framework/Versions/3.9/lib/python3.9/site-packages/seaborn/distributions.py:2557: FutureWarning: `distplot` is a deprecated function and will be removed in a future version. Please adapt your code to use either `displot` (a figure-level function with similar flexibility) or `histplot` (an axes-level function for histograms).\n",
      "  warnings.warn(msg, FutureWarning)\n"
     ]
    },
    {
     "data": {
      "text/plain": [
       "<AxesSubplot:xlabel='gains', ylabel='Density'>"
      ]
     },
     "execution_count": 46,
     "metadata": {},
     "output_type": "execute_result"
    },
    {
     "data": {
      "image/png": "[encoded data removed]",
      "text/plain": [
       "<Figure size 432x288 with 1 Axes>"
      ]
     },
     "metadata": {
      "needs_background": "light"
     },
     "output_type": "display_data"
    }
   ],
   "source": [
    "sns.distplot(hist.gains)\n"
   ]
  },
  {
   "cell_type": "code",
   "execution_count": 47,
   "id": "ordered-separation",
   "metadata": {},
   "outputs": [
    {
     "name": "stderr",
     "output_type": "stream",
     "text": [
      "/Library/Frameworks/Python.framework/Versions/3.9/lib/python3.9/site-packages/seaborn/distributions.py:2557: FutureWarning: `distplot` is a deprecated function and will be removed in a future version. Please adapt your code to use either `displot` (a figure-level function with similar flexibility) or `histplot` (an axes-level function for histograms).\n",
      "  warnings.warn(msg, FutureWarning)\n"
     ]
    },
    {
     "data": {
      "text/plain": [
       "<AxesSubplot:xlabel='gains', ylabel='Density'>"
      ]
     },
     "execution_count": 47,
     "metadata": {},
     "output_type": "execute_result"
    },
    {
     "data": {
      "image/png": "[encoded data removed]",
      "text/plain": [
       "<Figure size 432x288 with 1 Axes>"
      ]
     },
     "metadata": {
      "needs_background": "light"
     },
     "output_type": "display_data"
    }
   ],
   "source": [
    "sns.distplot(spy_hist.gains)\n"
   ]
  },
  {
   "cell_type": "code",
   "execution_count": 57,
   "id": "separate-representative",
   "metadata": {},
   "outputs": [
    {
     "name": "stdout",
     "output_type": "stream",
     "text": [
      "[27.4655081  -1.45918225 -6.83576993 24.29492519  5.66813988]\n",
      "偏度： 0.016269205100229715\n",
      "峰值： 2.976825866285774\n",
      "Jarque_beraResult(statistic=1.9947357647227333, pvalue=0.3688490185985914)\n",
      "---------------------\n",
      "偏度： 2.15359581034602\n",
      "峰值： 11.100266738257291\n",
      "Jarque_beraResult(statistic=1038.0500576220836, pvalue=0.0)\n",
      "---------------------\n",
      "偏度： -0.6056812061764232\n",
      "峰值： 10.905933441247416\n",
      "Jarque_beraResult(statistic=791.6433830847578, pvalue=0.0)\n",
      "---------------------\n"
     ]
    }
   ],
   "source": [
    "np.random.seed(987654321)\n",
    "x = np.random.normal(5, 10, 30000)\n",
    "print(x[0:5])\n",
    "\n",
    "def statistical(data):\n",
    "    print(\"偏度：\", st.skew(data))\n",
    "    print(\"峰值：\", st.kurtosis(data)+3)\n",
    "    #print(jarque_bera(hist.gains))\n",
    "    print(st.jarque_bera(data))\n",
    "    print('---------------------')\n",
    "    \n",
    "statistical(x)\n",
    "statistical(hist.gains)\n",
    "statistical(spy_hist.gains)"
   ]
  },
  {
   "cell_type": "code",
   "execution_count": null,
   "id": "resident-volleyball",
   "metadata": {},
   "outputs": [],
   "source": [
    "---"
   ]
  },
  {
   "cell_type": "code",
   "execution_count": 51,
   "id": "soviet-concern",
   "metadata": {},
   "outputs": [
    {
     "data": {
      "text/plain": [
       "0.2887632571568598"
      ]
     },
     "execution_count": 51,
     "metadata": {},
     "output_type": "execute_result"
    }
   ],
   "source": [
    "st.norm.cdf(-5, hist['gains'].mean(), hist['gains'].std())"
   ]
  },
  {
   "cell_type": "code",
   "execution_count": 12,
   "id": "still-shade",
   "metadata": {},
   "outputs": [],
   "source": [
    "spy = yf.Ticker(\"SPY\")\n",
    "spy_hist = spy.history(period=\"300d\")\n"
   ]
  },
  {
   "cell_type": "code",
   "execution_count": 13,
   "id": "copyrighted-attendance",
   "metadata": {},
   "outputs": [
    {
     "data": {
      "text/html": [
       "<div>\n",
       "<style scoped>\n",
       "    .dataframe tbody tr th:only-of-type {\n",
       "        vertical-align: middle;\n",
       "    }\n",
       "\n",
       "    .dataframe tbody tr th {\n",
       "        vertical-align: top;\n",
       "    }\n",
       "\n",
       "    .dataframe thead th {\n",
       "        text-align: right;\n",
       "    }\n",
       "</style>\n",
       "<table border=\"1\" class=\"dataframe\">\n",
       "  <thead>\n",
       "    <tr style=\"text-align: right;\">\n",
       "      <th></th>\n",
       "      <th>Open</th>\n",
       "      <th>High</th>\n",
       "      <th>Low</th>\n",
       "      <th>Close</th>\n",
       "      <th>Volume</th>\n",
       "      <th>Dividends</th>\n",
       "      <th>Stock Splits</th>\n",
       "      <th>gains</th>\n",
       "    </tr>\n",
       "    <tr>\n",
       "      <th>Date</th>\n",
       "      <th></th>\n",
       "      <th></th>\n",
       "      <th></th>\n",
       "      <th></th>\n",
       "      <th></th>\n",
       "      <th></th>\n",
       "      <th></th>\n",
       "      <th></th>\n",
       "    </tr>\n",
       "  </thead>\n",
       "  <tbody>\n",
       "    <tr>\n",
       "      <th>2020-01-15</th>\n",
       "      <td>320.299799</td>\n",
       "      <td>321.933815</td>\n",
       "      <td>320.211741</td>\n",
       "      <td>321.121704</td>\n",
       "      <td>72056600</td>\n",
       "      <td>0.000</td>\n",
       "      <td>0</td>\n",
       "      <td>NaN</td>\n",
       "    </tr>\n",
       "    <tr>\n",
       "      <th>2020-01-16</th>\n",
       "      <td>322.599212</td>\n",
       "      <td>323.792938</td>\n",
       "      <td>322.354597</td>\n",
       "      <td>323.792938</td>\n",
       "      <td>54050300</td>\n",
       "      <td>0.000</td>\n",
       "      <td>0</td>\n",
       "      <td>0.831845</td>\n",
       "    </tr>\n",
       "    <tr>\n",
       "      <th>2020-01-17</th>\n",
       "      <td>324.556166</td>\n",
       "      <td>325.025809</td>\n",
       "      <td>323.724466</td>\n",
       "      <td>324.800781</td>\n",
       "      <td>95846000</td>\n",
       "      <td>0.000</td>\n",
       "      <td>0</td>\n",
       "      <td>0.311262</td>\n",
       "    </tr>\n",
       "    <tr>\n",
       "      <th>2020-01-21</th>\n",
       "      <td>323.773385</td>\n",
       "      <td>325.025817</td>\n",
       "      <td>323.695121</td>\n",
       "      <td>324.164764</td>\n",
       "      <td>77742400</td>\n",
       "      <td>0.000</td>\n",
       "      <td>0</td>\n",
       "      <td>-0.195818</td>\n",
       "    </tr>\n",
       "    <tr>\n",
       "      <th>2020-01-22</th>\n",
       "      <td>325.084468</td>\n",
       "      <td>325.779198</td>\n",
       "      <td>324.037535</td>\n",
       "      <td>324.203857</td>\n",
       "      <td>48914900</td>\n",
       "      <td>0.000</td>\n",
       "      <td>0</td>\n",
       "      <td>0.012060</td>\n",
       "    </tr>\n",
       "    <tr>\n",
       "      <th>...</th>\n",
       "      <td>...</td>\n",
       "      <td>...</td>\n",
       "      <td>...</td>\n",
       "      <td>...</td>\n",
       "      <td>...</td>\n",
       "      <td>...</td>\n",
       "      <td>...</td>\n",
       "      <td>...</td>\n",
       "    </tr>\n",
       "    <tr>\n",
       "      <th>2021-03-18</th>\n",
       "      <td>393.192202</td>\n",
       "      <td>395.424880</td>\n",
       "      <td>389.474368</td>\n",
       "      <td>390.201996</td>\n",
       "      <td>115112500</td>\n",
       "      <td>0.000</td>\n",
       "      <td>0</td>\n",
       "      <td>-1.454969</td>\n",
       "    </tr>\n",
       "    <tr>\n",
       "      <th>2021-03-19</th>\n",
       "      <td>389.880005</td>\n",
       "      <td>391.570007</td>\n",
       "      <td>387.149994</td>\n",
       "      <td>389.480011</td>\n",
       "      <td>112777800</td>\n",
       "      <td>1.278</td>\n",
       "      <td>0</td>\n",
       "      <td>-0.185028</td>\n",
       "    </tr>\n",
       "    <tr>\n",
       "      <th>2021-03-22</th>\n",
       "      <td>390.029999</td>\n",
       "      <td>394.070007</td>\n",
       "      <td>389.970001</td>\n",
       "      <td>392.589996</td>\n",
       "      <td>73778600</td>\n",
       "      <td>0.000</td>\n",
       "      <td>0</td>\n",
       "      <td>0.798497</td>\n",
       "    </tr>\n",
       "    <tr>\n",
       "      <th>2021-03-23</th>\n",
       "      <td>391.910004</td>\n",
       "      <td>393.459991</td>\n",
       "      <td>388.660004</td>\n",
       "      <td>389.500000</td>\n",
       "      <td>90686600</td>\n",
       "      <td>0.000</td>\n",
       "      <td>0</td>\n",
       "      <td>-0.787080</td>\n",
       "    </tr>\n",
       "    <tr>\n",
       "      <th>2021-03-24</th>\n",
       "      <td>391.000000</td>\n",
       "      <td>392.750000</td>\n",
       "      <td>387.470001</td>\n",
       "      <td>387.519989</td>\n",
       "      <td>97449100</td>\n",
       "      <td>0.000</td>\n",
       "      <td>0</td>\n",
       "      <td>-0.508347</td>\n",
       "    </tr>\n",
       "  </tbody>\n",
       "</table>\n",
       "<p>300 rows × 8 columns</p>\n",
       "</div>"
      ],
      "text/plain": [
       "                  Open        High         Low       Close     Volume  \\\n",
       "Date                                                                    \n",
       "2020-01-15  320.299799  321.933815  320.211741  321.121704   72056600   \n",
       "2020-01-16  322.599212  323.792938  322.354597  323.792938   54050300   \n",
       "2020-01-17  324.556166  325.025809  323.724466  324.800781   95846000   \n",
       "2020-01-21  323.773385  325.025817  323.695121  324.164764   77742400   \n",
       "2020-01-22  325.084468  325.779198  324.037535  324.203857   48914900   \n",
       "...                ...         ...         ...         ...        ...   \n",
       "2021-03-18  393.192202  395.424880  389.474368  390.201996  115112500   \n",
       "2021-03-19  389.880005  391.570007  387.149994  389.480011  112777800   \n",
       "2021-03-22  390.029999  394.070007  389.970001  392.589996   73778600   \n",
       "2021-03-23  391.910004  393.459991  388.660004  389.500000   90686600   \n",
       "2021-03-24  391.000000  392.750000  387.470001  387.519989   97449100   \n",
       "\n",
       "            Dividends  Stock Splits     gains  \n",
       "Date                                           \n",
       "2020-01-15      0.000             0       NaN  \n",
       "2020-01-16      0.000             0  0.831845  \n",
       "2020-01-17      0.000             0  0.311262  \n",
       "2020-01-21      0.000             0 -0.195818  \n",
       "2020-01-22      0.000             0  0.012060  \n",
       "...               ...           ...       ...  \n",
       "2021-03-18      0.000             0 -1.454969  \n",
       "2021-03-19      1.278             0 -0.185028  \n",
       "2021-03-22      0.000             0  0.798497  \n",
       "2021-03-23      0.000             0 -0.787080  \n",
       "2021-03-24      0.000             0 -0.508347  \n",
       "\n",
       "[300 rows x 8 columns]"
      ]
     },
     "execution_count": 13,
     "metadata": {},
     "output_type": "execute_result"
    }
   ],
   "source": []
  },
  {
   "cell_type": "code",
   "execution_count": 14,
   "id": "victorian-example",
   "metadata": {},
   "outputs": [
    {
     "data": {
      "text/plain": [
       "count    299.000000\n",
       "mean       0.082600\n",
       "std        1.980154\n",
       "min      -10.942361\n",
       "25%       -0.570392\n",
       "50%        0.210377\n",
       "75%        0.937709\n",
       "max        9.060331\n",
       "Name: gains, dtype: float64"
      ]
     },
     "execution_count": 14,
     "metadata": {},
     "output_type": "execute_result"
    }
   ],
   "source": [
    "spy_hist['gains'].describe()"
   ]
  },
  {
   "cell_type": "code",
   "execution_count": 15,
   "id": "minute-leisure",
   "metadata": {},
   "outputs": [
    {
     "name": "stderr",
     "output_type": "stream",
     "text": [
      "/Library/Frameworks/Python.framework/Versions/3.9/lib/python3.9/site-packages/seaborn/distributions.py:2557: FutureWarning: `distplot` is a deprecated function and will be removed in a future version. Please adapt your code to use either `displot` (a figure-level function with similar flexibility) or `histplot` (an axes-level function for histograms).\n",
      "  warnings.warn(msg, FutureWarning)\n"
     ]
    },
    {
     "data": {
      "text/plain": [
       "<AxesSubplot:xlabel='gains', ylabel='Density'>"
      ]
     },
     "execution_count": 15,
     "metadata": {},
     "output_type": "execute_result"
    },
    {
     "data": {
      "image/png": "[encoded data removed]",
      "text/plain": [
       "<Figure size 432x288 with 1 Axes>"
      ]
     },
     "metadata": {
      "needs_background": "light"
     },
     "output_type": "display_data"
    }
   ],
   "source": [
    "sns.distplot(spy_hist.gains)"
   ]
  },
  {
   "cell_type": "code",
   "execution_count": 16,
   "id": "informational-excuse",
   "metadata": {},
   "outputs": [
    {
     "data": {
      "text/plain": [
       "0.29228376129056566"
      ]
     },
     "execution_count": 16,
     "metadata": {},
     "output_type": "execute_result"
    }
   ],
   "source": [
    "st.norm.cdf(-1, spy_hist['gains'].mean(), spy_hist['gains'].std())"
   ]
  },
  {
   "cell_type": "code",
   "execution_count": 17,
   "id": "wrapped-adelaide",
   "metadata": {},
   "outputs": [
    {
     "data": {
      "text/plain": [
       "<AxesSubplot:xlabel='Date'>"
      ]
     },
     "execution_count": 17,
     "metadata": {},
     "output_type": "execute_result"
    },
    {
     "data": {
      "image/png": "[encoded data removed]",
      "text/plain": [
       "<Figure size 720x720 with 1 Axes>"
      ]
     },
     "metadata": {
      "needs_background": "light"
     },
     "output_type": "display_data"
    }
   ],
   "source": [
    "spy_hist.Close.plot(figsize=(10,10))\n",
    "hist.Close.plot()"
   ]
  },
  {
   "cell_type": "code",
   "execution_count": 18,
   "id": "flying-shade",
   "metadata": {},
   "outputs": [
    {
     "data": {
      "text/plain": [
       "array([[ 1.        , -0.88839309],\n",
       "       [-0.88839309,  1.        ]])"
      ]
     },
     "execution_count": 18,
     "metadata": {},
     "output_type": "execute_result"
    }
   ],
   "source": [
    "np.corrcoef(spy_hist.Close, hist.Close)"
   ]
  },
  {
   "cell_type": "code",
   "execution_count": 19,
   "id": "neither-feature",
   "metadata": {},
   "outputs": [],
   "source": [
    "spy_hist.gains.fillna(0, inplace=True)\n",
    "hist.gains.fillna(0, inplace=True)"
   ]
  },
  {
   "cell_type": "code",
   "execution_count": 20,
   "id": "outstanding-discrimination",
   "metadata": {},
   "outputs": [
    {
     "data": {
      "text/plain": [
       "<AxesSubplot:xlabel='Date'>"
      ]
     },
     "execution_count": 20,
     "metadata": {},
     "output_type": "execute_result"
    },
    {
     "data": {
      "image/png": "[encoded data removed]",
      "text/plain": [
       "<Figure size 432x288 with 1 Axes>"
      ]
     },
     "metadata": {
      "needs_background": "light"
     },
     "output_type": "display_data"
    }
   ],
   "source": [
    "hist.gains.cumsum().plot()\n",
    "spy_hist.gains.cumsum().plot()"
   ]
  },
  {
   "cell_type": "code",
   "execution_count": 21,
   "id": "mechanical-calcium",
   "metadata": {},
   "outputs": [
    {
     "data": {
      "text/html": [
       "<div>\n",
       "<style scoped>\n",
       "    .dataframe tbody tr th:only-of-type {\n",
       "        vertical-align: middle;\n",
       "    }\n",
       "\n",
       "    .dataframe tbody tr th {\n",
       "        vertical-align: top;\n",
       "    }\n",
       "\n",
       "    .dataframe thead th {\n",
       "        text-align: right;\n",
       "    }\n",
       "</style>\n",
       "<table border=\"1\" class=\"dataframe\">\n",
       "  <thead>\n",
       "    <tr style=\"text-align: right;\">\n",
       "      <th></th>\n",
       "      <th>Open</th>\n",
       "      <th>High</th>\n",
       "      <th>Low</th>\n",
       "      <th>Close</th>\n",
       "      <th>Volume</th>\n",
       "      <th>Dividends</th>\n",
       "      <th>Stock Splits</th>\n",
       "      <th>gains</th>\n",
       "      <th>close_diff</th>\n",
       "    </tr>\n",
       "    <tr>\n",
       "      <th>Date</th>\n",
       "      <th></th>\n",
       "      <th></th>\n",
       "      <th></th>\n",
       "      <th></th>\n",
       "      <th></th>\n",
       "      <th></th>\n",
       "      <th></th>\n",
       "      <th></th>\n",
       "      <th></th>\n",
       "    </tr>\n",
       "  </thead>\n",
       "  <tbody>\n",
       "    <tr>\n",
       "      <th>2020-01-16</th>\n",
       "      <td>10.73</td>\n",
       "      <td>10.76</td>\n",
       "      <td>10.52</td>\n",
       "      <td>10.58</td>\n",
       "      <td>12446400</td>\n",
       "      <td>0</td>\n",
       "      <td>0</td>\n",
       "      <td>-3.555153</td>\n",
       "      <td>0.61</td>\n",
       "    </tr>\n",
       "    <tr>\n",
       "      <th>2020-01-17</th>\n",
       "      <td>10.56</td>\n",
       "      <td>10.91</td>\n",
       "      <td>10.54</td>\n",
       "      <td>10.62</td>\n",
       "      <td>12949300</td>\n",
       "      <td>0</td>\n",
       "      <td>0</td>\n",
       "      <td>0.378071</td>\n",
       "      <td>1.04</td>\n",
       "    </tr>\n",
       "    <tr>\n",
       "      <th>2020-01-21</th>\n",
       "      <td>10.82</td>\n",
       "      <td>10.84</td>\n",
       "      <td>10.40</td>\n",
       "      <td>10.74</td>\n",
       "      <td>16445900</td>\n",
       "      <td>0</td>\n",
       "      <td>0</td>\n",
       "      <td>1.129942</td>\n",
       "      <td>1.12</td>\n",
       "    </tr>\n",
       "    <tr>\n",
       "      <th>2020-01-22</th>\n",
       "      <td>10.45</td>\n",
       "      <td>10.86</td>\n",
       "      <td>10.44</td>\n",
       "      <td>10.83</td>\n",
       "      <td>13941100</td>\n",
       "      <td>0</td>\n",
       "      <td>0</td>\n",
       "      <td>0.837990</td>\n",
       "      <td>1.09</td>\n",
       "    </tr>\n",
       "    <tr>\n",
       "      <th>2020-01-23</th>\n",
       "      <td>11.09</td>\n",
       "      <td>11.38</td>\n",
       "      <td>10.75</td>\n",
       "      <td>10.76</td>\n",
       "      <td>17442600</td>\n",
       "      <td>0</td>\n",
       "      <td>0</td>\n",
       "      <td>-0.646350</td>\n",
       "      <td>0.93</td>\n",
       "    </tr>\n",
       "  </tbody>\n",
       "</table>\n",
       "</div>"
      ],
      "text/plain": [
       "             Open   High    Low  Close    Volume  Dividends  Stock Splits  \\\n",
       "Date                                                                        \n",
       "2020-01-16  10.73  10.76  10.52  10.58  12446400          0             0   \n",
       "2020-01-17  10.56  10.91  10.54  10.62  12949300          0             0   \n",
       "2020-01-21  10.82  10.84  10.40  10.74  16445900          0             0   \n",
       "2020-01-22  10.45  10.86  10.44  10.83  13941100          0             0   \n",
       "2020-01-23  11.09  11.38  10.75  10.76  17442600          0             0   \n",
       "\n",
       "               gains  close_diff  \n",
       "Date                              \n",
       "2020-01-16 -3.555153        0.61  \n",
       "2020-01-17  0.378071        1.04  \n",
       "2020-01-21  1.129942        1.12  \n",
       "2020-01-22  0.837990        1.09  \n",
       "2020-01-23 -0.646350        0.93  "
      ]
     },
     "execution_count": 21,
     "metadata": {},
     "output_type": "execute_result"
    }
   ],
   "source": [
    "# 差分\n",
    "hist['close_diff']  = hist.Close - hist.Close.shift(1) + 1\n",
    "spy_hist['close_diff']  = spy_hist.Close - spy_hist.Close.shift(1) + 1\n",
    "\n",
    "hist.dropna(inplace=True)\n",
    "spy_hist.dropna(inplace=True)\n",
    "\n",
    "hist.head()"
   ]
  },
  {
   "cell_type": "code",
   "execution_count": 22,
   "id": "important-height",
   "metadata": {},
   "outputs": [
    {
     "data": {
      "text/html": [
       "<div>\n",
       "<style scoped>\n",
       "    .dataframe tbody tr th:only-of-type {\n",
       "        vertical-align: middle;\n",
       "    }\n",
       "\n",
       "    .dataframe tbody tr th {\n",
       "        vertical-align: top;\n",
       "    }\n",
       "\n",
       "    .dataframe thead th {\n",
       "        text-align: right;\n",
       "    }\n",
       "</style>\n",
       "<table border=\"1\" class=\"dataframe\">\n",
       "  <thead>\n",
       "    <tr style=\"text-align: right;\">\n",
       "      <th></th>\n",
       "      <th>Open</th>\n",
       "      <th>High</th>\n",
       "      <th>Low</th>\n",
       "      <th>Close</th>\n",
       "      <th>Volume</th>\n",
       "      <th>Dividends</th>\n",
       "      <th>Stock Splits</th>\n",
       "      <th>gains</th>\n",
       "      <th>close_diff</th>\n",
       "    </tr>\n",
       "    <tr>\n",
       "      <th>Date</th>\n",
       "      <th></th>\n",
       "      <th></th>\n",
       "      <th></th>\n",
       "      <th></th>\n",
       "      <th></th>\n",
       "      <th></th>\n",
       "      <th></th>\n",
       "      <th></th>\n",
       "      <th></th>\n",
       "    </tr>\n",
       "  </thead>\n",
       "  <tbody>\n",
       "    <tr>\n",
       "      <th>2020-01-16</th>\n",
       "      <td>322.599212</td>\n",
       "      <td>323.792938</td>\n",
       "      <td>322.354597</td>\n",
       "      <td>323.792938</td>\n",
       "      <td>54050300</td>\n",
       "      <td>0.0</td>\n",
       "      <td>0</td>\n",
       "      <td>0.831845</td>\n",
       "      <td>3.671234</td>\n",
       "    </tr>\n",
       "    <tr>\n",
       "      <th>2020-01-17</th>\n",
       "      <td>324.556166</td>\n",
       "      <td>325.025809</td>\n",
       "      <td>323.724466</td>\n",
       "      <td>324.800781</td>\n",
       "      <td>95846000</td>\n",
       "      <td>0.0</td>\n",
       "      <td>0</td>\n",
       "      <td>0.311262</td>\n",
       "      <td>2.007843</td>\n",
       "    </tr>\n",
       "    <tr>\n",
       "      <th>2020-01-21</th>\n",
       "      <td>323.773385</td>\n",
       "      <td>325.025817</td>\n",
       "      <td>323.695121</td>\n",
       "      <td>324.164764</td>\n",
       "      <td>77742400</td>\n",
       "      <td>0.0</td>\n",
       "      <td>0</td>\n",
       "      <td>-0.195818</td>\n",
       "      <td>0.363983</td>\n",
       "    </tr>\n",
       "    <tr>\n",
       "      <th>2020-01-22</th>\n",
       "      <td>325.084468</td>\n",
       "      <td>325.779198</td>\n",
       "      <td>324.037535</td>\n",
       "      <td>324.203857</td>\n",
       "      <td>48914900</td>\n",
       "      <td>0.0</td>\n",
       "      <td>0</td>\n",
       "      <td>0.012060</td>\n",
       "      <td>1.039093</td>\n",
       "    </tr>\n",
       "    <tr>\n",
       "      <th>2020-01-23</th>\n",
       "      <td>323.509193</td>\n",
       "      <td>325.016034</td>\n",
       "      <td>322.315467</td>\n",
       "      <td>324.575714</td>\n",
       "      <td>51963000</td>\n",
       "      <td>0.0</td>\n",
       "      <td>0</td>\n",
       "      <td>0.114698</td>\n",
       "      <td>1.371857</td>\n",
       "    </tr>\n",
       "  </tbody>\n",
       "</table>\n",
       "</div>"
      ],
      "text/plain": [
       "                  Open        High         Low       Close    Volume  \\\n",
       "Date                                                                   \n",
       "2020-01-16  322.599212  323.792938  322.354597  323.792938  54050300   \n",
       "2020-01-17  324.556166  325.025809  323.724466  324.800781  95846000   \n",
       "2020-01-21  323.773385  325.025817  323.695121  324.164764  77742400   \n",
       "2020-01-22  325.084468  325.779198  324.037535  324.203857  48914900   \n",
       "2020-01-23  323.509193  325.016034  322.315467  324.575714  51963000   \n",
       "\n",
       "            Dividends  Stock Splits     gains  close_diff  \n",
       "Date                                                       \n",
       "2020-01-16        0.0             0  0.831845    3.671234  \n",
       "2020-01-17        0.0             0  0.311262    2.007843  \n",
       "2020-01-21        0.0             0 -0.195818    0.363983  \n",
       "2020-01-22        0.0             0  0.012060    1.039093  \n",
       "2020-01-23        0.0             0  0.114698    1.371857  "
      ]
     },
     "execution_count": 22,
     "metadata": {},
     "output_type": "execute_result"
    }
   ],
   "source": [
    "spy_hist.head()"
   ]
  },
  {
   "cell_type": "code",
   "execution_count": 23,
   "id": "requested-intermediate",
   "metadata": {
    "scrolled": true
   },
   "outputs": [
    {
     "name": "stdout",
     "output_type": "stream",
     "text": [
      "-4.7325797104661 0.0004952253939702834\n",
      "-3.262491808821162 0.060083867608831686\n",
      "-11.733539954142985 1.5500547562304306e-20\n"
     ]
    }
   ],
   "source": [
    "score, pvalue, _ = coint(hist.gains, spy_hist.gains)\n",
    "print(score, pvalue)\n",
    "\n",
    "score, pvalue, _ = coint(hist.Close, spy_hist.Close)\n",
    "print(score, pvalue)\n",
    "\n",
    "score, pvalue, _ = coint(hist.close_diff, spy_hist.close_diff)\n",
    "print(score, pvalue)"
   ]
  },
  {
   "cell_type": "code",
   "execution_count": 24,
   "id": "covered-breach",
   "metadata": {},
   "outputs": [
    {
     "name": "stdout",
     "output_type": "stream",
     "text": [
      "[[ 1.         -0.88992982]\n",
      " [-0.88992982  1.        ]]\n",
      "[[ 1.         -0.68694075]\n",
      " [-0.68694075  1.        ]]\n",
      "[[ 1.         -0.76804617]\n",
      " [-0.76804617  1.        ]]\n"
     ]
    }
   ],
   "source": [
    "print(np.corrcoef(hist.Close, spy_hist.Close))\n",
    "print(np.corrcoef(hist.close_diff, spy_hist.close_diff))\n",
    "print(np.corrcoef(spy_hist.gains, hist.gains))"
   ]
  },
  {
   "cell_type": "code",
   "execution_count": 25,
   "id": "technical-devices",
   "metadata": {},
   "outputs": [],
   "source": [
    "hist.reset_index(inplace=True)\n",
    "spy_hist.reset_index(inplace=True)"
   ]
  },
  {
   "cell_type": "code",
   "execution_count": 26,
   "id": "seventh-wedding",
   "metadata": {},
   "outputs": [
    {
     "data": {
      "text/html": [
       "<div>\n",
       "<style scoped>\n",
       "    .dataframe tbody tr th:only-of-type {\n",
       "        vertical-align: middle;\n",
       "    }\n",
       "\n",
       "    .dataframe tbody tr th {\n",
       "        vertical-align: top;\n",
       "    }\n",
       "\n",
       "    .dataframe thead th {\n",
       "        text-align: right;\n",
       "    }\n",
       "</style>\n",
       "<table border=\"1\" class=\"dataframe\">\n",
       "  <thead>\n",
       "    <tr style=\"text-align: right;\">\n",
       "      <th></th>\n",
       "      <th>gains_uvxy</th>\n",
       "      <th>Close_uvxy</th>\n",
       "      <th>close_diff_uvxy</th>\n",
       "      <th>gains_spy</th>\n",
       "      <th>Close_spy</th>\n",
       "      <th>close_diff_spy</th>\n",
       "    </tr>\n",
       "    <tr>\n",
       "      <th>Date</th>\n",
       "      <th></th>\n",
       "      <th></th>\n",
       "      <th></th>\n",
       "      <th></th>\n",
       "      <th></th>\n",
       "      <th></th>\n",
       "    </tr>\n",
       "  </thead>\n",
       "  <tbody>\n",
       "    <tr>\n",
       "      <th>2020-01-16</th>\n",
       "      <td>-3.555153</td>\n",
       "      <td>10.58</td>\n",
       "      <td>0.61</td>\n",
       "      <td>0.831845</td>\n",
       "      <td>323.792938</td>\n",
       "      <td>3.671234</td>\n",
       "    </tr>\n",
       "    <tr>\n",
       "      <th>2020-01-17</th>\n",
       "      <td>0.378071</td>\n",
       "      <td>10.62</td>\n",
       "      <td>1.04</td>\n",
       "      <td>0.311262</td>\n",
       "      <td>324.800781</td>\n",
       "      <td>2.007843</td>\n",
       "    </tr>\n",
       "    <tr>\n",
       "      <th>2020-01-21</th>\n",
       "      <td>1.129942</td>\n",
       "      <td>10.74</td>\n",
       "      <td>1.12</td>\n",
       "      <td>-0.195818</td>\n",
       "      <td>324.164764</td>\n",
       "      <td>0.363983</td>\n",
       "    </tr>\n",
       "    <tr>\n",
       "      <th>2020-01-22</th>\n",
       "      <td>0.837990</td>\n",
       "      <td>10.83</td>\n",
       "      <td>1.09</td>\n",
       "      <td>0.012060</td>\n",
       "      <td>324.203857</td>\n",
       "      <td>1.039093</td>\n",
       "    </tr>\n",
       "    <tr>\n",
       "      <th>2020-01-23</th>\n",
       "      <td>-0.646350</td>\n",
       "      <td>10.76</td>\n",
       "      <td>0.93</td>\n",
       "      <td>0.114698</td>\n",
       "      <td>324.575714</td>\n",
       "      <td>1.371857</td>\n",
       "    </tr>\n",
       "    <tr>\n",
       "      <th>...</th>\n",
       "      <td>...</td>\n",
       "      <td>...</td>\n",
       "      <td>...</td>\n",
       "      <td>...</td>\n",
       "      <td>...</td>\n",
       "      <td>...</td>\n",
       "    </tr>\n",
       "    <tr>\n",
       "      <th>2021-03-18</th>\n",
       "      <td>8.510638</td>\n",
       "      <td>7.14</td>\n",
       "      <td>1.56</td>\n",
       "      <td>-1.454969</td>\n",
       "      <td>390.201996</td>\n",
       "      <td>-4.761139</td>\n",
       "    </tr>\n",
       "    <tr>\n",
       "      <th>2021-03-19</th>\n",
       "      <td>-5.882354</td>\n",
       "      <td>6.72</td>\n",
       "      <td>0.58</td>\n",
       "      <td>-0.185028</td>\n",
       "      <td>389.480011</td>\n",
       "      <td>0.278015</td>\n",
       "    </tr>\n",
       "    <tr>\n",
       "      <th>2021-03-22</th>\n",
       "      <td>-9.970232</td>\n",
       "      <td>6.05</td>\n",
       "      <td>0.33</td>\n",
       "      <td>0.798497</td>\n",
       "      <td>392.589996</td>\n",
       "      <td>4.109985</td>\n",
       "    </tr>\n",
       "    <tr>\n",
       "      <th>2021-03-23</th>\n",
       "      <td>7.438013</td>\n",
       "      <td>6.50</td>\n",
       "      <td>1.45</td>\n",
       "      <td>-0.787080</td>\n",
       "      <td>389.500000</td>\n",
       "      <td>-2.089996</td>\n",
       "    </tr>\n",
       "    <tr>\n",
       "      <th>2021-03-24</th>\n",
       "      <td>0.923076</td>\n",
       "      <td>6.56</td>\n",
       "      <td>1.06</td>\n",
       "      <td>-0.508347</td>\n",
       "      <td>387.519989</td>\n",
       "      <td>-0.980011</td>\n",
       "    </tr>\n",
       "  </tbody>\n",
       "</table>\n",
       "<p>299 rows × 6 columns</p>\n",
       "</div>"
      ],
      "text/plain": [
       "            gains_uvxy  Close_uvxy  close_diff_uvxy  gains_spy   Close_spy  \\\n",
       "Date                                                                         \n",
       "2020-01-16   -3.555153       10.58             0.61   0.831845  323.792938   \n",
       "2020-01-17    0.378071       10.62             1.04   0.311262  324.800781   \n",
       "2020-01-21    1.129942       10.74             1.12  -0.195818  324.164764   \n",
       "2020-01-22    0.837990       10.83             1.09   0.012060  324.203857   \n",
       "2020-01-23   -0.646350       10.76             0.93   0.114698  324.575714   \n",
       "...                ...         ...              ...        ...         ...   \n",
       "2021-03-18    8.510638        7.14             1.56  -1.454969  390.201996   \n",
       "2021-03-19   -5.882354        6.72             0.58  -0.185028  389.480011   \n",
       "2021-03-22   -9.970232        6.05             0.33   0.798497  392.589996   \n",
       "2021-03-23    7.438013        6.50             1.45  -0.787080  389.500000   \n",
       "2021-03-24    0.923076        6.56             1.06  -0.508347  387.519989   \n",
       "\n",
       "            close_diff_spy  \n",
       "Date                        \n",
       "2020-01-16        3.671234  \n",
       "2020-01-17        2.007843  \n",
       "2020-01-21        0.363983  \n",
       "2020-01-22        1.039093  \n",
       "2020-01-23        1.371857  \n",
       "...                    ...  \n",
       "2021-03-18       -4.761139  \n",
       "2021-03-19        0.278015  \n",
       "2021-03-22        4.109985  \n",
       "2021-03-23       -2.089996  \n",
       "2021-03-24       -0.980011  \n",
       "\n",
       "[299 rows x 6 columns]"
      ]
     },
     "execution_count": 26,
     "metadata": {},
     "output_type": "execute_result"
    }
   ],
   "source": [
    "col = ['Date','gains','Close','close_diff']\n",
    "data = pd.merge(hist[col], spy_hist[col],suffixes=['_uvxy','_spy'], on='Date')\n",
    "data.set_index(keys='Date')"
   ]
  },
  {
   "cell_type": "code",
   "execution_count": 27,
   "id": "southern-tragedy",
   "metadata": {},
   "outputs": [
    {
     "data": {
      "text/html": [
       "<div>\n",
       "<style scoped>\n",
       "    .dataframe tbody tr th:only-of-type {\n",
       "        vertical-align: middle;\n",
       "    }\n",
       "\n",
       "    .dataframe tbody tr th {\n",
       "        vertical-align: top;\n",
       "    }\n",
       "\n",
       "    .dataframe thead th {\n",
       "        text-align: right;\n",
       "    }\n",
       "</style>\n",
       "<table border=\"1\" class=\"dataframe\">\n",
       "  <thead>\n",
       "    <tr style=\"text-align: right;\">\n",
       "      <th></th>\n",
       "      <th>Date</th>\n",
       "      <th>gains_uvxy</th>\n",
       "      <th>Close_uvxy</th>\n",
       "      <th>close_diff_uvxy</th>\n",
       "      <th>gains_spy</th>\n",
       "      <th>Close_spy</th>\n",
       "      <th>close_diff_spy</th>\n",
       "      <th>rate</th>\n",
       "    </tr>\n",
       "  </thead>\n",
       "  <tbody>\n",
       "    <tr>\n",
       "      <th>1</th>\n",
       "      <td>2020-01-17</td>\n",
       "      <td>0.378071</td>\n",
       "      <td>10.62</td>\n",
       "      <td>1.04</td>\n",
       "      <td>0.311262</td>\n",
       "      <td>324.800781</td>\n",
       "      <td>2.007843</td>\n",
       "      <td>0.066810</td>\n",
       "    </tr>\n",
       "    <tr>\n",
       "      <th>2</th>\n",
       "      <td>2020-01-21</td>\n",
       "      <td>1.129942</td>\n",
       "      <td>10.74</td>\n",
       "      <td>1.12</td>\n",
       "      <td>-0.195818</td>\n",
       "      <td>324.164764</td>\n",
       "      <td>0.363983</td>\n",
       "      <td>1.325760</td>\n",
       "    </tr>\n",
       "    <tr>\n",
       "      <th>3</th>\n",
       "      <td>2020-01-22</td>\n",
       "      <td>0.837990</td>\n",
       "      <td>10.83</td>\n",
       "      <td>1.09</td>\n",
       "      <td>0.012060</td>\n",
       "      <td>324.203857</td>\n",
       "      <td>1.039093</td>\n",
       "      <td>0.825931</td>\n",
       "    </tr>\n",
       "    <tr>\n",
       "      <th>5</th>\n",
       "      <td>2020-01-24</td>\n",
       "      <td>8.921933</td>\n",
       "      <td>11.72</td>\n",
       "      <td>1.96</td>\n",
       "      <td>-0.889316</td>\n",
       "      <td>321.689209</td>\n",
       "      <td>-1.886505</td>\n",
       "      <td>9.811250</td>\n",
       "    </tr>\n",
       "    <tr>\n",
       "      <th>6</th>\n",
       "      <td>2020-01-27</td>\n",
       "      <td>15.614333</td>\n",
       "      <td>13.55</td>\n",
       "      <td>2.83</td>\n",
       "      <td>-1.602933</td>\n",
       "      <td>316.532745</td>\n",
       "      <td>-4.156464</td>\n",
       "      <td>17.217267</td>\n",
       "    </tr>\n",
       "    <tr>\n",
       "      <th>...</th>\n",
       "      <td>...</td>\n",
       "      <td>...</td>\n",
       "      <td>...</td>\n",
       "      <td>...</td>\n",
       "      <td>...</td>\n",
       "      <td>...</td>\n",
       "      <td>...</td>\n",
       "      <td>...</td>\n",
       "    </tr>\n",
       "    <tr>\n",
       "      <th>286</th>\n",
       "      <td>2021-03-08</td>\n",
       "      <td>2.293576</td>\n",
       "      <td>8.92</td>\n",
       "      <td>1.20</td>\n",
       "      <td>-0.497879</td>\n",
       "      <td>380.473846</td>\n",
       "      <td>-0.903778</td>\n",
       "      <td>2.791455</td>\n",
       "    </tr>\n",
       "    <tr>\n",
       "      <th>292</th>\n",
       "      <td>2021-03-16</td>\n",
       "      <td>0.000000</td>\n",
       "      <td>7.06</td>\n",
       "      <td>1.00</td>\n",
       "      <td>-0.126136</td>\n",
       "      <td>394.617523</td>\n",
       "      <td>0.501617</td>\n",
       "      <td>0.126136</td>\n",
       "    </tr>\n",
       "    <tr>\n",
       "      <th>294</th>\n",
       "      <td>2021-03-18</td>\n",
       "      <td>8.510638</td>\n",
       "      <td>7.14</td>\n",
       "      <td>1.56</td>\n",
       "      <td>-1.454969</td>\n",
       "      <td>390.201996</td>\n",
       "      <td>-4.761139</td>\n",
       "      <td>9.965606</td>\n",
       "    </tr>\n",
       "    <tr>\n",
       "      <th>297</th>\n",
       "      <td>2021-03-23</td>\n",
       "      <td>7.438013</td>\n",
       "      <td>6.50</td>\n",
       "      <td>1.45</td>\n",
       "      <td>-0.787080</td>\n",
       "      <td>389.500000</td>\n",
       "      <td>-2.089996</td>\n",
       "      <td>8.225093</td>\n",
       "    </tr>\n",
       "    <tr>\n",
       "      <th>298</th>\n",
       "      <td>2021-03-24</td>\n",
       "      <td>0.923076</td>\n",
       "      <td>6.56</td>\n",
       "      <td>1.06</td>\n",
       "      <td>-0.508347</td>\n",
       "      <td>387.519989</td>\n",
       "      <td>-0.980011</td>\n",
       "      <td>1.431423</td>\n",
       "    </tr>\n",
       "  </tbody>\n",
       "</table>\n",
       "<p>119 rows × 8 columns</p>\n",
       "</div>"
      ],
      "text/plain": [
       "          Date  gains_uvxy  Close_uvxy  close_diff_uvxy  gains_spy  \\\n",
       "1   2020-01-17    0.378071       10.62             1.04   0.311262   \n",
       "2   2020-01-21    1.129942       10.74             1.12  -0.195818   \n",
       "3   2020-01-22    0.837990       10.83             1.09   0.012060   \n",
       "5   2020-01-24    8.921933       11.72             1.96  -0.889316   \n",
       "6   2020-01-27   15.614333       13.55             2.83  -1.602933   \n",
       "..         ...         ...         ...              ...        ...   \n",
       "286 2021-03-08    2.293576        8.92             1.20  -0.497879   \n",
       "292 2021-03-16    0.000000        7.06             1.00  -0.126136   \n",
       "294 2021-03-18    8.510638        7.14             1.56  -1.454969   \n",
       "297 2021-03-23    7.438013        6.50             1.45  -0.787080   \n",
       "298 2021-03-24    0.923076        6.56             1.06  -0.508347   \n",
       "\n",
       "      Close_spy  close_diff_spy       rate  \n",
       "1    324.800781        2.007843   0.066810  \n",
       "2    324.164764        0.363983   1.325760  \n",
       "3    324.203857        1.039093   0.825931  \n",
       "5    321.689209       -1.886505   9.811250  \n",
       "6    316.532745       -4.156464  17.217267  \n",
       "..          ...             ...        ...  \n",
       "286  380.473846       -0.903778   2.791455  \n",
       "292  394.617523        0.501617   0.126136  \n",
       "294  390.201996       -4.761139   9.965606  \n",
       "297  389.500000       -2.089996   8.225093  \n",
       "298  387.519989       -0.980011   1.431423  \n",
       "\n",
       "[119 rows x 8 columns]"
      ]
     },
     "execution_count": 27,
     "metadata": {},
     "output_type": "execute_result"
    }
   ],
   "source": [
    "# data['rate'] = (data.gains_uvxy+0.1) / (data.gains_spy+0.1)\n",
    "data['rate'] = data.gains_uvxy - data.gains_spy\n",
    "# data['rate'] = data.close_diff_uvxy - data.close_diff_spy\n",
    "\n",
    "data[data['rate']>0]"
   ]
  },
  {
   "cell_type": "code",
   "execution_count": 28,
   "id": "forward-kingston",
   "metadata": {},
   "outputs": [
    {
     "data": {
      "text/plain": [
       "count    299.000000\n",
       "mean       0.136202\n",
       "std       10.935831\n",
       "min      -22.688243\n",
       "25%       -5.503552\n",
       "50%       -1.922432\n",
       "75%        2.999818\n",
       "max       68.419644\n",
       "Name: rate, dtype: float64"
      ]
     },
     "execution_count": 28,
     "metadata": {},
     "output_type": "execute_result"
    }
   ],
   "source": [
    "data.rate.describe()"
   ]
  },
  {
   "cell_type": "code",
   "execution_count": 29,
   "id": "controlled-clarity",
   "metadata": {},
   "outputs": [
    {
     "name": "stderr",
     "output_type": "stream",
     "text": [
      "/Library/Frameworks/Python.framework/Versions/3.9/lib/python3.9/site-packages/seaborn/distributions.py:2557: FutureWarning: `distplot` is a deprecated function and will be removed in a future version. Please adapt your code to use either `displot` (a figure-level function with similar flexibility) or `histplot` (an axes-level function for histograms).\n",
      "  warnings.warn(msg, FutureWarning)\n"
     ]
    },
    {
     "data": {
      "text/plain": [
       "<AxesSubplot:xlabel='rate', ylabel='Density'>"
      ]
     },
     "execution_count": 29,
     "metadata": {},
     "output_type": "execute_result"
    },
    {
     "data": {
      "image/png": "[encoded data removed]",
      "text/plain": [
       "<Figure size 432x288 with 1 Axes>"
      ]
     },
     "metadata": {
      "needs_background": "light"
     },
     "output_type": "display_data"
    }
   ],
   "source": [
    "sns.distplot(data.rate)"
   ]
  },
  {
   "cell_type": "code",
   "execution_count": 30,
   "id": "breeding-pendant",
   "metadata": {},
   "outputs": [
    {
     "data": {
      "text/plain": [
       "Date               0\n",
       "gains_uvxy         0\n",
       "Close_uvxy         0\n",
       "close_diff_uvxy    0\n",
       "gains_spy          0\n",
       "Close_spy          0\n",
       "close_diff_spy     0\n",
       "rate               0\n",
       "dtype: int64"
      ]
     },
     "execution_count": 30,
     "metadata": {},
     "output_type": "execute_result"
    }
   ],
   "source": [
    "data.fillna(0,inplace=True)\n",
    "data.isna().sum()"
   ]
  },
  {
   "cell_type": "code",
   "execution_count": 31,
   "id": "listed-scene",
   "metadata": {},
   "outputs": [
    {
     "name": "stdout",
     "output_type": "stream",
     "text": [
      "2\n"
     ]
    },
    {
     "data": {
      "text/plain": [
       "2"
      ]
     },
     "execution_count": 31,
     "metadata": {},
     "output_type": "execute_result"
    }
   ],
   "source": [
    "print((data.rate>50).sum())\n",
    "# data = data[abs(data['rate'])<50]\n",
    "(data.rate>50).sum()"
   ]
  },
  {
   "cell_type": "markdown",
   "id": "biblical-means",
   "metadata": {},
   "source": [
    "data.rate.plot()\n",
    "plt.axhline(data.rate.mean(), color='red', linestyle='--') "
   ]
  },
  {
   "cell_type": "code",
   "execution_count": 32,
   "id": "conceptual-aircraft",
   "metadata": {},
   "outputs": [
    {
     "name": "stdout",
     "output_type": "stream",
     "text": [
      "0.13620168975453678 10.93583084850419\n"
     ]
    },
    {
     "data": {
      "image/png": "[encoded data removed]",
      "text/plain": [
       "<Figure size 720x720 with 1 Axes>"
      ]
     },
     "metadata": {
      "needs_background": "light"
     },
     "output_type": "display_data"
    }
   ],
   "source": [
    "def zscore(series):\n",
    "    print(series.mean(), series.std())\n",
    "    return (series - series.mean()) / np.std(series)\n",
    "\n",
    "z_score = zscore(data.rate)\n",
    "z_score.plot(figsize=(10,10))\n",
    "plt.axhline(z_score.mean())\n",
    "plt.axhline(1.0, color='red')\n",
    "plt.axhline(-1.0, color='green')\n",
    "plt.show()"
   ]
  },
  {
   "cell_type": "markdown",
   "id": "alien-register",
   "metadata": {},
   "source": [
    "# 开始预测"
   ]
  },
  {
   "cell_type": "code",
   "execution_count": 33,
   "id": "intensive-metallic",
   "metadata": {},
   "outputs": [
    {
     "name": "stdout",
     "output_type": "stream",
     "text": [
      "(299,)\n",
      "(200,) (99,)\n"
     ]
    },
    {
     "data": {
      "image/png": "[encoded data removed]",
      "text/plain": [
       "<Figure size 1080x504 with 1 Axes>"
      ]
     },
     "metadata": {
      "needs_background": "light"
     },
     "output_type": "display_data"
    }
   ],
   "source": [
    "print(z_score.shape)\n",
    "train = z_score[:200]\n",
    "test = z_score[200:]\n",
    "print(train.shape, test.shape)\n",
    "\n",
    "plt.figure(figsize=(15,7))\n",
    "train.plot()\n",
    "\n",
    "buy = train.copy()\n",
    "sell = train.copy()\n",
    "\n",
    "# buy[train>-1] = 0\n",
    "# sell[train<1] = 0\n",
    "buy[~((data['gains_uvxy']>-1) & (data['gains_spy']>0))] = 0\n",
    "sell[~((data['gains_uvxy']<1) & (data['gains_spy']<0))] = 0\n",
    "\n",
    "\n",
    "\n",
    "buy.plot(color='g', linestyle='None', marker='^')\n",
    "sell.plot(color='r', linestyle='None', marker='^')\n",
    "x1,x2,y1,y2 = plt.axis()\n",
    "# plt.axis((x1,x2,data.rate.min(),data.rate.max()))\n",
    "plt.legend(['Ratio', 'Buy Signal', 'Sell Signal'])\n",
    "plt.show()"
   ]
  },
  {
   "cell_type": "code",
   "execution_count": 34,
   "id": "stretch-credit",
   "metadata": {},
   "outputs": [
    {
     "data": {
      "image/png": "[encoded data removed]",
      "text/plain": [
       "<Figure size 720x720 with 1 Axes>"
      ]
     },
     "metadata": {
      "needs_background": "light"
     },
     "output_type": "display_data"
    }
   ],
   "source": [
    "# Plot the prices and buy and sell signals from z score\n",
    "plt.figure(figsize=(10,10))\n",
    "S1 = hist.iloc[:200].Close\n",
    "S2 = spy_hist.iloc[:200].Close\n",
    "\n",
    "S1.plot(color='b')\n",
    "S2.plot(color='c')\n",
    "\n",
    "buyR = 0*S1.copy()\n",
    "sellR = 0*S1.copy()\n",
    "\n",
    "# When buying the ratio, buy S1 and sell S2\n",
    "buyR[buy!=0] = S1[buy!=0]\n",
    "sellR[buy!=0] = S2[buy!=0]\n",
    "# When selling the ratio, sell S1 and buy S2 \n",
    "buyR[sell!=0] = S2[sell!=0]\n",
    "sellR[sell!=0] = S1[sell!=0]\n",
    "\n",
    "buyR.plot(color='g', linestyle='None', marker='^')\n",
    "# sellR.plot(color='r', linestyle='None', marker='^')\n",
    "\n",
    "x1,x2,y1,y2 = plt.axis()\n",
    "plt.axis((x1,x2,min(S1.min(),S2.min()),max(S1.max(),S2.max())))\n",
    "plt.legend(['UVXY','SPY', 'Buy Signal', 'Sell Signal'])\n",
    "plt.show()"
   ]
  },
  {
   "cell_type": "code",
   "execution_count": 40,
   "id": "loved-contributor",
   "metadata": {},
   "outputs": [
    {
     "name": "stdout",
     "output_type": "stream",
     "text": [
      "Selling volatility 2020-02-26 00:00:00 at 17.420000 0.000000 -1 0\n",
      "Selling volatility 2020-03-20 00:00:00 at 91.110001 -73.690001 -2 0\n",
      "Selling volatility 2020-03-23 00:00:00 at 69.930000 -31.330000 -3 0\n",
      "Buying volatility 2020-03-25 00:00:00 at 68.000000 -25.539999 1 0\n",
      "Selling volatility 2020-03-31 00:00:00 at 58.560001 -34.979998 -1 0\n",
      "Selling volatility 2020-04-03 00:00:00 at 56.590000 -33.009996 -2 0\n",
      "Buying volatility 2020-04-07 00:00:00 at 52.700001 -25.229998 1 0\n",
      "Selling volatility 2020-04-13 00:00:00 at 47.799999 -30.129999 -1 0\n",
      "Selling volatility 2020-04-23 00:00:00 at 53.099998 -35.429998 -2 0\n",
      "Selling volatility 2020-06-04 00:00:00 at 29.980000 10.809999 -3 0\n",
      "Buying volatility 2020-06-08 00:00:00 at 28.469999 15.340000 1 0\n",
      "Selling volatility 2020-06-10 00:00:00 at 30.340000 17.210001 -1 0\n",
      "Selling volatility 2020-06-17 00:00:00 at 37.529999 10.020002 -2 0\n",
      "Selling volatility 2020-07-16 00:00:00 at 29.500000 26.080000 -3 0\n",
      "Buying volatility 2020-07-21 00:00:00 at 26.299999 35.680002 1 0\n",
      "Selling volatility 2020-07-28 00:00:00 at 25.820000 35.200003 -1 0\n",
      "Selling volatility 2020-08-13 00:00:00 at 21.030001 39.990002 -2 0\n",
      "Buying volatility 2020-08-26 00:00:00 at 20.309999 41.430004 1 0\n",
      "Buying volatility 2020-08-27 00:00:00 at 21.230000 42.350004 2 0\n",
      "Buying volatility 2020-09-01 00:00:00 at 23.240000 46.370005 3 0\n",
      "Buying volatility 2020-09-02 00:00:00 at 24.080000 48.890005 4 0\n",
      "Selling volatility 2020-09-04 00:00:00 at 25.299999 53.770002 -1 0\n",
      "Selling volatility 2020-09-08 00:00:00 at 24.320000 54.750002 -2 0\n",
      "Selling volatility 2020-09-16 00:00:00 at 20.059999 63.270002 -3 0\n",
      "Selling volatility 2020-09-17 00:00:00 at 19.450001 65.099998 -4 0\n",
      "Selling volatility 2020-09-18 00:00:00 at 19.410000 65.260002 -5 0\n",
      "Buying volatility 2020-09-22 00:00:00 at 20.549999 59.560005 1 0\n",
      "Selling volatility 2020-09-29 00:00:00 at 20.030001 59.040007 -1 0\n",
      "Selling volatility 2020-10-14 00:00:00 at 16.440001 62.630007 -2 0\n",
      "Selling volatility 2020-10-21 00:00:00 at 17.270000 60.970007 -3 0\n"
     ]
    },
    {
     "data": {
      "text/plain": [
       "50.740007400512695"
      ]
     },
     "execution_count": 40,
     "metadata": {},
     "output_type": "execute_result"
    }
   ],
   "source": [
    "# Trade using a simple strategy\n",
    "def trade(data, window1, window2):\n",
    "    \n",
    "    S1 = data['gains_uvxy']\n",
    "    S2 = data['gains_spy']\n",
    "    \n",
    "    close = data['Close_uvxy']\n",
    "    date = data['Date']\n",
    "    # If window length is 0, algorithm doesn't make sense, so exit\n",
    "    if (window1 == 0) or (window2 == 0):\n",
    "        return 0\n",
    "    \n",
    "    # Compute rolling mean and rolling standard deviation\n",
    "    \n",
    "    # Simulate trading\n",
    "    # Start with no money and no positions\n",
    "    money = 0\n",
    "    countS1 = 0\n",
    "    countS2 = 0\n",
    "    for i in range(len(S1)):\n",
    "        # buy\n",
    "        if S1[i]>1 and S2[i]>0:\n",
    "          \n",
    "            if countS1<0:\n",
    "                money -= close[i]*abs(countS1)\n",
    "                countS1 = 0\n",
    "            \n",
    "            money -= close[i]\n",
    "            countS1 += 1\n",
    "                \n",
    "            print('Buying volatility %s at %f %f %s %s'%(date[i], close[i], money+countS1*close[i], countS1,countS2))\n",
    "        elif S1[i]<0 and S2[i]<0:\n",
    "            if countS1>0:\n",
    "                money += close[i] * countS1\n",
    "                countS1 = 0\n",
    "            \n",
    "            money += close[i]\n",
    "            countS1 -= 1\n",
    "                \n",
    "            print('Selling volatility %s at %f %f %s %s'%(date[i], close[i], money+countS1*close[i], countS1,countS2))\n",
    "            \n",
    "   \n",
    "            \n",
    "    return money+countS1*close.iloc[-1]\n",
    "trade(data.iloc[:200], 5, 60)"
   ]
  },
  {
   "cell_type": "code",
   "execution_count": 42,
   "id": "seasonal-promise",
   "metadata": {},
   "outputs": [
    {
     "data": {
      "text/html": [
       "<div>\n",
       "<style scoped>\n",
       "    .dataframe tbody tr th:only-of-type {\n",
       "        vertical-align: middle;\n",
       "    }\n",
       "\n",
       "    .dataframe tbody tr th {\n",
       "        vertical-align: top;\n",
       "    }\n",
       "\n",
       "    .dataframe thead th {\n",
       "        text-align: right;\n",
       "    }\n",
       "</style>\n",
       "<table border=\"1\" class=\"dataframe\">\n",
       "  <thead>\n",
       "    <tr style=\"text-align: right;\">\n",
       "      <th></th>\n",
       "      <th>Date</th>\n",
       "      <th>gains_uvxy</th>\n",
       "      <th>Close_uvxy</th>\n",
       "      <th>close_diff_uvxy</th>\n",
       "      <th>gains_spy</th>\n",
       "      <th>Close_spy</th>\n",
       "      <th>close_diff_spy</th>\n",
       "      <th>rate</th>\n",
       "    </tr>\n",
       "  </thead>\n",
       "  <tbody>\n",
       "    <tr>\n",
       "      <th>47</th>\n",
       "      <td>2020-03-25</td>\n",
       "      <td>12.582779</td>\n",
       "      <td>68.0</td>\n",
       "      <td>8.599998</td>\n",
       "      <td>1.497019</td>\n",
       "      <td>242.894791</td>\n",
       "      <td>4.58255</td>\n",
       "      <td>11.085759</td>\n",
       "    </tr>\n",
       "  </tbody>\n",
       "</table>\n",
       "</div>"
      ],
      "text/plain": [
       "         Date  gains_uvxy  Close_uvxy  close_diff_uvxy  gains_spy   Close_spy  \\\n",
       "47 2020-03-25   12.582779        68.0         8.599998   1.497019  242.894791   \n",
       "\n",
       "    close_diff_spy       rate  \n",
       "47         4.58255  11.085759  "
      ]
     },
     "execution_count": 42,
     "metadata": {},
     "output_type": "execute_result"
    }
   ],
   "source": [
    "data[hist['Date'] == \"2020-03-25\"]"
   ]
  },
  {
   "cell_type": "code",
   "execution_count": 43,
   "id": "parliamentary-camping",
   "metadata": {},
   "outputs": [
    {
     "data": {
      "text/html": [
       "<div>\n",
       "<style scoped>\n",
       "    .dataframe tbody tr th:only-of-type {\n",
       "        vertical-align: middle;\n",
       "    }\n",
       "\n",
       "    .dataframe tbody tr th {\n",
       "        vertical-align: top;\n",
       "    }\n",
       "\n",
       "    .dataframe thead th {\n",
       "        text-align: right;\n",
       "    }\n",
       "</style>\n",
       "<table border=\"1\" class=\"dataframe\">\n",
       "  <thead>\n",
       "    <tr style=\"text-align: right;\">\n",
       "      <th></th>\n",
       "      <th>Date</th>\n",
       "      <th>gains_uvxy</th>\n",
       "      <th>Close_uvxy</th>\n",
       "      <th>close_diff_uvxy</th>\n",
       "      <th>gains_spy</th>\n",
       "      <th>Close_spy</th>\n",
       "      <th>close_diff_spy</th>\n",
       "      <th>rate</th>\n",
       "    </tr>\n",
       "  </thead>\n",
       "  <tbody>\n",
       "    <tr>\n",
       "      <th>46</th>\n",
       "      <td>2020-03-24</td>\n",
       "      <td>-13.627912</td>\n",
       "      <td>60.400002</td>\n",
       "      <td>-8.529999</td>\n",
       "      <td>9.060331</td>\n",
       "      <td>239.312241</td>\n",
       "      <td>20.88118</td>\n",
       "      <td>-22.688243</td>\n",
       "    </tr>\n",
       "  </tbody>\n",
       "</table>\n",
       "</div>"
      ],
      "text/plain": [
       "         Date  gains_uvxy  Close_uvxy  close_diff_uvxy  gains_spy   Close_spy  \\\n",
       "46 2020-03-24  -13.627912   60.400002        -8.529999   9.060331  239.312241   \n",
       "\n",
       "    close_diff_spy       rate  \n",
       "46        20.88118 -22.688243  "
      ]
     },
     "execution_count": 43,
     "metadata": {},
     "output_type": "execute_result"
    }
   ],
   "source": [
    "data[spy_hist['Date'] == \"2020-03-24\"]"
   ]
  },
  {
   "cell_type": "code",
   "execution_count": 44,
   "id": "direct-anger",
   "metadata": {},
   "outputs": [
    {
     "data": {
      "text/html": [
       "<div>\n",
       "<style scoped>\n",
       "    .dataframe tbody tr th:only-of-type {\n",
       "        vertical-align: middle;\n",
       "    }\n",
       "\n",
       "    .dataframe tbody tr th {\n",
       "        vertical-align: top;\n",
       "    }\n",
       "\n",
       "    .dataframe thead th {\n",
       "        text-align: right;\n",
       "    }\n",
       "</style>\n",
       "<table border=\"1\" class=\"dataframe\">\n",
       "  <thead>\n",
       "    <tr style=\"text-align: right;\">\n",
       "      <th></th>\n",
       "      <th>Date</th>\n",
       "      <th>gains_uvxy</th>\n",
       "      <th>Close_uvxy</th>\n",
       "      <th>close_diff_uvxy</th>\n",
       "      <th>gains_spy</th>\n",
       "      <th>Close_spy</th>\n",
       "      <th>close_diff_spy</th>\n",
       "      <th>rate</th>\n",
       "    </tr>\n",
       "  </thead>\n",
       "  <tbody>\n",
       "    <tr>\n",
       "      <th>48</th>\n",
       "      <td>2020-03-26</td>\n",
       "      <td>-12.970588</td>\n",
       "      <td>59.18</td>\n",
       "      <td>-7.82</td>\n",
       "      <td>5.838977</td>\n",
       "      <td>257.077362</td>\n",
       "      <td>15.182571</td>\n",
       "      <td>-18.809565</td>\n",
       "    </tr>\n",
       "  </tbody>\n",
       "</table>\n",
       "</div>"
      ],
      "text/plain": [
       "         Date  gains_uvxy  Close_uvxy  close_diff_uvxy  gains_spy   Close_spy  \\\n",
       "48 2020-03-26  -12.970588       59.18            -7.82   5.838977  257.077362   \n",
       "\n",
       "    close_diff_spy       rate  \n",
       "48       15.182571 -18.809565  "
      ]
     },
     "execution_count": 44,
     "metadata": {},
     "output_type": "execute_result"
    }
   ],
   "source": [
    "data[spy_hist['Date'] == \"2020-03-26\"]"
   ]
  },
  {
   "cell_type": "code",
   "execution_count": null,
   "id": "basic-numbers",
   "metadata": {},
   "outputs": [],
   "source": []
  }
 ],
 "metadata": {
  "kernelspec": {
   "display_name": "Python 3",
   "language": "python",
   "name": "python3"
  },
  "language_info": {
   "codemirror_mode": {
    "name": "ipython",
    "version": 3
   },
   "file_extension": ".py",
   "mimetype": "text/x-python",
   "name": "python",
   "nbconvert_exporter": "python",
   "pygments_lexer": "ipython3",
   "version": "3.9.2"
  }
 },
 "nbformat": 4,
 "nbformat_minor": 5
}
