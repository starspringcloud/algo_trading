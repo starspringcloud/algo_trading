{
 "cells": [
  {
   "cell_type": "code",
   "execution_count": null,
   "id": "martial-contemporary",
   "metadata": {},
   "outputs": [],
   "source": [
    "import yfinance as yf\n",
    "\n",
    "name = 'SPY'\n",
    "data_df = yf.download(name, start=\"2020-02-01\", end=\"2020-03-20\")\n",
    "print(data_df)\n",
    "\n"
   ]
  },
  {
   "cell_type": "code",
   "execution_count": null,
   "id": "manual-tsunami",
   "metadata": {},
   "outputs": [],
   "source": [
    "data_df.to_csv('./data/%s.csv' % name)"
   ]
  }
 ],
 "metadata": {
  "kernelspec": {
   "display_name": "Python 3",
   "language": "python",
   "name": "python3"
  },
  "language_info": {
   "codemirror_mode": {
    "name": "ipython",
    "version": 3
   },
   "file_extension": ".py",
   "mimetype": "text/x-python",
   "name": "python",
   "nbconvert_exporter": "python",
   "pygments_lexer": "ipython3",
   "version": "3.9.2"
  }
 },
 "nbformat": 4,
 "nbformat_minor": 5
}
