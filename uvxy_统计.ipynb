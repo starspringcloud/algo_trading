{
 "cells": [
  {
   "cell_type": "code",
   "execution_count": 1,
   "id": "possible-reputation",
   "metadata": {},
   "outputs": [],
   "source": [
    "# 这是一个简单的规则\n",
    "# 判断uvxy 和 spy 是否同方向了，并作出操作"
   ]
  },
  {
   "cell_type": "code",
   "execution_count": 2,
   "id": "capable-geography",
   "metadata": {},
   "outputs": [],
   "source": [
    "import yfinance as yf\n",
    "import matplotlib.pyplot as plt\n",
    "import seaborn as sns\n",
    "import numpy as np\n",
    "import statsmodels\n",
    "from statsmodels.tsa.stattools import coint\n",
    "import pandas as pd\n",
    "import scipy.stats as st\n",
    "from statsmodels.stats.stattools import jarque_bera\n",
    "import os\n"
   ]
  },
  {
   "cell_type": "code",
   "execution_count": 3,
   "id": "social-american",
   "metadata": {},
   "outputs": [
    {
     "name": "stdout",
     "output_type": "stream",
     "text": [
      "(504, 8)\n",
      "(504, 8)\n"
     ]
    }
   ],
   "source": [
    "reload = False\n",
    "\n",
    "cycle = '2y'\n",
    "file_name = 'uvxy_' + cycle\n",
    "\n",
    "if not reload and  os.path.exists(file_name):\n",
    "    hist = pd.read_csv(file_name)\n",
    "else:\n",
    "    tmp = yf.Ticker(\"UVXY\")\n",
    "    hist = tmp.history(period=cycle)\n",
    "    hist.to_csv(file_name)\n",
    "    \n",
    "\n",
    "file_name = 'spy_' + cycle\n",
    "if not reload and  os.path.exists(file_name):\n",
    "    spy_hist = pd.read_csv(file_name)\n",
    "else:\n",
    "    tmp = yf.Ticker(\"SPY\")\n",
    "    spy_hist = tmp.history(period=cycle)\n",
    "    spy_hist.to_csv(file_name)\n",
    "\n",
    "print(hist.shape)\n",
    "print(spy_hist.shape)"
   ]
  },
  {
   "cell_type": "code",
   "execution_count": 4,
   "id": "plain-disney",
   "metadata": {},
   "outputs": [
    {
     "data": {
      "text/plain": [
       "(504, 8)"
      ]
     },
     "execution_count": 4,
     "metadata": {},
     "output_type": "execute_result"
    }
   ],
   "source": [
    "hist.shape"
   ]
  },
  {
   "cell_type": "code",
   "execution_count": 5,
   "id": "interracial-wheel",
   "metadata": {},
   "outputs": [],
   "source": [
    "hist['gains'] = (hist.Close - hist.Close.shift(1))/hist.Close.shift(1) * 100\n",
    "spy_hist['gains'] = (spy_hist.Close - spy_hist.Close.shift(1))/spy_hist.Close.shift(1) * 100\n",
    "\n",
    "hist.dropna(inplace=True)\n",
    "spy_hist.dropna(inplace=True)"
   ]
  },
  {
   "cell_type": "code",
   "execution_count": 6,
   "id": "democratic-broad",
   "metadata": {},
   "outputs": [
    {
     "data": {
      "text/html": [
       "<div>\n",
       "<style scoped>\n",
       "    .dataframe tbody tr th:only-of-type {\n",
       "        vertical-align: middle;\n",
       "    }\n",
       "\n",
       "    .dataframe tbody tr th {\n",
       "        vertical-align: top;\n",
       "    }\n",
       "\n",
       "    .dataframe thead th {\n",
       "        text-align: right;\n",
       "    }\n",
       "</style>\n",
       "<table border=\"1\" class=\"dataframe\">\n",
       "  <thead>\n",
       "    <tr style=\"text-align: right;\">\n",
       "      <th></th>\n",
       "      <th>Date</th>\n",
       "      <th>Open</th>\n",
       "      <th>High</th>\n",
       "      <th>Low</th>\n",
       "      <th>Close</th>\n",
       "      <th>Volume</th>\n",
       "      <th>Dividends</th>\n",
       "      <th>Stock Splits</th>\n",
       "      <th>gains</th>\n",
       "    </tr>\n",
       "  </thead>\n",
       "  <tbody>\n",
       "    <tr>\n",
       "      <th>1</th>\n",
       "      <td>2019-04-11</td>\n",
       "      <td>35.759998</td>\n",
       "      <td>36.139999</td>\n",
       "      <td>35.259998</td>\n",
       "      <td>35.400002</td>\n",
       "      <td>6898600</td>\n",
       "      <td>0</td>\n",
       "      <td>0</td>\n",
       "      <td>-3.119867</td>\n",
       "    </tr>\n",
       "    <tr>\n",
       "      <th>2</th>\n",
       "      <td>2019-04-12</td>\n",
       "      <td>34.270000</td>\n",
       "      <td>34.400002</td>\n",
       "      <td>32.830002</td>\n",
       "      <td>32.970001</td>\n",
       "      <td>9047500</td>\n",
       "      <td>0</td>\n",
       "      <td>0</td>\n",
       "      <td>-6.864407</td>\n",
       "    </tr>\n",
       "    <tr>\n",
       "      <th>3</th>\n",
       "      <td>2019-04-15</td>\n",
       "      <td>32.200001</td>\n",
       "      <td>34.299999</td>\n",
       "      <td>32.150002</td>\n",
       "      <td>32.330002</td>\n",
       "      <td>8012200</td>\n",
       "      <td>0</td>\n",
       "      <td>0</td>\n",
       "      <td>-1.941157</td>\n",
       "    </tr>\n",
       "    <tr>\n",
       "      <th>4</th>\n",
       "      <td>2019-04-16</td>\n",
       "      <td>32.049999</td>\n",
       "      <td>32.330002</td>\n",
       "      <td>31.450001</td>\n",
       "      <td>31.980000</td>\n",
       "      <td>6795700</td>\n",
       "      <td>0</td>\n",
       "      <td>0</td>\n",
       "      <td>-1.082593</td>\n",
       "    </tr>\n",
       "    <tr>\n",
       "      <th>5</th>\n",
       "      <td>2019-04-17</td>\n",
       "      <td>31.139999</td>\n",
       "      <td>33.160000</td>\n",
       "      <td>31.120001</td>\n",
       "      <td>32.270000</td>\n",
       "      <td>8714900</td>\n",
       "      <td>0</td>\n",
       "      <td>0</td>\n",
       "      <td>0.906820</td>\n",
       "    </tr>\n",
       "    <tr>\n",
       "      <th>...</th>\n",
       "      <td>...</td>\n",
       "      <td>...</td>\n",
       "      <td>...</td>\n",
       "      <td>...</td>\n",
       "      <td>...</td>\n",
       "      <td>...</td>\n",
       "      <td>...</td>\n",
       "      <td>...</td>\n",
       "      <td>...</td>\n",
       "    </tr>\n",
       "    <tr>\n",
       "      <th>96</th>\n",
       "      <td>2019-08-27</td>\n",
       "      <td>33.060001</td>\n",
       "      <td>36.250000</td>\n",
       "      <td>32.919998</td>\n",
       "      <td>34.869999</td>\n",
       "      <td>15273600</td>\n",
       "      <td>0</td>\n",
       "      <td>0</td>\n",
       "      <td>2.558820</td>\n",
       "    </tr>\n",
       "    <tr>\n",
       "      <th>97</th>\n",
       "      <td>2019-08-28</td>\n",
       "      <td>36.060001</td>\n",
       "      <td>36.930000</td>\n",
       "      <td>33.700001</td>\n",
       "      <td>33.759998</td>\n",
       "      <td>12259300</td>\n",
       "      <td>0</td>\n",
       "      <td>0</td>\n",
       "      <td>-3.183254</td>\n",
       "    </tr>\n",
       "    <tr>\n",
       "      <th>98</th>\n",
       "      <td>2019-08-29</td>\n",
       "      <td>32.230000</td>\n",
       "      <td>32.700001</td>\n",
       "      <td>31.129999</td>\n",
       "      <td>31.670000</td>\n",
       "      <td>11648200</td>\n",
       "      <td>0</td>\n",
       "      <td>0</td>\n",
       "      <td>-6.190753</td>\n",
       "    </tr>\n",
       "    <tr>\n",
       "      <th>99</th>\n",
       "      <td>2019-08-30</td>\n",
       "      <td>30.700001</td>\n",
       "      <td>32.990002</td>\n",
       "      <td>30.680000</td>\n",
       "      <td>31.750000</td>\n",
       "      <td>12755100</td>\n",
       "      <td>0</td>\n",
       "      <td>0</td>\n",
       "      <td>0.252605</td>\n",
       "    </tr>\n",
       "    <tr>\n",
       "      <th>100</th>\n",
       "      <td>2019-09-03</td>\n",
       "      <td>33.560001</td>\n",
       "      <td>34.459999</td>\n",
       "      <td>32.779999</td>\n",
       "      <td>34.049999</td>\n",
       "      <td>14415100</td>\n",
       "      <td>0</td>\n",
       "      <td>0</td>\n",
       "      <td>7.244092</td>\n",
       "    </tr>\n",
       "  </tbody>\n",
       "</table>\n",
       "<p>100 rows × 9 columns</p>\n",
       "</div>"
      ],
      "text/plain": [
       "           Date       Open       High        Low      Close    Volume  \\\n",
       "1    2019-04-11  35.759998  36.139999  35.259998  35.400002   6898600   \n",
       "2    2019-04-12  34.270000  34.400002  32.830002  32.970001   9047500   \n",
       "3    2019-04-15  32.200001  34.299999  32.150002  32.330002   8012200   \n",
       "4    2019-04-16  32.049999  32.330002  31.450001  31.980000   6795700   \n",
       "5    2019-04-17  31.139999  33.160000  31.120001  32.270000   8714900   \n",
       "..          ...        ...        ...        ...        ...       ...   \n",
       "96   2019-08-27  33.060001  36.250000  32.919998  34.869999  15273600   \n",
       "97   2019-08-28  36.060001  36.930000  33.700001  33.759998  12259300   \n",
       "98   2019-08-29  32.230000  32.700001  31.129999  31.670000  11648200   \n",
       "99   2019-08-30  30.700001  32.990002  30.680000  31.750000  12755100   \n",
       "100  2019-09-03  33.560001  34.459999  32.779999  34.049999  14415100   \n",
       "\n",
       "     Dividends  Stock Splits     gains  \n",
       "1            0             0 -3.119867  \n",
       "2            0             0 -6.864407  \n",
       "3            0             0 -1.941157  \n",
       "4            0             0 -1.082593  \n",
       "5            0             0  0.906820  \n",
       "..         ...           ...       ...  \n",
       "96           0             0  2.558820  \n",
       "97           0             0 -3.183254  \n",
       "98           0             0 -6.190753  \n",
       "99           0             0  0.252605  \n",
       "100          0             0  7.244092  \n",
       "\n",
       "[100 rows x 9 columns]"
      ]
     },
     "execution_count": 6,
     "metadata": {},
     "output_type": "execute_result"
    }
   ],
   "source": [
    "hist.head(100)"
   ]
  },
  {
   "cell_type": "code",
   "execution_count": 7,
   "id": "involved-supervision",
   "metadata": {},
   "outputs": [
    {
     "data": {
      "text/plain": [
       "<AxesSubplot:>"
      ]
     },
     "execution_count": 7,
     "metadata": {},
     "output_type": "execute_result"
    },
    {
     "data": {
      "image/png": "[encoded data removed]",
      "text/plain": [
       "<Figure size 432x288 with 1 Axes>"
      ]
     },
     "metadata": {
      "needs_background": "light"
     },
     "output_type": "display_data"
    }
   ],
   "source": [
    "hist.gains.plot()"
   ]
  },
  {
   "cell_type": "code",
   "execution_count": 8,
   "id": "rubber-antibody",
   "metadata": {},
   "outputs": [
    {
     "name": "stdout",
     "output_type": "stream",
     "text": [
      "count    503.000000\n",
      "mean      -0.106007\n",
      "std        8.058518\n",
      "min      -23.246625\n",
      "25%       -4.632810\n",
      "50%       -1.379721\n",
      "75%        2.239584\n",
      "max       57.477283\n",
      "Name: gains, dtype: float64\n"
     ]
    },
    {
     "data": {
      "text/plain": [
       "count    503.000000\n",
       "mean       0.090868\n",
       "std        1.601597\n",
       "min      -10.942361\n",
       "25%       -0.413455\n",
       "50%        0.156939\n",
       "75%        0.752375\n",
       "max        9.060331\n",
       "Name: gains, dtype: float64"
      ]
     },
     "execution_count": 8,
     "metadata": {},
     "output_type": "execute_result"
    }
   ],
   "source": [
    "print(hist['gains'].describe())\n",
    "spy_hist['gains'].describe()"
   ]
  },
  {
   "cell_type": "code",
   "execution_count": 9,
   "id": "reflected-philip",
   "metadata": {},
   "outputs": [
    {
     "name": "stderr",
     "output_type": "stream",
     "text": [
      "/Library/Frameworks/Python.framework/Versions/3.9/lib/python3.9/site-packages/seaborn/distributions.py:2557: FutureWarning: `distplot` is a deprecated function and will be removed in a future version. Please adapt your code to use either `displot` (a figure-level function with similar flexibility) or `histplot` (an axes-level function for histograms).\n",
      "  warnings.warn(msg, FutureWarning)\n",
      "/Library/Frameworks/Python.framework/Versions/3.9/lib/python3.9/site-packages/seaborn/distributions.py:2557: FutureWarning: `distplot` is a deprecated function and will be removed in a future version. Please adapt your code to use either `displot` (a figure-level function with similar flexibility) or `histplot` (an axes-level function for histograms).\n",
      "  warnings.warn(msg, FutureWarning)\n"
     ]
    },
    {
     "data": {
      "text/plain": [
       "<AxesSubplot:xlabel='gains', ylabel='Density'>"
      ]
     },
     "execution_count": 9,
     "metadata": {},
     "output_type": "execute_result"
    },
    {
     "data": {
      "image/png": "[encoded data removed]",
      "text/plain": [
       "<Figure size 432x288 with 1 Axes>"
      ]
     },
     "metadata": {
      "needs_background": "light"
     },
     "output_type": "display_data"
    }
   ],
   "source": [
    "sns.distplot(hist.gains)\n",
    "np.random.seed(987654321)\n",
    "x = np.random.normal(-0.092625, 8.077169, 30000)\n",
    "sns.distplot(x)"
   ]
  },
  {
   "cell_type": "code",
   "execution_count": 10,
   "id": "graphic-mason",
   "metadata": {},
   "outputs": [
    {
     "name": "stderr",
     "output_type": "stream",
     "text": [
      "/Library/Frameworks/Python.framework/Versions/3.9/lib/python3.9/site-packages/seaborn/distributions.py:2557: FutureWarning: `distplot` is a deprecated function and will be removed in a future version. Please adapt your code to use either `displot` (a figure-level function with similar flexibility) or `histplot` (an axes-level function for histograms).\n",
      "  warnings.warn(msg, FutureWarning)\n",
      "/Library/Frameworks/Python.framework/Versions/3.9/lib/python3.9/site-packages/seaborn/distributions.py:2557: FutureWarning: `distplot` is a deprecated function and will be removed in a future version. Please adapt your code to use either `displot` (a figure-level function with similar flexibility) or `histplot` (an axes-level function for histograms).\n",
      "  warnings.warn(msg, FutureWarning)\n"
     ]
    },
    {
     "data": {
      "text/plain": [
       "<AxesSubplot:xlabel='gains', ylabel='Density'>"
      ]
     },
     "execution_count": 10,
     "metadata": {},
     "output_type": "execute_result"
    },
    {
     "data": {
      "image/png": "[encoded data removed]",
      "text/plain": [
       "<Figure size 432x288 with 1 Axes>"
      ]
     },
     "metadata": {
      "needs_background": "light"
     },
     "output_type": "display_data"
    }
   ],
   "source": [
    "sns.distplot(spy_hist.gains)\n",
    "x = np.random.normal(0.088377, 1.604703, 30000)\n",
    "sns.distplot(x)"
   ]
  },
  {
   "cell_type": "code",
   "execution_count": 11,
   "id": "incomplete-chart",
   "metadata": {},
   "outputs": [
    {
     "name": "stdout",
     "output_type": "stream",
     "text": [
      "[27.4655081  -1.45918225 -6.83576993 24.29492519  5.66813988]\n",
      "偏度： 0.001969106184678132\n",
      "峰值： 2.9954712147841973\n",
      "Jarque_beraResult(statistic=0.4502426524627958, pvalue=0.7984193436727083)\n",
      "---------------------\n",
      "偏度： 2.271849608629579\n",
      "峰值： 12.978516152294466\n",
      "Jarque_beraResult(statistic=2519.5267312832148, pvalue=0.0)\n",
      "---------------------\n",
      "偏度： -0.7387147290766501\n",
      "峰值： 15.3346570488799\n",
      "Jarque_beraResult(statistic=3234.427535233452, pvalue=0.0)\n",
      "---------------------\n"
     ]
    }
   ],
   "source": [
    "np.random.seed(987654321)\n",
    "x = np.random.normal(5, 10, 300000)\n",
    "print(x[0:5])\n",
    "\n",
    "def statistical(data):\n",
    "    print(\"偏度：\", st.skew(data))\n",
    "    print(\"峰值：\", st.kurtosis(data)+3)\n",
    "    #print(jarque_bera(hist.gains))\n",
    "    print(st.jarque_bera(data))\n",
    "    print('---------------------')\n",
    "    \n",
    "statistical(x)\n",
    "statistical(hist.gains)\n",
    "statistical(spy_hist.gains)"
   ]
  },
  {
   "cell_type": "code",
   "execution_count": 12,
   "id": "simple-coffee",
   "metadata": {},
   "outputs": [
    {
     "data": {
      "text/plain": [
       "KstestResult(statistic=0.2222222222222222, pvalue=0.7071172787085076)"
      ]
     },
     "execution_count": 12,
     "metadata": {},
     "output_type": "execute_result"
    }
   ],
   "source": [
    "st.ks_2samp(hist[-100:-10].gains, hist[-10:].gains)\n",
    "# st.ks_2samp(spy_hist[0:-100].gains, spy_hist[-100:].gains)"
   ]
  },
  {
   "cell_type": "code",
   "execution_count": 13,
   "id": "generic-eugene",
   "metadata": {},
   "outputs": [
    {
     "ename": "SyntaxError",
     "evalue": "invalid syntax (<ipython-input-13-29e0c3615294>, line 1)",
     "output_type": "error",
     "traceback": [
      "\u001b[0;36m  File \u001b[0;32m\"<ipython-input-13-29e0c3615294>\"\u001b[0;36m, line \u001b[0;32m1\u001b[0m\n\u001b[0;31m    ---\u001b[0m\n\u001b[0m       ^\u001b[0m\n\u001b[0;31mSyntaxError\u001b[0m\u001b[0;31m:\u001b[0m invalid syntax\n"
     ]
    }
   ],
   "source": [
    "---"
   ]
  },
  {
   "cell_type": "code",
   "execution_count": null,
   "id": "soviet-concern",
   "metadata": {},
   "outputs": [],
   "source": [
    "st.norm.cdf(-5, hist['gains'].mean(), hist['gains'].std())"
   ]
  },
  {
   "cell_type": "code",
   "execution_count": null,
   "id": "still-shade",
   "metadata": {},
   "outputs": [],
   "source": [
    "spy = yf.Ticker(\"SPY\")\n",
    "spy_hist = spy.history(period=\"300d\")\n"
   ]
  },
  {
   "cell_type": "code",
   "execution_count": null,
   "id": "copyrighted-attendance",
   "metadata": {},
   "outputs": [],
   "source": []
  },
  {
   "cell_type": "code",
   "execution_count": null,
   "id": "victorian-example",
   "metadata": {},
   "outputs": [],
   "source": [
    "spy_hist['gains'].describe()"
   ]
  },
  {
   "cell_type": "code",
   "execution_count": null,
   "id": "minute-leisure",
   "metadata": {},
   "outputs": [],
   "source": [
    "sns.distplot(spy_hist.gains)"
   ]
  },
  {
   "cell_type": "code",
   "execution_count": null,
   "id": "informational-excuse",
   "metadata": {},
   "outputs": [],
   "source": [
    "st.norm.cdf(-1, spy_hist['gains'].mean(), spy_hist['gains'].std())"
   ]
  },
  {
   "cell_type": "code",
   "execution_count": null,
   "id": "wrapped-adelaide",
   "metadata": {},
   "outputs": [],
   "source": [
    "spy_hist.Close.plot(figsize=(10,10))\n",
    "hist.Close.plot()"
   ]
  },
  {
   "cell_type": "code",
   "execution_count": null,
   "id": "flying-shade",
   "metadata": {},
   "outputs": [],
   "source": [
    "np.corrcoef(spy_hist.Close, hist.Close)"
   ]
  },
  {
   "cell_type": "code",
   "execution_count": null,
   "id": "neither-feature",
   "metadata": {},
   "outputs": [],
   "source": [
    "spy_hist.gains.fillna(0, inplace=True)\n",
    "hist.gains.fillna(0, inplace=True)"
   ]
  },
  {
   "cell_type": "code",
   "execution_count": null,
   "id": "outstanding-discrimination",
   "metadata": {},
   "outputs": [],
   "source": [
    "hist.gains.cumsum().plot()\n",
    "spy_hist.gains.cumsum().plot()"
   ]
  },
  {
   "cell_type": "code",
   "execution_count": null,
   "id": "mechanical-calcium",
   "metadata": {},
   "outputs": [],
   "source": [
    "# 差分\n",
    "hist['close_diff']  = hist.Close - hist.Close.shift(1) + 1\n",
    "spy_hist['close_diff']  = spy_hist.Close - spy_hist.Close.shift(1) + 1\n",
    "\n",
    "hist.dropna(inplace=True)\n",
    "spy_hist.dropna(inplace=True)\n",
    "\n",
    "hist.head()"
   ]
  },
  {
   "cell_type": "code",
   "execution_count": null,
   "id": "important-height",
   "metadata": {},
   "outputs": [],
   "source": [
    "spy_hist.head()"
   ]
  },
  {
   "cell_type": "code",
   "execution_count": null,
   "id": "requested-intermediate",
   "metadata": {
    "scrolled": true
   },
   "outputs": [],
   "source": [
    "score, pvalue, _ = coint(hist.gains, spy_hist.gains)\n",
    "print(score, pvalue)\n",
    "\n",
    "score, pvalue, _ = coint(hist.Close, spy_hist.Close)\n",
    "print(score, pvalue)\n",
    "\n",
    "score, pvalue, _ = coint(hist.close_diff, spy_hist.close_diff)\n",
    "print(score, pvalue)"
   ]
  },
  {
   "cell_type": "code",
   "execution_count": null,
   "id": "covered-breach",
   "metadata": {},
   "outputs": [],
   "source": [
    "print(np.corrcoef(hist.Close, spy_hist.Close))\n",
    "print(np.corrcoef(hist.close_diff, spy_hist.close_diff))\n",
    "print(np.corrcoef(spy_hist.gains, hist.gains))"
   ]
  },
  {
   "cell_type": "code",
   "execution_count": null,
   "id": "technical-devices",
   "metadata": {},
   "outputs": [],
   "source": [
    "hist.reset_index(inplace=True)\n",
    "spy_hist.reset_index(inplace=True)"
   ]
  },
  {
   "cell_type": "code",
   "execution_count": null,
   "id": "seventh-wedding",
   "metadata": {},
   "outputs": [],
   "source": [
    "col = ['Date','gains','Close','close_diff']\n",
    "data = pd.merge(hist[col], spy_hist[col],suffixes=['_uvxy','_spy'], on='Date')\n",
    "data.set_index(keys='Date')"
   ]
  },
  {
   "cell_type": "code",
   "execution_count": null,
   "id": "southern-tragedy",
   "metadata": {},
   "outputs": [],
   "source": [
    "# data['rate'] = (data.gains_uvxy+0.1) / (data.gains_spy+0.1)\n",
    "data['rate'] = data.gains_uvxy - data.gains_spy\n",
    "# data['rate'] = data.close_diff_uvxy - data.close_diff_spy\n",
    "\n",
    "data[data['rate']>0]"
   ]
  },
  {
   "cell_type": "code",
   "execution_count": null,
   "id": "forward-kingston",
   "metadata": {},
   "outputs": [],
   "source": [
    "data.rate.describe()"
   ]
  },
  {
   "cell_type": "code",
   "execution_count": null,
   "id": "controlled-clarity",
   "metadata": {},
   "outputs": [],
   "source": [
    "sns.distplot(data.rate)"
   ]
  },
  {
   "cell_type": "code",
   "execution_count": null,
   "id": "breeding-pendant",
   "metadata": {},
   "outputs": [],
   "source": [
    "data.fillna(0,inplace=True)\n",
    "data.isna().sum()"
   ]
  },
  {
   "cell_type": "code",
   "execution_count": null,
   "id": "listed-scene",
   "metadata": {},
   "outputs": [],
   "source": [
    "print((data.rate>50).sum())\n",
    "# data = data[abs(data['rate'])<50]\n",
    "(data.rate>50).sum()"
   ]
  },
  {
   "cell_type": "markdown",
   "id": "biblical-means",
   "metadata": {},
   "source": [
    "data.rate.plot()\n",
    "plt.axhline(data.rate.mean(), color='red', linestyle='--') "
   ]
  },
  {
   "cell_type": "code",
   "execution_count": null,
   "id": "conceptual-aircraft",
   "metadata": {},
   "outputs": [],
   "source": [
    "def zscore(series):\n",
    "    print(series.mean(), series.std())\n",
    "    return (series - series.mean()) / np.std(series)\n",
    "\n",
    "z_score = zscore(data.rate)\n",
    "z_score.plot(figsize=(10,10))\n",
    "plt.axhline(z_score.mean())\n",
    "plt.axhline(1.0, color='red')\n",
    "plt.axhline(-1.0, color='green')\n",
    "plt.show()"
   ]
  },
  {
   "cell_type": "markdown",
   "id": "alien-register",
   "metadata": {},
   "source": [
    "# 开始预测"
   ]
  },
  {
   "cell_type": "code",
   "execution_count": null,
   "id": "intensive-metallic",
   "metadata": {},
   "outputs": [],
   "source": [
    "print(z_score.shape)\n",
    "train = z_score[:200]\n",
    "test = z_score[200:]\n",
    "print(train.shape, test.shape)\n",
    "\n",
    "plt.figure(figsize=(15,7))\n",
    "train.plot()\n",
    "\n",
    "buy = train.copy()\n",
    "sell = train.copy()\n",
    "\n",
    "# buy[train>-1] = 0\n",
    "# sell[train<1] = 0\n",
    "buy[~((data['gains_uvxy']>-1) & (data['gains_spy']>0))] = 0\n",
    "sell[~((data['gains_uvxy']<1) & (data['gains_spy']<0))] = 0\n",
    "\n",
    "\n",
    "\n",
    "buy.plot(color='g', linestyle='None', marker='^')\n",
    "sell.plot(color='r', linestyle='None', marker='^')\n",
    "x1,x2,y1,y2 = plt.axis()\n",
    "# plt.axis((x1,x2,data.rate.min(),data.rate.max()))\n",
    "plt.legend(['Ratio', 'Buy Signal', 'Sell Signal'])\n",
    "plt.show()"
   ]
  },
  {
   "cell_type": "code",
   "execution_count": null,
   "id": "stretch-credit",
   "metadata": {},
   "outputs": [],
   "source": [
    "# Plot the prices and buy and sell signals from z score\n",
    "plt.figure(figsize=(10,10))\n",
    "S1 = hist.iloc[:200].Close\n",
    "S2 = spy_hist.iloc[:200].Close\n",
    "\n",
    "S1.plot(color='b')\n",
    "S2.plot(color='c')\n",
    "\n",
    "buyR = 0*S1.copy()\n",
    "sellR = 0*S1.copy()\n",
    "\n",
    "# When buying the ratio, buy S1 and sell S2\n",
    "buyR[buy!=0] = S1[buy!=0]\n",
    "sellR[buy!=0] = S2[buy!=0]\n",
    "# When selling the ratio, sell S1 and buy S2 \n",
    "buyR[sell!=0] = S2[sell!=0]\n",
    "sellR[sell!=0] = S1[sell!=0]\n",
    "\n",
    "buyR.plot(color='g', linestyle='None', marker='^')\n",
    "# sellR.plot(color='r', linestyle='None', marker='^')\n",
    "\n",
    "x1,x2,y1,y2 = plt.axis()\n",
    "plt.axis((x1,x2,min(S1.min(),S2.min()),max(S1.max(),S2.max())))\n",
    "plt.legend(['UVXY','SPY', 'Buy Signal', 'Sell Signal'])\n",
    "plt.show()"
   ]
  },
  {
   "cell_type": "code",
   "execution_count": null,
   "id": "loved-contributor",
   "metadata": {},
   "outputs": [],
   "source": [
    "# Trade using a simple strategy\n",
    "def trade(data, window1, window2):\n",
    "    \n",
    "    S1 = data['gains_uvxy']\n",
    "    S2 = data['gains_spy']\n",
    "    \n",
    "    close = data['Close_uvxy']\n",
    "    date = data['Date']\n",
    "    # If window length is 0, algorithm doesn't make sense, so exit\n",
    "    if (window1 == 0) or (window2 == 0):\n",
    "        return 0\n",
    "    \n",
    "    # Compute rolling mean and rolling standard deviation\n",
    "    \n",
    "    # Simulate trading\n",
    "    # Start with no money and no positions\n",
    "    money = 0\n",
    "    countS1 = 0\n",
    "    countS2 = 0\n",
    "    for i in range(len(S1)):\n",
    "        # buy\n",
    "        if S1[i]>1 and S2[i]>0:\n",
    "          \n",
    "            if countS1<0:\n",
    "                money -= close[i]*abs(countS1)\n",
    "                countS1 = 0\n",
    "            \n",
    "            money -= close[i]\n",
    "            countS1 += 1\n",
    "                \n",
    "            print('Buying volatility %s at %f %f %s %s'%(date[i], close[i], money+countS1*close[i], countS1,countS2))\n",
    "        elif S1[i]<0 and S2[i]<0:\n",
    "            if countS1>0:\n",
    "                money += close[i] * countS1\n",
    "                countS1 = 0\n",
    "            \n",
    "            money += close[i]\n",
    "            countS1 -= 1\n",
    "                \n",
    "            print('Selling volatility %s at %f %f %s %s'%(date[i], close[i], money+countS1*close[i], countS1,countS2))\n",
    "            \n",
    "   \n",
    "            \n",
    "    return money+countS1*close.iloc[-1]\n",
    "trade(data.iloc[:200], 5, 60)"
   ]
  },
  {
   "cell_type": "code",
   "execution_count": null,
   "id": "seasonal-promise",
   "metadata": {},
   "outputs": [],
   "source": [
    "data[hist['Date'] == \"2020-03-25\"]"
   ]
  },
  {
   "cell_type": "code",
   "execution_count": null,
   "id": "parliamentary-camping",
   "metadata": {},
   "outputs": [],
   "source": [
    "data[spy_hist['Date'] == \"2020-03-24\"]"
   ]
  },
  {
   "cell_type": "code",
   "execution_count": null,
   "id": "direct-anger",
   "metadata": {},
   "outputs": [],
   "source": [
    "data[spy_hist['Date'] == \"2020-03-26\"]"
   ]
  },
  {
   "cell_type": "code",
   "execution_count": null,
   "id": "basic-numbers",
   "metadata": {},
   "outputs": [],
   "source": []
  }
 ],
 "metadata": {
  "kernelspec": {
   "display_name": "Python 3",
   "language": "python",
   "name": "python3"
  },
  "language_info": {
   "codemirror_mode": {
    "name": "ipython",
    "version": 3
   },
   "file_extension": ".py",
   "mimetype": "text/x-python",
   "name": "python",
   "nbconvert_exporter": "python",
   "pygments_lexer": "ipython3",
   "version": "3.9.2"
  }
 },
 "nbformat": 4,
 "nbformat_minor": 5
}
