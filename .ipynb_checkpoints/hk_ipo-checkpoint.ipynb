{
 "cells": [
  {
   "cell_type": "code",
   "execution_count": 4,
   "id": "turkish-separation",
   "metadata": {},
   "outputs": [
    {
     "name": "stdout",
     "output_type": "stream",
     "text": [
      "----------------------jd------------------------\n",
      "共  7600000.0 手\n",
      "公开 3800000.0 手\n",
      "甲组 1900000.0 手\n",
      "乙组 1900000.0 手\n",
      "一手中签率:118.75\n",
      "-----------------------------------------------\n",
      "----------------------baidu------------------------\n",
      "共  1900000.0 手\n",
      "公开 950000.0 手\n",
      "甲组 475000.0 手\n",
      "乙组 475000.0 手\n",
      "一手中签率:23.75\n",
      "-----------------------------------------------\n"
     ]
    }
   ],
   "source": [
    " '''\n",
    "1手中签率 = 总手数 × 回拨比例(预计认购倍数对应的) ÷ 2 ÷ 总申购人数 ÷ 2\n",
    "稳中1手的手数估算起来更难，但从历史数据看，与认购倍数强相关，认购倍数超过1000倍以上，至少需要申购100手才能稳中1手；\n",
    "认购500倍左右，需要申购50手才能稳中1手；认购在100倍左右，需要申购20手左右稳中1手。\n",
    "\n",
    "'''\n",
    "\n",
    "def shoot_rate(name,total_stock_count, one_hand_stock_count, pepole, max_rate=0.5):\n",
    "    print('----------------------%s------------------------' % name)\n",
    "    jia_max_hand = total_stock_count/one_hand_stock_count * max_rate * 0.5\n",
    "    yi_max_hand = total_stock_count/one_hand_stock_count * max_rate * 0.5\n",
    "    \n",
    "    print('共 ', total_stock_count/one_hand_stock_count, \"手\")\n",
    "    print('公开', total_stock_count/one_hand_stock_count/2, \"手\")\n",
    "    print('甲组', jia_max_hand, \"手\")\n",
    "    print('乙组', yi_max_hand, \"手\")\n",
    "    print('一手中签率:%s' % (jia_max_hand/(pepole*2) * 100))\n",
    "    print('-----------------------------------------------')\n",
    "\n",
    "\n",
    "shoot_rate('jd'    , 380000000, 50, 800000)\n",
    "shoot_rate('qiche' , 95000000, 50, 100000,0.5)\n",
    "shoot_rate('baidu' , 95000000, 50, 1000000,0.5)"
   ]
  },
  {
   "cell_type": "code",
   "execution_count": null,
   "id": "declared-puppy",
   "metadata": {},
   "outputs": [],
   "source": []
  }
 ],
 "metadata": {
  "kernelspec": {
   "display_name": "Python 3",
   "language": "python",
   "name": "python3"
  },
  "language_info": {
   "codemirror_mode": {
    "name": "ipython",
    "version": 3
   },
   "file_extension": ".py",
   "mimetype": "text/x-python",
   "name": "python",
   "nbconvert_exporter": "python",
   "pygments_lexer": "ipython3",
   "version": "3.9.2"
  }
 },
 "nbformat": 4,
 "nbformat_minor": 5
}
