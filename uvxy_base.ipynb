{
 "cells": [
  {
   "cell_type": "code",
   "execution_count": 1,
   "id": "capable-geography",
   "metadata": {},
   "outputs": [],
   "source": [
    "import yfinance as yf\n",
    "import matplotlib.pyplot as plt\n",
    "import seaborn as sns\n",
    "import numpy as np\n",
    "import statsmodels\n",
    "from statsmodels.tsa.stattools import coint\n",
    "import pandas as pd\n",
    "import scipy.stats as st\n"
   ]
  },
  {
   "cell_type": "code",
   "execution_count": 2,
   "id": "social-american",
   "metadata": {},
   "outputs": [],
   "source": [
    "\n",
    "msft = yf.Ticker(\"UVXY\")\n",
    "\n",
    "# get stock info\n",
    "# print(msft.info)\n",
    "\n",
    "# get historical market data\n",
    "hist = msft.history(period=\"1y\")"
   ]
  },
  {
   "cell_type": "code",
   "execution_count": 3,
   "id": "plain-disney",
   "metadata": {},
   "outputs": [
    {
     "data": {
      "text/plain": [
       "(253, 7)"
      ]
     },
     "execution_count": 3,
     "metadata": {},
     "output_type": "execute_result"
    }
   ],
   "source": [
    "hist.shape"
   ]
  },
  {
   "cell_type": "code",
   "execution_count": 4,
   "id": "residential-denial",
   "metadata": {},
   "outputs": [
    {
     "data": {
      "text/html": [
       "<div>\n",
       "<style scoped>\n",
       "    .dataframe tbody tr th:only-of-type {\n",
       "        vertical-align: middle;\n",
       "    }\n",
       "\n",
       "    .dataframe tbody tr th {\n",
       "        vertical-align: top;\n",
       "    }\n",
       "\n",
       "    .dataframe thead th {\n",
       "        text-align: right;\n",
       "    }\n",
       "</style>\n",
       "<table border=\"1\" class=\"dataframe\">\n",
       "  <thead>\n",
       "    <tr style=\"text-align: right;\">\n",
       "      <th></th>\n",
       "      <th>Open</th>\n",
       "      <th>High</th>\n",
       "      <th>Low</th>\n",
       "      <th>Close</th>\n",
       "      <th>Volume</th>\n",
       "      <th>Dividends</th>\n",
       "      <th>Stock Splits</th>\n",
       "    </tr>\n",
       "    <tr>\n",
       "      <th>Date</th>\n",
       "      <th></th>\n",
       "      <th></th>\n",
       "      <th></th>\n",
       "      <th></th>\n",
       "      <th></th>\n",
       "      <th></th>\n",
       "      <th></th>\n",
       "    </tr>\n",
       "  </thead>\n",
       "  <tbody>\n",
       "    <tr>\n",
       "      <th>2020-03-11</th>\n",
       "      <td>45.560001</td>\n",
       "      <td>50.320000</td>\n",
       "      <td>44.740002</td>\n",
       "      <td>48.220001</td>\n",
       "      <td>25486800</td>\n",
       "      <td>0</td>\n",
       "      <td>0</td>\n",
       "    </tr>\n",
       "    <tr>\n",
       "      <th>2020-03-12</th>\n",
       "      <td>61.200001</td>\n",
       "      <td>68.000000</td>\n",
       "      <td>54.240002</td>\n",
       "      <td>65.019997</td>\n",
       "      <td>32061700</td>\n",
       "      <td>0</td>\n",
       "      <td>0</td>\n",
       "    </tr>\n",
       "    <tr>\n",
       "      <th>2020-03-13</th>\n",
       "      <td>55.000000</td>\n",
       "      <td>69.800003</td>\n",
       "      <td>54.680000</td>\n",
       "      <td>57.240002</td>\n",
       "      <td>28028400</td>\n",
       "      <td>0</td>\n",
       "      <td>0</td>\n",
       "    </tr>\n",
       "    <tr>\n",
       "      <th>2020-03-16</th>\n",
       "      <td>79.000000</td>\n",
       "      <td>94.500000</td>\n",
       "      <td>73.699997</td>\n",
       "      <td>90.139999</td>\n",
       "      <td>19990800</td>\n",
       "      <td>0</td>\n",
       "      <td>0</td>\n",
       "    </tr>\n",
       "    <tr>\n",
       "      <th>2020-03-17</th>\n",
       "      <td>85.000000</td>\n",
       "      <td>96.800003</td>\n",
       "      <td>78.000000</td>\n",
       "      <td>87.230003</td>\n",
       "      <td>21166200</td>\n",
       "      <td>0</td>\n",
       "      <td>0</td>\n",
       "    </tr>\n",
       "    <tr>\n",
       "      <th>2020-03-18</th>\n",
       "      <td>104.570000</td>\n",
       "      <td>135.000000</td>\n",
       "      <td>95.330002</td>\n",
       "      <td>110.629997</td>\n",
       "      <td>20936800</td>\n",
       "      <td>0</td>\n",
       "      <td>0</td>\n",
       "    </tr>\n",
       "    <tr>\n",
       "      <th>2020-03-19</th>\n",
       "      <td>121.209999</td>\n",
       "      <td>130.229996</td>\n",
       "      <td>79.820000</td>\n",
       "      <td>94.089996</td>\n",
       "      <td>21728300</td>\n",
       "      <td>0</td>\n",
       "      <td>0</td>\n",
       "    </tr>\n",
       "    <tr>\n",
       "      <th>2020-03-20</th>\n",
       "      <td>87.879997</td>\n",
       "      <td>97.129997</td>\n",
       "      <td>72.330002</td>\n",
       "      <td>91.110001</td>\n",
       "      <td>17896300</td>\n",
       "      <td>0</td>\n",
       "      <td>0</td>\n",
       "    </tr>\n",
       "    <tr>\n",
       "      <th>2020-03-23</th>\n",
       "      <td>83.000000</td>\n",
       "      <td>88.489998</td>\n",
       "      <td>65.580002</td>\n",
       "      <td>69.930000</td>\n",
       "      <td>13614800</td>\n",
       "      <td>0</td>\n",
       "      <td>0</td>\n",
       "    </tr>\n",
       "    <tr>\n",
       "      <th>2020-03-24</th>\n",
       "      <td>50.590000</td>\n",
       "      <td>62.470001</td>\n",
       "      <td>46.090000</td>\n",
       "      <td>60.400002</td>\n",
       "      <td>13769300</td>\n",
       "      <td>0</td>\n",
       "      <td>0</td>\n",
       "    </tr>\n",
       "  </tbody>\n",
       "</table>\n",
       "</div>"
      ],
      "text/plain": [
       "                  Open        High        Low       Close    Volume  \\\n",
       "Date                                                                  \n",
       "2020-03-11   45.560001   50.320000  44.740002   48.220001  25486800   \n",
       "2020-03-12   61.200001   68.000000  54.240002   65.019997  32061700   \n",
       "2020-03-13   55.000000   69.800003  54.680000   57.240002  28028400   \n",
       "2020-03-16   79.000000   94.500000  73.699997   90.139999  19990800   \n",
       "2020-03-17   85.000000   96.800003  78.000000   87.230003  21166200   \n",
       "2020-03-18  104.570000  135.000000  95.330002  110.629997  20936800   \n",
       "2020-03-19  121.209999  130.229996  79.820000   94.089996  21728300   \n",
       "2020-03-20   87.879997   97.129997  72.330002   91.110001  17896300   \n",
       "2020-03-23   83.000000   88.489998  65.580002   69.930000  13614800   \n",
       "2020-03-24   50.590000   62.470001  46.090000   60.400002  13769300   \n",
       "\n",
       "            Dividends  Stock Splits  \n",
       "Date                                 \n",
       "2020-03-11          0             0  \n",
       "2020-03-12          0             0  \n",
       "2020-03-13          0             0  \n",
       "2020-03-16          0             0  \n",
       "2020-03-17          0             0  \n",
       "2020-03-18          0             0  \n",
       "2020-03-19          0             0  \n",
       "2020-03-20          0             0  \n",
       "2020-03-23          0             0  \n",
       "2020-03-24          0             0  "
      ]
     },
     "execution_count": 4,
     "metadata": {},
     "output_type": "execute_result"
    }
   ],
   "source": [
    "hist.head(10)"
   ]
  },
  {
   "cell_type": "code",
   "execution_count": 5,
   "id": "interracial-wheel",
   "metadata": {},
   "outputs": [],
   "source": [
    "hist['gains'] = (hist.Close - hist.Close.shift(1))/hist.Close.shift(1) * 100"
   ]
  },
  {
   "cell_type": "code",
   "execution_count": 6,
   "id": "democratic-broad",
   "metadata": {},
   "outputs": [
    {
     "data": {
      "text/html": [
       "<div>\n",
       "<style scoped>\n",
       "    .dataframe tbody tr th:only-of-type {\n",
       "        vertical-align: middle;\n",
       "    }\n",
       "\n",
       "    .dataframe tbody tr th {\n",
       "        vertical-align: top;\n",
       "    }\n",
       "\n",
       "    .dataframe thead th {\n",
       "        text-align: right;\n",
       "    }\n",
       "</style>\n",
       "<table border=\"1\" class=\"dataframe\">\n",
       "  <thead>\n",
       "    <tr style=\"text-align: right;\">\n",
       "      <th></th>\n",
       "      <th>Open</th>\n",
       "      <th>High</th>\n",
       "      <th>Low</th>\n",
       "      <th>Close</th>\n",
       "      <th>Volume</th>\n",
       "      <th>Dividends</th>\n",
       "      <th>Stock Splits</th>\n",
       "      <th>gains</th>\n",
       "    </tr>\n",
       "    <tr>\n",
       "      <th>Date</th>\n",
       "      <th></th>\n",
       "      <th></th>\n",
       "      <th></th>\n",
       "      <th></th>\n",
       "      <th></th>\n",
       "      <th></th>\n",
       "      <th></th>\n",
       "      <th></th>\n",
       "    </tr>\n",
       "  </thead>\n",
       "  <tbody>\n",
       "    <tr>\n",
       "      <th>2020-03-11</th>\n",
       "      <td>45.560001</td>\n",
       "      <td>50.320000</td>\n",
       "      <td>44.740002</td>\n",
       "      <td>48.220001</td>\n",
       "      <td>25486800</td>\n",
       "      <td>0</td>\n",
       "      <td>0</td>\n",
       "      <td>NaN</td>\n",
       "    </tr>\n",
       "    <tr>\n",
       "      <th>2020-03-12</th>\n",
       "      <td>61.200001</td>\n",
       "      <td>68.000000</td>\n",
       "      <td>54.240002</td>\n",
       "      <td>65.019997</td>\n",
       "      <td>32061700</td>\n",
       "      <td>0</td>\n",
       "      <td>0</td>\n",
       "      <td>34.840305</td>\n",
       "    </tr>\n",
       "    <tr>\n",
       "      <th>2020-03-13</th>\n",
       "      <td>55.000000</td>\n",
       "      <td>69.800003</td>\n",
       "      <td>54.680000</td>\n",
       "      <td>57.240002</td>\n",
       "      <td>28028400</td>\n",
       "      <td>0</td>\n",
       "      <td>0</td>\n",
       "      <td>-11.965542</td>\n",
       "    </tr>\n",
       "    <tr>\n",
       "      <th>2020-03-16</th>\n",
       "      <td>79.000000</td>\n",
       "      <td>94.500000</td>\n",
       "      <td>73.699997</td>\n",
       "      <td>90.139999</td>\n",
       "      <td>19990800</td>\n",
       "      <td>0</td>\n",
       "      <td>0</td>\n",
       "      <td>57.477283</td>\n",
       "    </tr>\n",
       "    <tr>\n",
       "      <th>2020-03-17</th>\n",
       "      <td>85.000000</td>\n",
       "      <td>96.800003</td>\n",
       "      <td>78.000000</td>\n",
       "      <td>87.230003</td>\n",
       "      <td>21166200</td>\n",
       "      <td>0</td>\n",
       "      <td>0</td>\n",
       "      <td>-3.228307</td>\n",
       "    </tr>\n",
       "    <tr>\n",
       "      <th>2020-03-18</th>\n",
       "      <td>104.570000</td>\n",
       "      <td>135.000000</td>\n",
       "      <td>95.330002</td>\n",
       "      <td>110.629997</td>\n",
       "      <td>20936800</td>\n",
       "      <td>0</td>\n",
       "      <td>0</td>\n",
       "      <td>26.825625</td>\n",
       "    </tr>\n",
       "    <tr>\n",
       "      <th>2020-03-19</th>\n",
       "      <td>121.209999</td>\n",
       "      <td>130.229996</td>\n",
       "      <td>79.820000</td>\n",
       "      <td>94.089996</td>\n",
       "      <td>21728300</td>\n",
       "      <td>0</td>\n",
       "      <td>0</td>\n",
       "      <td>-14.950738</td>\n",
       "    </tr>\n",
       "    <tr>\n",
       "      <th>2020-03-20</th>\n",
       "      <td>87.879997</td>\n",
       "      <td>97.129997</td>\n",
       "      <td>72.330002</td>\n",
       "      <td>91.110001</td>\n",
       "      <td>17896300</td>\n",
       "      <td>0</td>\n",
       "      <td>0</td>\n",
       "      <td>-3.167176</td>\n",
       "    </tr>\n",
       "    <tr>\n",
       "      <th>2020-03-23</th>\n",
       "      <td>83.000000</td>\n",
       "      <td>88.489998</td>\n",
       "      <td>65.580002</td>\n",
       "      <td>69.930000</td>\n",
       "      <td>13614800</td>\n",
       "      <td>0</td>\n",
       "      <td>0</td>\n",
       "      <td>-23.246625</td>\n",
       "    </tr>\n",
       "    <tr>\n",
       "      <th>2020-03-24</th>\n",
       "      <td>50.590000</td>\n",
       "      <td>62.470001</td>\n",
       "      <td>46.090000</td>\n",
       "      <td>60.400002</td>\n",
       "      <td>13769300</td>\n",
       "      <td>0</td>\n",
       "      <td>0</td>\n",
       "      <td>-13.627912</td>\n",
       "    </tr>\n",
       "  </tbody>\n",
       "</table>\n",
       "</div>"
      ],
      "text/plain": [
       "                  Open        High        Low       Close    Volume  \\\n",
       "Date                                                                  \n",
       "2020-03-11   45.560001   50.320000  44.740002   48.220001  25486800   \n",
       "2020-03-12   61.200001   68.000000  54.240002   65.019997  32061700   \n",
       "2020-03-13   55.000000   69.800003  54.680000   57.240002  28028400   \n",
       "2020-03-16   79.000000   94.500000  73.699997   90.139999  19990800   \n",
       "2020-03-17   85.000000   96.800003  78.000000   87.230003  21166200   \n",
       "2020-03-18  104.570000  135.000000  95.330002  110.629997  20936800   \n",
       "2020-03-19  121.209999  130.229996  79.820000   94.089996  21728300   \n",
       "2020-03-20   87.879997   97.129997  72.330002   91.110001  17896300   \n",
       "2020-03-23   83.000000   88.489998  65.580002   69.930000  13614800   \n",
       "2020-03-24   50.590000   62.470001  46.090000   60.400002  13769300   \n",
       "\n",
       "            Dividends  Stock Splits      gains  \n",
       "Date                                            \n",
       "2020-03-11          0             0        NaN  \n",
       "2020-03-12          0             0  34.840305  \n",
       "2020-03-13          0             0 -11.965542  \n",
       "2020-03-16          0             0  57.477283  \n",
       "2020-03-17          0             0  -3.228307  \n",
       "2020-03-18          0             0  26.825625  \n",
       "2020-03-19          0             0 -14.950738  \n",
       "2020-03-20          0             0  -3.167176  \n",
       "2020-03-23          0             0 -23.246625  \n",
       "2020-03-24          0             0 -13.627912  "
      ]
     },
     "execution_count": 6,
     "metadata": {},
     "output_type": "execute_result"
    }
   ],
   "source": [
    "hist.head(10)"
   ]
  },
  {
   "cell_type": "code",
   "execution_count": 7,
   "id": "involved-supervision",
   "metadata": {},
   "outputs": [
    {
     "data": {
      "text/plain": [
       "<AxesSubplot:xlabel='Date'>"
      ]
     },
     "execution_count": 7,
     "metadata": {},
     "output_type": "execute_result"
    },
    {
     "data": {
      "image/png": "[encoded data removed]",
      "text/plain": [
       "<Figure size 432x288 with 1 Axes>"
      ]
     },
     "metadata": {
      "needs_background": "light"
     },
     "output_type": "display_data"
    }
   ],
   "source": [
    "hist.Close.plot()"
   ]
  },
  {
   "cell_type": "code",
   "execution_count": 8,
   "id": "loose-spoke",
   "metadata": {},
   "outputs": [
    {
     "data": {
      "text/plain": [
       "count    252.000000\n",
       "mean      -0.362025\n",
       "std        8.899054\n",
       "min      -23.246625\n",
       "25%       -4.950822\n",
       "50%       -1.805402\n",
       "75%        2.229161\n",
       "max       57.477283\n",
       "Name: gains, dtype: float64"
      ]
     },
     "execution_count": 8,
     "metadata": {},
     "output_type": "execute_result"
    }
   ],
   "source": [
    "hist['gains'].describe()"
   ]
  },
  {
   "cell_type": "code",
   "execution_count": 9,
   "id": "outstanding-mills",
   "metadata": {},
   "outputs": [
    {
     "name": "stderr",
     "output_type": "stream",
     "text": [
      "/Library/Frameworks/Python.framework/Versions/3.9/lib/python3.9/site-packages/seaborn/distributions.py:2557: FutureWarning: `distplot` is a deprecated function and will be removed in a future version. Please adapt your code to use either `displot` (a figure-level function with similar flexibility) or `histplot` (an axes-level function for histograms).\n",
      "  warnings.warn(msg, FutureWarning)\n"
     ]
    },
    {
     "data": {
      "text/plain": [
       "<AxesSubplot:xlabel='gains', ylabel='Density'>"
      ]
     },
     "execution_count": 9,
     "metadata": {},
     "output_type": "execute_result"
    },
    {
     "data": {
      "image/png": "[encoded data removed]",
      "text/plain": [
       "<Figure size 432x288 with 1 Axes>"
      ]
     },
     "metadata": {
      "needs_background": "light"
     },
     "output_type": "display_data"
    }
   ],
   "source": [
    "sns.distplot(hist.gains)"
   ]
  },
  {
   "cell_type": "code",
   "execution_count": 10,
   "id": "continuous-fraction",
   "metadata": {},
   "outputs": [
    {
     "data": {
      "text/plain": [
       "0.30112202650420566"
      ]
     },
     "execution_count": 10,
     "metadata": {},
     "output_type": "execute_result"
    }
   ],
   "source": [
    "st.norm.cdf(-5, hist['gains'].mean(), hist['gains'].std())"
   ]
  },
  {
   "cell_type": "code",
   "execution_count": 11,
   "id": "still-shade",
   "metadata": {},
   "outputs": [],
   "source": [
    "spy = yf.Ticker(\"SPY\")\n",
    "spy_hist = spy.history(period=\"1y\")\n"
   ]
  },
  {
   "cell_type": "code",
   "execution_count": 12,
   "id": "copyrighted-attendance",
   "metadata": {},
   "outputs": [
    {
     "data": {
      "text/html": [
       "<div>\n",
       "<style scoped>\n",
       "    .dataframe tbody tr th:only-of-type {\n",
       "        vertical-align: middle;\n",
       "    }\n",
       "\n",
       "    .dataframe tbody tr th {\n",
       "        vertical-align: top;\n",
       "    }\n",
       "\n",
       "    .dataframe thead th {\n",
       "        text-align: right;\n",
       "    }\n",
       "</style>\n",
       "<table border=\"1\" class=\"dataframe\">\n",
       "  <thead>\n",
       "    <tr style=\"text-align: right;\">\n",
       "      <th></th>\n",
       "      <th>Open</th>\n",
       "      <th>High</th>\n",
       "      <th>Low</th>\n",
       "      <th>Close</th>\n",
       "      <th>Volume</th>\n",
       "      <th>Dividends</th>\n",
       "      <th>Stock Splits</th>\n",
       "      <th>gains</th>\n",
       "    </tr>\n",
       "    <tr>\n",
       "      <th>Date</th>\n",
       "      <th></th>\n",
       "      <th></th>\n",
       "      <th></th>\n",
       "      <th></th>\n",
       "      <th></th>\n",
       "      <th></th>\n",
       "      <th></th>\n",
       "      <th></th>\n",
       "    </tr>\n",
       "  </thead>\n",
       "  <tbody>\n",
       "    <tr>\n",
       "      <th>2020-03-11</th>\n",
       "      <td>275.554122</td>\n",
       "      <td>276.771380</td>\n",
       "      <td>265.914138</td>\n",
       "      <td>269.330322</td>\n",
       "      <td>255316300</td>\n",
       "      <td>0.0</td>\n",
       "      <td>0</td>\n",
       "      <td>NaN</td>\n",
       "    </tr>\n",
       "    <tr>\n",
       "      <th>2020-03-12</th>\n",
       "      <td>251.306895</td>\n",
       "      <td>261.771475</td>\n",
       "      <td>243.139414</td>\n",
       "      <td>243.561539</td>\n",
       "      <td>392220700</td>\n",
       "      <td>0.0</td>\n",
       "      <td>0</td>\n",
       "      <td>-9.567725</td>\n",
       "    </tr>\n",
       "    <tr>\n",
       "      <th>2020-03-13</th>\n",
       "      <td>258.266891</td>\n",
       "      <td>266.503096</td>\n",
       "      <td>243.964004</td>\n",
       "      <td>264.382690</td>\n",
       "      <td>329566100</td>\n",
       "      <td>0.0</td>\n",
       "      <td>0</td>\n",
       "      <td>8.548621</td>\n",
       "    </tr>\n",
       "    <tr>\n",
       "      <th>2020-03-16</th>\n",
       "      <td>236.758577</td>\n",
       "      <td>252.190392</td>\n",
       "      <td>233.008615</td>\n",
       "      <td>235.452972</td>\n",
       "      <td>297240000</td>\n",
       "      <td>0.0</td>\n",
       "      <td>0</td>\n",
       "      <td>-10.942365</td>\n",
       "    </tr>\n",
       "    <tr>\n",
       "      <th>2020-03-17</th>\n",
       "      <td>240.547808</td>\n",
       "      <td>251.473788</td>\n",
       "      <td>232.723932</td>\n",
       "      <td>248.165558</td>\n",
       "      <td>262070500</td>\n",
       "      <td>0.0</td>\n",
       "      <td>0</td>\n",
       "      <td>5.399204</td>\n",
       "    </tr>\n",
       "    <tr>\n",
       "      <th>...</th>\n",
       "      <td>...</td>\n",
       "      <td>...</td>\n",
       "      <td>...</td>\n",
       "      <td>...</td>\n",
       "      <td>...</td>\n",
       "      <td>...</td>\n",
       "      <td>...</td>\n",
       "      <td>...</td>\n",
       "    </tr>\n",
       "    <tr>\n",
       "      <th>2021-03-05</th>\n",
       "      <td>380.459991</td>\n",
       "      <td>384.760010</td>\n",
       "      <td>372.640015</td>\n",
       "      <td>383.630005</td>\n",
       "      <td>151959800</td>\n",
       "      <td>0.0</td>\n",
       "      <td>0</td>\n",
       "      <td>1.839658</td>\n",
       "    </tr>\n",
       "    <tr>\n",
       "      <th>2021-03-08</th>\n",
       "      <td>384.660004</td>\n",
       "      <td>387.679993</td>\n",
       "      <td>381.420013</td>\n",
       "      <td>381.720001</td>\n",
       "      <td>122957100</td>\n",
       "      <td>0.0</td>\n",
       "      <td>0</td>\n",
       "      <td>-0.497877</td>\n",
       "    </tr>\n",
       "    <tr>\n",
       "      <th>2021-03-09</th>\n",
       "      <td>385.850006</td>\n",
       "      <td>389.910004</td>\n",
       "      <td>385.309998</td>\n",
       "      <td>387.170013</td>\n",
       "      <td>113457800</td>\n",
       "      <td>0.0</td>\n",
       "      <td>0</td>\n",
       "      <td>1.427751</td>\n",
       "    </tr>\n",
       "    <tr>\n",
       "      <th>2021-03-10</th>\n",
       "      <td>389.690002</td>\n",
       "      <td>391.399994</td>\n",
       "      <td>388.170013</td>\n",
       "      <td>389.579987</td>\n",
       "      <td>109660800</td>\n",
       "      <td>0.0</td>\n",
       "      <td>0</td>\n",
       "      <td>0.622459</td>\n",
       "    </tr>\n",
       "    <tr>\n",
       "      <th>2021-03-11</th>\n",
       "      <td>392.230011</td>\n",
       "      <td>395.029999</td>\n",
       "      <td>391.739990</td>\n",
       "      <td>395.000000</td>\n",
       "      <td>29688568</td>\n",
       "      <td>0.0</td>\n",
       "      <td>0</td>\n",
       "      <td>1.391245</td>\n",
       "    </tr>\n",
       "  </tbody>\n",
       "</table>\n",
       "<p>253 rows × 8 columns</p>\n",
       "</div>"
      ],
      "text/plain": [
       "                  Open        High         Low       Close     Volume  \\\n",
       "Date                                                                    \n",
       "2020-03-11  275.554122  276.771380  265.914138  269.330322  255316300   \n",
       "2020-03-12  251.306895  261.771475  243.139414  243.561539  392220700   \n",
       "2020-03-13  258.266891  266.503096  243.964004  264.382690  329566100   \n",
       "2020-03-16  236.758577  252.190392  233.008615  235.452972  297240000   \n",
       "2020-03-17  240.547808  251.473788  232.723932  248.165558  262070500   \n",
       "...                ...         ...         ...         ...        ...   \n",
       "2021-03-05  380.459991  384.760010  372.640015  383.630005  151959800   \n",
       "2021-03-08  384.660004  387.679993  381.420013  381.720001  122957100   \n",
       "2021-03-09  385.850006  389.910004  385.309998  387.170013  113457800   \n",
       "2021-03-10  389.690002  391.399994  388.170013  389.579987  109660800   \n",
       "2021-03-11  392.230011  395.029999  391.739990  395.000000   29688568   \n",
       "\n",
       "            Dividends  Stock Splits      gains  \n",
       "Date                                            \n",
       "2020-03-11        0.0             0        NaN  \n",
       "2020-03-12        0.0             0  -9.567725  \n",
       "2020-03-13        0.0             0   8.548621  \n",
       "2020-03-16        0.0             0 -10.942365  \n",
       "2020-03-17        0.0             0   5.399204  \n",
       "...               ...           ...        ...  \n",
       "2021-03-05        0.0             0   1.839658  \n",
       "2021-03-08        0.0             0  -0.497877  \n",
       "2021-03-09        0.0             0   1.427751  \n",
       "2021-03-10        0.0             0   0.622459  \n",
       "2021-03-11        0.0             0   1.391245  \n",
       "\n",
       "[253 rows x 8 columns]"
      ]
     },
     "execution_count": 12,
     "metadata": {},
     "output_type": "execute_result"
    }
   ],
   "source": [
    "spy_hist['gains'] = (spy_hist.Close - spy_hist.Close.shift(1))/spy_hist.Close.shift(1) * 100\n",
    "spy_hist"
   ]
  },
  {
   "cell_type": "code",
   "execution_count": 13,
   "id": "continent-wellington",
   "metadata": {},
   "outputs": [
    {
     "data": {
      "text/plain": [
       "count    252.000000\n",
       "mean       0.170752\n",
       "std        1.928417\n",
       "min      -10.942365\n",
       "25%       -0.547952\n",
       "50%        0.272566\n",
       "75%        1.033811\n",
       "max        9.060328\n",
       "Name: gains, dtype: float64"
      ]
     },
     "execution_count": 13,
     "metadata": {},
     "output_type": "execute_result"
    }
   ],
   "source": [
    "spy_hist['gains'].describe()"
   ]
  },
  {
   "cell_type": "code",
   "execution_count": 14,
   "id": "solid-upper",
   "metadata": {},
   "outputs": [
    {
     "name": "stderr",
     "output_type": "stream",
     "text": [
      "/Library/Frameworks/Python.framework/Versions/3.9/lib/python3.9/site-packages/seaborn/distributions.py:2557: FutureWarning: `distplot` is a deprecated function and will be removed in a future version. Please adapt your code to use either `displot` (a figure-level function with similar flexibility) or `histplot` (an axes-level function for histograms).\n",
      "  warnings.warn(msg, FutureWarning)\n"
     ]
    },
    {
     "data": {
      "text/plain": [
       "<AxesSubplot:xlabel='gains', ylabel='Density'>"
      ]
     },
     "execution_count": 14,
     "metadata": {},
     "output_type": "execute_result"
    },
    {
     "data": {
      "image/png": "[encoded data removed]",
      "text/plain": [
       "<Figure size 432x288 with 1 Axes>"
      ]
     },
     "metadata": {
      "needs_background": "light"
     },
     "output_type": "display_data"
    }
   ],
   "source": [
    "sns.distplot(spy_hist.gains)"
   ]
  },
  {
   "cell_type": "code",
   "execution_count": 15,
   "id": "marine-chain",
   "metadata": {},
   "outputs": [
    {
     "data": {
      "text/plain": [
       "0.2718905619290271"
      ]
     },
     "execution_count": 15,
     "metadata": {},
     "output_type": "execute_result"
    }
   ],
   "source": [
    "st.norm.cdf(-1, spy_hist['gains'].mean(), spy_hist['gains'].std())"
   ]
  },
  {
   "cell_type": "code",
   "execution_count": 16,
   "id": "wrapped-adelaide",
   "metadata": {},
   "outputs": [
    {
     "data": {
      "text/plain": [
       "<AxesSubplot:xlabel='Date'>"
      ]
     },
     "execution_count": 16,
     "metadata": {},
     "output_type": "execute_result"
    },
    {
     "data": {
      "image/png": "[encoded data removed]",
      "text/plain": [
       "<Figure size 720x720 with 1 Axes>"
      ]
     },
     "metadata": {
      "needs_background": "light"
     },
     "output_type": "display_data"
    }
   ],
   "source": [
    "spy_hist.Close.plot(figsize=(10,10))\n",
    "hist.Close.plot()"
   ]
  },
  {
   "cell_type": "code",
   "execution_count": 17,
   "id": "flying-shade",
   "metadata": {},
   "outputs": [
    {
     "data": {
      "text/plain": [
       "array([[ 1.        , -0.93725023],\n",
       "       [-0.93725023,  1.        ]])"
      ]
     },
     "execution_count": 17,
     "metadata": {},
     "output_type": "execute_result"
    }
   ],
   "source": [
    "np.corrcoef(spy_hist.Close, hist.Close)"
   ]
  },
  {
   "cell_type": "code",
   "execution_count": 18,
   "id": "neither-feature",
   "metadata": {},
   "outputs": [],
   "source": [
    "spy_hist.gains.fillna(0, inplace=True)\n",
    "hist.gains.fillna(0, inplace=True)"
   ]
  },
  {
   "cell_type": "code",
   "execution_count": 19,
   "id": "mature-conditions",
   "metadata": {},
   "outputs": [
    {
     "data": {
      "text/plain": [
       "array([[ 1.        , -0.73302701],\n",
       "       [-0.73302701,  1.        ]])"
      ]
     },
     "execution_count": 19,
     "metadata": {},
     "output_type": "execute_result"
    }
   ],
   "source": [
    "np.corrcoef(spy_hist.gains, hist.gains)"
   ]
  },
  {
   "cell_type": "code",
   "execution_count": 20,
   "id": "outstanding-discrimination",
   "metadata": {},
   "outputs": [
    {
     "data": {
      "text/plain": [
       "<AxesSubplot:xlabel='Date'>"
      ]
     },
     "execution_count": 20,
     "metadata": {},
     "output_type": "execute_result"
    },
    {
     "data": {
      "image/png": "[encoded data removed]",
      "text/plain": [
       "<Figure size 432x288 with 1 Axes>"
      ]
     },
     "metadata": {
      "needs_background": "light"
     },
     "output_type": "display_data"
    }
   ],
   "source": [
    "hist.gains.cumsum().plot()\n",
    "spy_hist.gains.cumsum().plot()"
   ]
  },
  {
   "cell_type": "code",
   "execution_count": 21,
   "id": "requested-intermediate",
   "metadata": {
    "scrolled": true
   },
   "outputs": [
    {
     "name": "stdout",
     "output_type": "stream",
     "text": [
      "-14.199874026140561 1.6533001544224817e-25\n",
      "-2.6393275992854583 0.22215433379200844\n"
     ]
    }
   ],
   "source": [
    "score, pvalue, _ = coint(hist.gains, spy_hist.gains)\n",
    "print(score, pvalue)\n",
    "\n",
    "score, pvalue, _ = coint(hist.Close, spy_hist.Close)\n",
    "print(score, pvalue)"
   ]
  },
  {
   "cell_type": "code",
   "execution_count": 22,
   "id": "covered-breach",
   "metadata": {},
   "outputs": [
    {
     "data": {
      "text/plain": [
       "array([[ 1.        , -0.93725023],\n",
       "       [-0.93725023,  1.        ]])"
      ]
     },
     "execution_count": 22,
     "metadata": {},
     "output_type": "execute_result"
    }
   ],
   "source": [
    "np.corrcoef(hist.Close, spy_hist.Close)"
   ]
  },
  {
   "cell_type": "code",
   "execution_count": 23,
   "id": "visible-adrian",
   "metadata": {},
   "outputs": [],
   "source": [
    "spy_hist['spy_gains'] = spy_hist['gains']"
   ]
  },
  {
   "cell_type": "code",
   "execution_count": 24,
   "id": "patent-premium",
   "metadata": {},
   "outputs": [],
   "source": [
    "hist.reset_index(inplace=True)\n",
    "spy_hist.reset_index(inplace=True)"
   ]
  },
  {
   "cell_type": "code",
   "execution_count": 25,
   "id": "seventh-wedding",
   "metadata": {},
   "outputs": [
    {
     "data": {
      "text/html": [
       "<div>\n",
       "<style scoped>\n",
       "    .dataframe tbody tr th:only-of-type {\n",
       "        vertical-align: middle;\n",
       "    }\n",
       "\n",
       "    .dataframe tbody tr th {\n",
       "        vertical-align: top;\n",
       "    }\n",
       "\n",
       "    .dataframe thead th {\n",
       "        text-align: right;\n",
       "    }\n",
       "</style>\n",
       "<table border=\"1\" class=\"dataframe\">\n",
       "  <thead>\n",
       "    <tr style=\"text-align: right;\">\n",
       "      <th></th>\n",
       "      <th>gains</th>\n",
       "      <th>spy_gains</th>\n",
       "    </tr>\n",
       "    <tr>\n",
       "      <th>Date</th>\n",
       "      <th></th>\n",
       "      <th></th>\n",
       "    </tr>\n",
       "  </thead>\n",
       "  <tbody>\n",
       "    <tr>\n",
       "      <th>2020-03-11</th>\n",
       "      <td>0.000000</td>\n",
       "      <td>0.000000</td>\n",
       "    </tr>\n",
       "    <tr>\n",
       "      <th>2020-03-12</th>\n",
       "      <td>34.840305</td>\n",
       "      <td>-9.567725</td>\n",
       "    </tr>\n",
       "    <tr>\n",
       "      <th>2020-03-13</th>\n",
       "      <td>-11.965542</td>\n",
       "      <td>8.548621</td>\n",
       "    </tr>\n",
       "    <tr>\n",
       "      <th>2020-03-16</th>\n",
       "      <td>57.477283</td>\n",
       "      <td>-10.942365</td>\n",
       "    </tr>\n",
       "    <tr>\n",
       "      <th>2020-03-17</th>\n",
       "      <td>-3.228307</td>\n",
       "      <td>5.399204</td>\n",
       "    </tr>\n",
       "    <tr>\n",
       "      <th>...</th>\n",
       "      <td>...</td>\n",
       "      <td>...</td>\n",
       "    </tr>\n",
       "    <tr>\n",
       "      <th>2021-03-05</th>\n",
       "      <td>-10.564100</td>\n",
       "      <td>1.839658</td>\n",
       "    </tr>\n",
       "    <tr>\n",
       "      <th>2021-03-08</th>\n",
       "      <td>2.293576</td>\n",
       "      <td>-0.497877</td>\n",
       "    </tr>\n",
       "    <tr>\n",
       "      <th>2021-03-09</th>\n",
       "      <td>-5.829601</td>\n",
       "      <td>1.427751</td>\n",
       "    </tr>\n",
       "    <tr>\n",
       "      <th>2021-03-10</th>\n",
       "      <td>-1.785710</td>\n",
       "      <td>0.622459</td>\n",
       "    </tr>\n",
       "    <tr>\n",
       "      <th>2021-03-11</th>\n",
       "      <td>-4.241209</td>\n",
       "      <td>1.391245</td>\n",
       "    </tr>\n",
       "  </tbody>\n",
       "</table>\n",
       "<p>253 rows × 2 columns</p>\n",
       "</div>"
      ],
      "text/plain": [
       "                gains  spy_gains\n",
       "Date                            \n",
       "2020-03-11   0.000000   0.000000\n",
       "2020-03-12  34.840305  -9.567725\n",
       "2020-03-13 -11.965542   8.548621\n",
       "2020-03-16  57.477283 -10.942365\n",
       "2020-03-17  -3.228307   5.399204\n",
       "...               ...        ...\n",
       "2021-03-05 -10.564100   1.839658\n",
       "2021-03-08   2.293576  -0.497877\n",
       "2021-03-09  -5.829601   1.427751\n",
       "2021-03-10  -1.785710   0.622459\n",
       "2021-03-11  -4.241209   1.391245\n",
       "\n",
       "[253 rows x 2 columns]"
      ]
     },
     "execution_count": 25,
     "metadata": {},
     "output_type": "execute_result"
    }
   ],
   "source": [
    "data = pd.merge(hist[['Date','gains']], spy_hist[['Date','spy_gains']], on='Date')\n",
    "data.set_index(keys='Date')"
   ]
  },
  {
   "cell_type": "code",
   "execution_count": 26,
   "id": "southern-tragedy",
   "metadata": {},
   "outputs": [],
   "source": [
    "data['rate'] = (data.gains+0.1) / (data.spy_gains+0.1)"
   ]
  },
  {
   "cell_type": "code",
   "execution_count": 27,
   "id": "assigned-midnight",
   "metadata": {},
   "outputs": [
    {
     "data": {
      "text/html": [
       "<div>\n",
       "<style scoped>\n",
       "    .dataframe tbody tr th:only-of-type {\n",
       "        vertical-align: middle;\n",
       "    }\n",
       "\n",
       "    .dataframe tbody tr th {\n",
       "        vertical-align: top;\n",
       "    }\n",
       "\n",
       "    .dataframe thead th {\n",
       "        text-align: right;\n",
       "    }\n",
       "</style>\n",
       "<table border=\"1\" class=\"dataframe\">\n",
       "  <thead>\n",
       "    <tr style=\"text-align: right;\">\n",
       "      <th></th>\n",
       "      <th>Date</th>\n",
       "      <th>gains</th>\n",
       "      <th>spy_gains</th>\n",
       "      <th>rate</th>\n",
       "    </tr>\n",
       "  </thead>\n",
       "  <tbody>\n",
       "    <tr>\n",
       "      <th>0</th>\n",
       "      <td>2020-03-11</td>\n",
       "      <td>0.000000</td>\n",
       "      <td>0.000000</td>\n",
       "      <td>1.000000</td>\n",
       "    </tr>\n",
       "    <tr>\n",
       "      <th>7</th>\n",
       "      <td>2020-03-20</td>\n",
       "      <td>-3.167176</td>\n",
       "      <td>-4.309413</td>\n",
       "      <td>0.728647</td>\n",
       "    </tr>\n",
       "    <tr>\n",
       "      <th>8</th>\n",
       "      <td>2020-03-23</td>\n",
       "      <td>-23.246625</td>\n",
       "      <td>-2.556823</td>\n",
       "      <td>9.421365</td>\n",
       "    </tr>\n",
       "    <tr>\n",
       "      <th>10</th>\n",
       "      <td>2020-03-25</td>\n",
       "      <td>12.582779</td>\n",
       "      <td>1.497019</td>\n",
       "      <td>7.941531</td>\n",
       "    </tr>\n",
       "    <tr>\n",
       "      <th>14</th>\n",
       "      <td>2020-03-31</td>\n",
       "      <td>-7.663193</td>\n",
       "      <td>-1.490534</td>\n",
       "      <td>5.439057</td>\n",
       "    </tr>\n",
       "    <tr>\n",
       "      <th>17</th>\n",
       "      <td>2020-04-03</td>\n",
       "      <td>-6.323456</td>\n",
       "      <td>-1.445420</td>\n",
       "      <td>4.625659</td>\n",
       "    </tr>\n",
       "    <tr>\n",
       "      <th>19</th>\n",
       "      <td>2020-04-07</td>\n",
       "      <td>4.150202</td>\n",
       "      <td>0.101950</td>\n",
       "      <td>21.045862</td>\n",
       "    </tr>\n",
       "    <tr>\n",
       "      <th>22</th>\n",
       "      <td>2020-04-13</td>\n",
       "      <td>-3.375787</td>\n",
       "      <td>-0.913008</td>\n",
       "      <td>4.029217</td>\n",
       "    </tr>\n",
       "    <tr>\n",
       "      <th>25</th>\n",
       "      <td>2020-04-16</td>\n",
       "      <td>0.656496</td>\n",
       "      <td>0.482424</td>\n",
       "      <td>1.298876</td>\n",
       "    </tr>\n",
       "    <tr>\n",
       "      <th>56</th>\n",
       "      <td>2020-06-01</td>\n",
       "      <td>0.834074</td>\n",
       "      <td>0.404165</td>\n",
       "      <td>1.852714</td>\n",
       "    </tr>\n",
       "    <tr>\n",
       "      <th>59</th>\n",
       "      <td>2020-06-04</td>\n",
       "      <td>-1.381579</td>\n",
       "      <td>-0.262676</td>\n",
       "      <td>7.878102</td>\n",
       "    </tr>\n",
       "    <tr>\n",
       "      <th>61</th>\n",
       "      <td>2020-06-08</td>\n",
       "      <td>3.339383</td>\n",
       "      <td>1.208754</td>\n",
       "      <td>2.627982</td>\n",
       "    </tr>\n",
       "    <tr>\n",
       "      <th>63</th>\n",
       "      <td>2020-06-10</td>\n",
       "      <td>-0.817261</td>\n",
       "      <td>-0.557997</td>\n",
       "      <td>1.566080</td>\n",
       "    </tr>\n",
       "    <tr>\n",
       "      <th>68</th>\n",
       "      <td>2020-06-17</td>\n",
       "      <td>-0.424515</td>\n",
       "      <td>-0.415395</td>\n",
       "      <td>1.028918</td>\n",
       "    </tr>\n",
       "    <tr>\n",
       "      <th>80</th>\n",
       "      <td>2020-07-06</td>\n",
       "      <td>-0.032928</td>\n",
       "      <td>1.543740</td>\n",
       "      <td>0.040805</td>\n",
       "    </tr>\n",
       "    <tr>\n",
       "      <th>88</th>\n",
       "      <td>2020-07-16</td>\n",
       "      <td>-2.414818</td>\n",
       "      <td>-0.329339</td>\n",
       "      <td>10.093444</td>\n",
       "    </tr>\n",
       "    <tr>\n",
       "      <th>91</th>\n",
       "      <td>2020-07-21</td>\n",
       "      <td>1.348742</td>\n",
       "      <td>0.212761</td>\n",
       "      <td>4.632111</td>\n",
       "    </tr>\n",
       "    <tr>\n",
       "      <th>96</th>\n",
       "      <td>2020-07-28</td>\n",
       "      <td>-0.577588</td>\n",
       "      <td>-0.634237</td>\n",
       "      <td>0.893962</td>\n",
       "    </tr>\n",
       "    <tr>\n",
       "      <th>108</th>\n",
       "      <td>2020-08-13</td>\n",
       "      <td>-0.142444</td>\n",
       "      <td>-0.180789</td>\n",
       "      <td>0.525376</td>\n",
       "    </tr>\n",
       "    <tr>\n",
       "      <th>114</th>\n",
       "      <td>2020-08-21</td>\n",
       "      <td>0.504543</td>\n",
       "      <td>0.354730</td>\n",
       "      <td>1.329453</td>\n",
       "    </tr>\n",
       "    <tr>\n",
       "      <th>117</th>\n",
       "      <td>2020-08-26</td>\n",
       "      <td>3.306204</td>\n",
       "      <td>1.002558</td>\n",
       "      <td>3.089365</td>\n",
       "    </tr>\n",
       "    <tr>\n",
       "      <th>118</th>\n",
       "      <td>2020-08-27</td>\n",
       "      <td>4.529789</td>\n",
       "      <td>0.218651</td>\n",
       "      <td>14.529331</td>\n",
       "    </tr>\n",
       "    <tr>\n",
       "      <th>121</th>\n",
       "      <td>2020-09-01</td>\n",
       "      <td>2.604857</td>\n",
       "      <td>0.941856</td>\n",
       "      <td>2.596192</td>\n",
       "    </tr>\n",
       "    <tr>\n",
       "      <th>122</th>\n",
       "      <td>2020-09-02</td>\n",
       "      <td>3.614459</td>\n",
       "      <td>1.446398</td>\n",
       "      <td>2.402006</td>\n",
       "    </tr>\n",
       "    <tr>\n",
       "      <th>124</th>\n",
       "      <td>2020-09-04</td>\n",
       "      <td>-12.456749</td>\n",
       "      <td>-0.816480</td>\n",
       "      <td>17.246466</td>\n",
       "    </tr>\n",
       "    <tr>\n",
       "      <th>125</th>\n",
       "      <td>2020-09-08</td>\n",
       "      <td>-3.873516</td>\n",
       "      <td>-2.732289</td>\n",
       "      <td>1.433550</td>\n",
       "    </tr>\n",
       "    <tr>\n",
       "      <th>131</th>\n",
       "      <td>2020-09-16</td>\n",
       "      <td>-0.643888</td>\n",
       "      <td>-0.396866</td>\n",
       "      <td>1.832102</td>\n",
       "    </tr>\n",
       "    <tr>\n",
       "      <th>132</th>\n",
       "      <td>2020-09-17</td>\n",
       "      <td>-3.040871</td>\n",
       "      <td>-0.879519</td>\n",
       "      <td>3.772676</td>\n",
       "    </tr>\n",
       "    <tr>\n",
       "      <th>133</th>\n",
       "      <td>2020-09-18</td>\n",
       "      <td>-0.205660</td>\n",
       "      <td>-1.151277</td>\n",
       "      <td>0.100507</td>\n",
       "    </tr>\n",
       "    <tr>\n",
       "      <th>135</th>\n",
       "      <td>2020-09-22</td>\n",
       "      <td>1.231527</td>\n",
       "      <td>1.018439</td>\n",
       "      <td>1.190522</td>\n",
       "    </tr>\n",
       "    <tr>\n",
       "      <th>140</th>\n",
       "      <td>2020-09-29</td>\n",
       "      <td>-3.002416</td>\n",
       "      <td>-0.544604</td>\n",
       "      <td>6.528096</td>\n",
       "    </tr>\n",
       "    <tr>\n",
       "      <th>142</th>\n",
       "      <td>2020-10-01</td>\n",
       "      <td>0.953818</td>\n",
       "      <td>0.641991</td>\n",
       "      <td>1.420257</td>\n",
       "    </tr>\n",
       "    <tr>\n",
       "      <th>151</th>\n",
       "      <td>2020-10-14</td>\n",
       "      <td>-1.379721</td>\n",
       "      <td>-0.628341</td>\n",
       "      <td>2.422148</td>\n",
       "    </tr>\n",
       "    <tr>\n",
       "      <th>153</th>\n",
       "      <td>2020-10-16</td>\n",
       "      <td>0.719861</td>\n",
       "      <td>-0.060431</td>\n",
       "      <td>20.719792</td>\n",
       "    </tr>\n",
       "    <tr>\n",
       "      <th>156</th>\n",
       "      <td>2020-10-21</td>\n",
       "      <td>-3.519548</td>\n",
       "      <td>-0.189296</td>\n",
       "      <td>38.294322</td>\n",
       "    </tr>\n",
       "    <tr>\n",
       "      <th>158</th>\n",
       "      <td>2020-10-23</td>\n",
       "      <td>0.239802</td>\n",
       "      <td>0.339516</td>\n",
       "      <td>0.773129</td>\n",
       "    </tr>\n",
       "    <tr>\n",
       "      <th>170</th>\n",
       "      <td>2020-11-10</td>\n",
       "      <td>-4.866012</td>\n",
       "      <td>-0.146660</td>\n",
       "      <td>102.142675</td>\n",
       "    </tr>\n",
       "    <tr>\n",
       "      <th>175</th>\n",
       "      <td>2020-11-17</td>\n",
       "      <td>-2.777781</td>\n",
       "      <td>-0.537832</td>\n",
       "      <td>6.115995</td>\n",
       "    </tr>\n",
       "    <tr>\n",
       "      <th>178</th>\n",
       "      <td>2020-11-20</td>\n",
       "      <td>-0.714287</td>\n",
       "      <td>-0.684780</td>\n",
       "      <td>1.050459</td>\n",
       "    </tr>\n",
       "    <tr>\n",
       "      <th>181</th>\n",
       "      <td>2020-11-25</td>\n",
       "      <td>-5.754792</td>\n",
       "      <td>-0.154175</td>\n",
       "      <td>104.380270</td>\n",
       "    </tr>\n",
       "    <tr>\n",
       "      <th>182</th>\n",
       "      <td>2020-11-27</td>\n",
       "      <td>1.238933</td>\n",
       "      <td>0.278504</td>\n",
       "      <td>3.537429</td>\n",
       "    </tr>\n",
       "    <tr>\n",
       "      <th>183</th>\n",
       "      <td>2020-11-30</td>\n",
       "      <td>-2.534965</td>\n",
       "      <td>-0.442713</td>\n",
       "      <td>7.104972</td>\n",
       "    </tr>\n",
       "    <tr>\n",
       "      <th>184</th>\n",
       "      <td>2020-12-01</td>\n",
       "      <td>1.255609</td>\n",
       "      <td>1.093737</td>\n",
       "      <td>1.135601</td>\n",
       "    </tr>\n",
       "    <tr>\n",
       "      <th>186</th>\n",
       "      <td>2020-12-03</td>\n",
       "      <td>1.429855</td>\n",
       "      <td>-0.027264</td>\n",
       "      <td>21.033120</td>\n",
       "    </tr>\n",
       "    <tr>\n",
       "      <th>191</th>\n",
       "      <td>2020-12-10</td>\n",
       "      <td>1.256727</td>\n",
       "      <td>-0.032707</td>\n",
       "      <td>20.161486</td>\n",
       "    </tr>\n",
       "    <tr>\n",
       "      <th>199</th>\n",
       "      <td>2020-12-22</td>\n",
       "      <td>-2.285712</td>\n",
       "      <td>-0.168541</td>\n",
       "      <td>31.889091</td>\n",
       "    </tr>\n",
       "    <tr>\n",
       "      <th>220</th>\n",
       "      <td>2021-01-25</td>\n",
       "      <td>6.476946</td>\n",
       "      <td>0.394382</td>\n",
       "      <td>13.303370</td>\n",
       "    </tr>\n",
       "    <tr>\n",
       "      <th>221</th>\n",
       "      <td>2021-01-26</td>\n",
       "      <td>-2.764979</td>\n",
       "      <td>-0.156093</td>\n",
       "      <td>47.509960</td>\n",
       "    </tr>\n",
       "    <tr>\n",
       "      <th>231</th>\n",
       "      <td>2021-02-09</td>\n",
       "      <td>0.300608</td>\n",
       "      <td>-0.066582</td>\n",
       "      <td>11.987830</td>\n",
       "    </tr>\n",
       "    <tr>\n",
       "      <th>232</th>\n",
       "      <td>2021-02-10</td>\n",
       "      <td>2.397600</td>\n",
       "      <td>-0.043565</td>\n",
       "      <td>44.256429</td>\n",
       "    </tr>\n",
       "    <tr>\n",
       "      <th>235</th>\n",
       "      <td>2021-02-16</td>\n",
       "      <td>1.486203</td>\n",
       "      <td>-0.086600</td>\n",
       "      <td>118.374730</td>\n",
       "    </tr>\n",
       "    <tr>\n",
       "      <th>238</th>\n",
       "      <td>2021-02-19</td>\n",
       "      <td>-5.775400</td>\n",
       "      <td>-0.176598</td>\n",
       "      <td>74.093637</td>\n",
       "    </tr>\n",
       "    <tr>\n",
       "      <th>243</th>\n",
       "      <td>2021-02-26</td>\n",
       "      <td>-6.744864</td>\n",
       "      <td>-0.515262</td>\n",
       "      <td>16.001618</td>\n",
       "    </tr>\n",
       "  </tbody>\n",
       "</table>\n",
       "</div>"
      ],
      "text/plain": [
       "          Date      gains  spy_gains        rate\n",
       "0   2020-03-11   0.000000   0.000000    1.000000\n",
       "7   2020-03-20  -3.167176  -4.309413    0.728647\n",
       "8   2020-03-23 -23.246625  -2.556823    9.421365\n",
       "10  2020-03-25  12.582779   1.497019    7.941531\n",
       "14  2020-03-31  -7.663193  -1.490534    5.439057\n",
       "17  2020-04-03  -6.323456  -1.445420    4.625659\n",
       "19  2020-04-07   4.150202   0.101950   21.045862\n",
       "22  2020-04-13  -3.375787  -0.913008    4.029217\n",
       "25  2020-04-16   0.656496   0.482424    1.298876\n",
       "56  2020-06-01   0.834074   0.404165    1.852714\n",
       "59  2020-06-04  -1.381579  -0.262676    7.878102\n",
       "61  2020-06-08   3.339383   1.208754    2.627982\n",
       "63  2020-06-10  -0.817261  -0.557997    1.566080\n",
       "68  2020-06-17  -0.424515  -0.415395    1.028918\n",
       "80  2020-07-06  -0.032928   1.543740    0.040805\n",
       "88  2020-07-16  -2.414818  -0.329339   10.093444\n",
       "91  2020-07-21   1.348742   0.212761    4.632111\n",
       "96  2020-07-28  -0.577588  -0.634237    0.893962\n",
       "108 2020-08-13  -0.142444  -0.180789    0.525376\n",
       "114 2020-08-21   0.504543   0.354730    1.329453\n",
       "117 2020-08-26   3.306204   1.002558    3.089365\n",
       "118 2020-08-27   4.529789   0.218651   14.529331\n",
       "121 2020-09-01   2.604857   0.941856    2.596192\n",
       "122 2020-09-02   3.614459   1.446398    2.402006\n",
       "124 2020-09-04 -12.456749  -0.816480   17.246466\n",
       "125 2020-09-08  -3.873516  -2.732289    1.433550\n",
       "131 2020-09-16  -0.643888  -0.396866    1.832102\n",
       "132 2020-09-17  -3.040871  -0.879519    3.772676\n",
       "133 2020-09-18  -0.205660  -1.151277    0.100507\n",
       "135 2020-09-22   1.231527   1.018439    1.190522\n",
       "140 2020-09-29  -3.002416  -0.544604    6.528096\n",
       "142 2020-10-01   0.953818   0.641991    1.420257\n",
       "151 2020-10-14  -1.379721  -0.628341    2.422148\n",
       "153 2020-10-16   0.719861  -0.060431   20.719792\n",
       "156 2020-10-21  -3.519548  -0.189296   38.294322\n",
       "158 2020-10-23   0.239802   0.339516    0.773129\n",
       "170 2020-11-10  -4.866012  -0.146660  102.142675\n",
       "175 2020-11-17  -2.777781  -0.537832    6.115995\n",
       "178 2020-11-20  -0.714287  -0.684780    1.050459\n",
       "181 2020-11-25  -5.754792  -0.154175  104.380270\n",
       "182 2020-11-27   1.238933   0.278504    3.537429\n",
       "183 2020-11-30  -2.534965  -0.442713    7.104972\n",
       "184 2020-12-01   1.255609   1.093737    1.135601\n",
       "186 2020-12-03   1.429855  -0.027264   21.033120\n",
       "191 2020-12-10   1.256727  -0.032707   20.161486\n",
       "199 2020-12-22  -2.285712  -0.168541   31.889091\n",
       "220 2021-01-25   6.476946   0.394382   13.303370\n",
       "221 2021-01-26  -2.764979  -0.156093   47.509960\n",
       "231 2021-02-09   0.300608  -0.066582   11.987830\n",
       "232 2021-02-10   2.397600  -0.043565   44.256429\n",
       "235 2021-02-16   1.486203  -0.086600  118.374730\n",
       "238 2021-02-19  -5.775400  -0.176598   74.093637\n",
       "243 2021-02-26  -6.744864  -0.515262   16.001618"
      ]
     },
     "execution_count": 27,
     "metadata": {},
     "output_type": "execute_result"
    }
   ],
   "source": [
    "data[data['rate']>0]"
   ]
  },
  {
   "cell_type": "code",
   "execution_count": 28,
   "id": "completed-muslim",
   "metadata": {},
   "outputs": [
    {
     "data": {
      "text/plain": [
       "count    253.000000\n",
       "mean      -4.836395\n",
       "std       29.520087\n",
       "min     -344.845018\n",
       "25%       -6.190016\n",
       "50%       -3.963395\n",
       "75%       -0.876000\n",
       "max      118.374730\n",
       "Name: rate, dtype: float64"
      ]
     },
     "execution_count": 28,
     "metadata": {},
     "output_type": "execute_result"
    }
   ],
   "source": [
    "data.rate.describe()"
   ]
  },
  {
   "cell_type": "code",
   "execution_count": 29,
   "id": "federal-stereo",
   "metadata": {},
   "outputs": [
    {
     "name": "stderr",
     "output_type": "stream",
     "text": [
      "/Library/Frameworks/Python.framework/Versions/3.9/lib/python3.9/site-packages/seaborn/distributions.py:2557: FutureWarning: `distplot` is a deprecated function and will be removed in a future version. Please adapt your code to use either `displot` (a figure-level function with similar flexibility) or `histplot` (an axes-level function for histograms).\n",
      "  warnings.warn(msg, FutureWarning)\n"
     ]
    },
    {
     "data": {
      "text/plain": [
       "<AxesSubplot:xlabel='rate', ylabel='Density'>"
      ]
     },
     "execution_count": 29,
     "metadata": {},
     "output_type": "execute_result"
    },
    {
     "data": {
      "image/png": "[encoded data removed]",
      "text/plain": [
       "<Figure size 432x288 with 1 Axes>"
      ]
     },
     "metadata": {
      "needs_background": "light"
     },
     "output_type": "display_data"
    }
   ],
   "source": [
    "sns.distplot(data.rate)"
   ]
  },
  {
   "cell_type": "code",
   "execution_count": 30,
   "id": "breeding-pendant",
   "metadata": {},
   "outputs": [
    {
     "data": {
      "text/plain": [
       "Date         0\n",
       "gains        0\n",
       "spy_gains    0\n",
       "rate         0\n",
       "dtype: int64"
      ]
     },
     "execution_count": 30,
     "metadata": {},
     "output_type": "execute_result"
    }
   ],
   "source": [
    "data.fillna(0,inplace=True)\n",
    "data.isna().sum()"
   ]
  },
  {
   "cell_type": "code",
   "execution_count": 31,
   "id": "listed-scene",
   "metadata": {},
   "outputs": [
    {
     "name": "stdout",
     "output_type": "stream",
     "text": [
      "4\n"
     ]
    },
    {
     "data": {
      "text/plain": [
       "4"
      ]
     },
     "execution_count": 31,
     "metadata": {},
     "output_type": "execute_result"
    }
   ],
   "source": [
    "print((data.rate>50).sum())\n",
    "# data = data[abs(data['rate'])<50]\n",
    "(data.rate>50).sum()"
   ]
  },
  {
   "cell_type": "code",
   "execution_count": 32,
   "id": "tender-company",
   "metadata": {},
   "outputs": [
    {
     "data": {
      "text/plain": [
       "<matplotlib.lines.Line2D at 0x7fe49994a160>"
      ]
     },
     "execution_count": 32,
     "metadata": {},
     "output_type": "execute_result"
    },
    {
     "data": {
      "image/png": "[encoded data removed]",
      "text/plain": [
       "<Figure size 432x288 with 1 Axes>"
      ]
     },
     "metadata": {
      "needs_background": "light"
     },
     "output_type": "display_data"
    }
   ],
   "source": [
    "data.rate.plot()\n",
    "plt.axhline(data.rate.mean(), color='red', linestyle='--') "
   ]
  },
  {
   "cell_type": "code",
   "execution_count": 36,
   "id": "conceptual-aircraft",
   "metadata": {},
   "outputs": [
    {
     "name": "stdout",
     "output_type": "stream",
     "text": [
      "-4.836395263680605 29.520086623538127\n"
     ]
    },
    {
     "data": {
      "image/png": "[encoded data removed]",
      "text/plain": [
       "<Figure size 720x720 with 1 Axes>"
      ]
     },
     "metadata": {
      "needs_background": "light"
     },
     "output_type": "display_data"
    }
   ],
   "source": [
    "def zscore(series):\n",
    "    print(series.mean(), series.std())\n",
    "    return (series - series.mean()) / np.std(series)\n",
    "\n",
    "z_score = zscore(data.rate)\n",
    "z_score.plot(figsize=(10,10))\n",
    "plt.axhline(z_score.mean())\n",
    "plt.axhline(1.0, color='red')\n",
    "plt.axhline(-1.0, color='green')\n",
    "plt.show()"
   ]
  },
  {
   "cell_type": "code",
   "execution_count": null,
   "id": "literary-professional",
   "metadata": {},
   "outputs": [],
   "source": [
    "# rolling ?"
   ]
  },
  {
   "cell_type": "code",
   "execution_count": 37,
   "id": "laughing-lewis",
   "metadata": {},
   "outputs": [
    {
     "name": "stdout",
     "output_type": "stream",
     "text": [
      "(253,)\n",
      "(200,) (53,)\n"
     ]
    }
   ],
   "source": [
    "print(z_score.shape)\n",
    "train = z_score[:200]\n",
    "test = z_score[200:]\n",
    "print(train.shape, test.shape)"
   ]
  },
  {
   "cell_type": "code",
   "execution_count": 46,
   "id": "continuing-heather",
   "metadata": {},
   "outputs": [
    {
     "data": {
      "image/png": "[encoded data removed]",
      "text/plain": [
       "<Figure size 1080x504 with 1 Axes>"
      ]
     },
     "metadata": {
      "needs_background": "light"
     },
     "output_type": "display_data"
    }
   ],
   "source": [
    "plt.figure(figsize=(15,7))\n",
    "train[60:].plot()\n",
    "buy = train.copy()\n",
    "sell = train.copy()\n",
    "buy[z_score>-1] = 0\n",
    "sell[z_score<1] = 0\n",
    "buy[60:].plot(color='g', linestyle='None', marker='^')\n",
    "sell[60:].plot(color='r', linestyle='None', marker='^')\n",
    "x1,x2,y1,y2 = plt.axis()\n",
    "# plt.axis((x1,x2,data.rate.min(),data.rate.max()))\n",
    "plt.legend(['Ratio', 'Buy Signal', 'Sell Signal'])\n",
    "plt.show()"
   ]
  },
  {
   "cell_type": "code",
   "execution_count": 57,
   "id": "formed-adrian",
   "metadata": {},
   "outputs": [
    {
     "data": {
      "image/png": "[encoded data removed]",
      "text/plain": [
       "<Figure size 720x720 with 1 Axes>"
      ]
     },
     "metadata": {
      "needs_background": "light"
     },
     "output_type": "display_data"
    }
   ],
   "source": [
    "# Plot the prices and buy and sell signals from z score\n",
    "plt.figure(figsize=(10,10))\n",
    "S1 = hist.iloc[:200].Close\n",
    "S2 = spy_hist.iloc[:200].Close\n",
    "S1.plot(color='b')\n",
    "S2.plot(color='c')\n",
    "\n",
    "buyR = 0*S1.copy()\n",
    "sellR = 0*S1.copy()\n",
    "# When buying the ratio, buy S1 and sell S2\n",
    "buyR[buy!=0] = S1[buy!=0]\n",
    "sellR[buy!=0] = S2[buy!=0]\n",
    "# When selling the ratio, sell S1 and buy S2 \n",
    "buyR[sell!=0] = S2[sell!=0]\n",
    "sellR[sell!=0] = S1[sell!=0]\n",
    "buyR[60:].plot(color='g', linestyle='None', marker='^')\n",
    "sellR[60:].plot(color='r', linestyle='None', marker='^')\n",
    "x1,x2,y1,y2 = plt.axis()\n",
    "plt.axis((x1,x2,min(S1.min(),S2.min()),max(S1.max(),S2.max())))\n",
    "plt.legend(['UVXY','SPY', 'Buy Signal', 'Sell Signal'])\n",
    "plt.show()"
   ]
  },
  {
   "cell_type": "code",
   "execution_count": null,
   "id": "chief-clearing",
   "metadata": {},
   "outputs": [],
   "source": []
  }
 ],
 "metadata": {
  "kernelspec": {
   "display_name": "Python 3",
   "language": "python",
   "name": "python3"
  },
  "language_info": {
   "codemirror_mode": {
    "name": "ipython",
    "version": 3
   },
   "file_extension": ".py",
   "mimetype": "text/x-python",
   "name": "python",
   "nbconvert_exporter": "python",
   "pygments_lexer": "ipython3",
   "version": "3.9.2"
  }
 },
 "nbformat": 4,
 "nbformat_minor": 5
}
