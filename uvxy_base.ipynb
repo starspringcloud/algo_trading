{
 "cells": [
  {
   "cell_type": "code",
   "execution_count": 1,
   "id": "capable-geography",
   "metadata": {},
   "outputs": [],
   "source": [
    "import yfinance as yf\n",
    "import matplotlib.pyplot as plt\n",
    "import seaborn as sns\n",
    "import numpy as np\n",
    "import statsmodels\n",
    "from statsmodels.tsa.stattools import coint\n",
    "import pandas as pd\n",
    "import scipy.stats as st\n"
   ]
  },
  {
   "cell_type": "code",
   "execution_count": 2,
   "id": "social-american",
   "metadata": {},
   "outputs": [],
   "source": [
    "\n",
    "msft = yf.Ticker(\"UVXY\")\n",
    "\n",
    "# get stock info\n",
    "# print(msft.info)\n",
    "\n",
    "# get historical market data\n",
    "hist = msft.history(period=\"300d\")"
   ]
  },
  {
   "cell_type": "code",
   "execution_count": 3,
   "id": "plain-disney",
   "metadata": {},
   "outputs": [
    {
     "data": {
      "text/plain": [
       "(299, 7)"
      ]
     },
     "execution_count": 3,
     "metadata": {},
     "output_type": "execute_result"
    }
   ],
   "source": [
    "hist.shape"
   ]
  },
  {
   "cell_type": "code",
   "execution_count": 4,
   "id": "residential-denial",
   "metadata": {},
   "outputs": [
    {
     "data": {
      "text/html": [
       "<div>\n",
       "<style scoped>\n",
       "    .dataframe tbody tr th:only-of-type {\n",
       "        vertical-align: middle;\n",
       "    }\n",
       "\n",
       "    .dataframe tbody tr th {\n",
       "        vertical-align: top;\n",
       "    }\n",
       "\n",
       "    .dataframe thead th {\n",
       "        text-align: right;\n",
       "    }\n",
       "</style>\n",
       "<table border=\"1\" class=\"dataframe\">\n",
       "  <thead>\n",
       "    <tr style=\"text-align: right;\">\n",
       "      <th></th>\n",
       "      <th>Open</th>\n",
       "      <th>High</th>\n",
       "      <th>Low</th>\n",
       "      <th>Close</th>\n",
       "      <th>Volume</th>\n",
       "      <th>Dividends</th>\n",
       "      <th>Stock Splits</th>\n",
       "    </tr>\n",
       "    <tr>\n",
       "      <th>Date</th>\n",
       "      <th></th>\n",
       "      <th></th>\n",
       "      <th></th>\n",
       "      <th></th>\n",
       "      <th></th>\n",
       "      <th></th>\n",
       "      <th></th>\n",
       "    </tr>\n",
       "  </thead>\n",
       "  <tbody>\n",
       "    <tr>\n",
       "      <th>2020-01-08</th>\n",
       "      <td>12.55</td>\n",
       "      <td>12.69</td>\n",
       "      <td>11.86</td>\n",
       "      <td>12.37</td>\n",
       "      <td>20932700</td>\n",
       "      <td>0</td>\n",
       "      <td>0</td>\n",
       "    </tr>\n",
       "    <tr>\n",
       "      <th>2020-01-09</th>\n",
       "      <td>11.87</td>\n",
       "      <td>12.08</td>\n",
       "      <td>11.66</td>\n",
       "      <td>11.68</td>\n",
       "      <td>13253200</td>\n",
       "      <td>0</td>\n",
       "      <td>0</td>\n",
       "    </tr>\n",
       "    <tr>\n",
       "      <th>2020-01-10</th>\n",
       "      <td>11.63</td>\n",
       "      <td>11.79</td>\n",
       "      <td>11.39</td>\n",
       "      <td>11.59</td>\n",
       "      <td>15723900</td>\n",
       "      <td>0</td>\n",
       "      <td>0</td>\n",
       "    </tr>\n",
       "    <tr>\n",
       "      <th>2020-01-13</th>\n",
       "      <td>11.40</td>\n",
       "      <td>11.56</td>\n",
       "      <td>11.11</td>\n",
       "      <td>11.13</td>\n",
       "      <td>10598500</td>\n",
       "      <td>0</td>\n",
       "      <td>0</td>\n",
       "    </tr>\n",
       "    <tr>\n",
       "      <th>2020-01-14</th>\n",
       "      <td>11.16</td>\n",
       "      <td>11.31</td>\n",
       "      <td>10.86</td>\n",
       "      <td>11.03</td>\n",
       "      <td>18930400</td>\n",
       "      <td>0</td>\n",
       "      <td>0</td>\n",
       "    </tr>\n",
       "    <tr>\n",
       "      <th>2020-01-15</th>\n",
       "      <td>11.01</td>\n",
       "      <td>11.07</td>\n",
       "      <td>10.84</td>\n",
       "      <td>10.97</td>\n",
       "      <td>13842300</td>\n",
       "      <td>0</td>\n",
       "      <td>0</td>\n",
       "    </tr>\n",
       "    <tr>\n",
       "      <th>2020-01-16</th>\n",
       "      <td>10.73</td>\n",
       "      <td>10.76</td>\n",
       "      <td>10.52</td>\n",
       "      <td>10.58</td>\n",
       "      <td>12446400</td>\n",
       "      <td>0</td>\n",
       "      <td>0</td>\n",
       "    </tr>\n",
       "    <tr>\n",
       "      <th>2020-01-17</th>\n",
       "      <td>10.56</td>\n",
       "      <td>10.91</td>\n",
       "      <td>10.54</td>\n",
       "      <td>10.62</td>\n",
       "      <td>12949300</td>\n",
       "      <td>0</td>\n",
       "      <td>0</td>\n",
       "    </tr>\n",
       "    <tr>\n",
       "      <th>2020-01-21</th>\n",
       "      <td>10.82</td>\n",
       "      <td>10.84</td>\n",
       "      <td>10.40</td>\n",
       "      <td>10.74</td>\n",
       "      <td>16445900</td>\n",
       "      <td>0</td>\n",
       "      <td>0</td>\n",
       "    </tr>\n",
       "    <tr>\n",
       "      <th>2020-01-22</th>\n",
       "      <td>10.45</td>\n",
       "      <td>10.86</td>\n",
       "      <td>10.44</td>\n",
       "      <td>10.83</td>\n",
       "      <td>13941100</td>\n",
       "      <td>0</td>\n",
       "      <td>0</td>\n",
       "    </tr>\n",
       "  </tbody>\n",
       "</table>\n",
       "</div>"
      ],
      "text/plain": [
       "             Open   High    Low  Close    Volume  Dividends  Stock Splits\n",
       "Date                                                                     \n",
       "2020-01-08  12.55  12.69  11.86  12.37  20932700          0             0\n",
       "2020-01-09  11.87  12.08  11.66  11.68  13253200          0             0\n",
       "2020-01-10  11.63  11.79  11.39  11.59  15723900          0             0\n",
       "2020-01-13  11.40  11.56  11.11  11.13  10598500          0             0\n",
       "2020-01-14  11.16  11.31  10.86  11.03  18930400          0             0\n",
       "2020-01-15  11.01  11.07  10.84  10.97  13842300          0             0\n",
       "2020-01-16  10.73  10.76  10.52  10.58  12446400          0             0\n",
       "2020-01-17  10.56  10.91  10.54  10.62  12949300          0             0\n",
       "2020-01-21  10.82  10.84  10.40  10.74  16445900          0             0\n",
       "2020-01-22  10.45  10.86  10.44  10.83  13941100          0             0"
      ]
     },
     "execution_count": 4,
     "metadata": {},
     "output_type": "execute_result"
    }
   ],
   "source": [
    "hist.head(10)"
   ]
  },
  {
   "cell_type": "code",
   "execution_count": 5,
   "id": "interracial-wheel",
   "metadata": {},
   "outputs": [],
   "source": [
    "hist['gains'] = (hist.Close - hist.Close.shift(1))/hist.Close.shift(1) * 100"
   ]
  },
  {
   "cell_type": "code",
   "execution_count": 6,
   "id": "democratic-broad",
   "metadata": {},
   "outputs": [
    {
     "data": {
      "text/html": [
       "<div>\n",
       "<style scoped>\n",
       "    .dataframe tbody tr th:only-of-type {\n",
       "        vertical-align: middle;\n",
       "    }\n",
       "\n",
       "    .dataframe tbody tr th {\n",
       "        vertical-align: top;\n",
       "    }\n",
       "\n",
       "    .dataframe thead th {\n",
       "        text-align: right;\n",
       "    }\n",
       "</style>\n",
       "<table border=\"1\" class=\"dataframe\">\n",
       "  <thead>\n",
       "    <tr style=\"text-align: right;\">\n",
       "      <th></th>\n",
       "      <th>Open</th>\n",
       "      <th>High</th>\n",
       "      <th>Low</th>\n",
       "      <th>Close</th>\n",
       "      <th>Volume</th>\n",
       "      <th>Dividends</th>\n",
       "      <th>Stock Splits</th>\n",
       "      <th>gains</th>\n",
       "    </tr>\n",
       "    <tr>\n",
       "      <th>Date</th>\n",
       "      <th></th>\n",
       "      <th></th>\n",
       "      <th></th>\n",
       "      <th></th>\n",
       "      <th></th>\n",
       "      <th></th>\n",
       "      <th></th>\n",
       "      <th></th>\n",
       "    </tr>\n",
       "  </thead>\n",
       "  <tbody>\n",
       "    <tr>\n",
       "      <th>2021-03-03</th>\n",
       "      <td>8.51</td>\n",
       "      <td>9.17</td>\n",
       "      <td>8.40</td>\n",
       "      <td>9.1600</td>\n",
       "      <td>129788100</td>\n",
       "      <td>0</td>\n",
       "      <td>0</td>\n",
       "      <td>6.387923</td>\n",
       "    </tr>\n",
       "    <tr>\n",
       "      <th>2021-03-04</th>\n",
       "      <td>8.99</td>\n",
       "      <td>10.35</td>\n",
       "      <td>8.69</td>\n",
       "      <td>9.7500</td>\n",
       "      <td>203719600</td>\n",
       "      <td>0</td>\n",
       "      <td>0</td>\n",
       "      <td>6.441050</td>\n",
       "    </tr>\n",
       "    <tr>\n",
       "      <th>2021-03-05</th>\n",
       "      <td>9.18</td>\n",
       "      <td>10.16</td>\n",
       "      <td>8.66</td>\n",
       "      <td>8.7200</td>\n",
       "      <td>165968700</td>\n",
       "      <td>0</td>\n",
       "      <td>0</td>\n",
       "      <td>-10.564100</td>\n",
       "    </tr>\n",
       "    <tr>\n",
       "      <th>2021-03-08</th>\n",
       "      <td>8.73</td>\n",
       "      <td>9.04</td>\n",
       "      <td>8.45</td>\n",
       "      <td>8.9200</td>\n",
       "      <td>74525300</td>\n",
       "      <td>0</td>\n",
       "      <td>0</td>\n",
       "      <td>2.293576</td>\n",
       "    </tr>\n",
       "    <tr>\n",
       "      <th>2021-03-09</th>\n",
       "      <td>8.56</td>\n",
       "      <td>8.63</td>\n",
       "      <td>8.25</td>\n",
       "      <td>8.4000</td>\n",
       "      <td>79805600</td>\n",
       "      <td>0</td>\n",
       "      <td>0</td>\n",
       "      <td>-5.829601</td>\n",
       "    </tr>\n",
       "    <tr>\n",
       "      <th>2021-03-10</th>\n",
       "      <td>8.06</td>\n",
       "      <td>8.33</td>\n",
       "      <td>8.06</td>\n",
       "      <td>8.2500</td>\n",
       "      <td>64532000</td>\n",
       "      <td>0</td>\n",
       "      <td>0</td>\n",
       "      <td>-1.785710</td>\n",
       "    </tr>\n",
       "    <tr>\n",
       "      <th>2021-03-11</th>\n",
       "      <td>8.05</td>\n",
       "      <td>8.07</td>\n",
       "      <td>7.85</td>\n",
       "      <td>7.9000</td>\n",
       "      <td>57751800</td>\n",
       "      <td>0</td>\n",
       "      <td>0</td>\n",
       "      <td>-4.242423</td>\n",
       "    </tr>\n",
       "    <tr>\n",
       "      <th>2021-03-12</th>\n",
       "      <td>8.15</td>\n",
       "      <td>8.19</td>\n",
       "      <td>7.71</td>\n",
       "      <td>7.7400</td>\n",
       "      <td>62128900</td>\n",
       "      <td>0</td>\n",
       "      <td>0</td>\n",
       "      <td>-2.025321</td>\n",
       "    </tr>\n",
       "    <tr>\n",
       "      <th>2021-03-15</th>\n",
       "      <td>7.67</td>\n",
       "      <td>7.76</td>\n",
       "      <td>7.01</td>\n",
       "      <td>7.0600</td>\n",
       "      <td>73132400</td>\n",
       "      <td>0</td>\n",
       "      <td>0</td>\n",
       "      <td>-8.785528</td>\n",
       "    </tr>\n",
       "    <tr>\n",
       "      <th>2021-03-17</th>\n",
       "      <td>7.16</td>\n",
       "      <td>7.22</td>\n",
       "      <td>7.00</td>\n",
       "      <td>7.0896</td>\n",
       "      <td>28162435</td>\n",
       "      <td>0</td>\n",
       "      <td>0</td>\n",
       "      <td>0.419265</td>\n",
       "    </tr>\n",
       "  </tbody>\n",
       "</table>\n",
       "</div>"
      ],
      "text/plain": [
       "            Open   High   Low   Close     Volume  Dividends  Stock Splits  \\\n",
       "Date                                                                        \n",
       "2021-03-03  8.51   9.17  8.40  9.1600  129788100          0             0   \n",
       "2021-03-04  8.99  10.35  8.69  9.7500  203719600          0             0   \n",
       "2021-03-05  9.18  10.16  8.66  8.7200  165968700          0             0   \n",
       "2021-03-08  8.73   9.04  8.45  8.9200   74525300          0             0   \n",
       "2021-03-09  8.56   8.63  8.25  8.4000   79805600          0             0   \n",
       "2021-03-10  8.06   8.33  8.06  8.2500   64532000          0             0   \n",
       "2021-03-11  8.05   8.07  7.85  7.9000   57751800          0             0   \n",
       "2021-03-12  8.15   8.19  7.71  7.7400   62128900          0             0   \n",
       "2021-03-15  7.67   7.76  7.01  7.0600   73132400          0             0   \n",
       "2021-03-17  7.16   7.22  7.00  7.0896   28162435          0             0   \n",
       "\n",
       "                gains  \n",
       "Date                   \n",
       "2021-03-03   6.387923  \n",
       "2021-03-04   6.441050  \n",
       "2021-03-05 -10.564100  \n",
       "2021-03-08   2.293576  \n",
       "2021-03-09  -5.829601  \n",
       "2021-03-10  -1.785710  \n",
       "2021-03-11  -4.242423  \n",
       "2021-03-12  -2.025321  \n",
       "2021-03-15  -8.785528  \n",
       "2021-03-17   0.419265  "
      ]
     },
     "execution_count": 6,
     "metadata": {},
     "output_type": "execute_result"
    }
   ],
   "source": [
    "hist.tail(10)"
   ]
  },
  {
   "cell_type": "code",
   "execution_count": 7,
   "id": "involved-supervision",
   "metadata": {},
   "outputs": [
    {
     "data": {
      "text/plain": [
       "<AxesSubplot:xlabel='Date'>"
      ]
     },
     "execution_count": 7,
     "metadata": {},
     "output_type": "execute_result"
    },
    {
     "data": {
      "image/png": "[encoded data removed]",
      "text/plain": [
       "<Figure size 432x288 with 1 Axes>"
      ]
     },
     "metadata": {
      "needs_background": "light"
     },
     "output_type": "display_data"
    }
   ],
   "source": [
    "hist.Close.plot()"
   ]
  },
  {
   "cell_type": "code",
   "execution_count": 8,
   "id": "instrumental-converter",
   "metadata": {},
   "outputs": [
    {
     "data": {
      "text/plain": [
       "count    298.000000\n",
       "mean       0.200875\n",
       "std        9.310423\n",
       "min      -23.246625\n",
       "25%       -4.924877\n",
       "50%       -1.611992\n",
       "75%        2.520748\n",
       "max       57.477283\n",
       "Name: gains, dtype: float64"
      ]
     },
     "execution_count": 8,
     "metadata": {},
     "output_type": "execute_result"
    }
   ],
   "source": [
    "hist['gains'].describe()"
   ]
  },
  {
   "cell_type": "code",
   "execution_count": 9,
   "id": "rubber-nothing",
   "metadata": {},
   "outputs": [
    {
     "name": "stderr",
     "output_type": "stream",
     "text": [
      "/Library/Frameworks/Python.framework/Versions/3.9/lib/python3.9/site-packages/seaborn/distributions.py:2557: FutureWarning: `distplot` is a deprecated function and will be removed in a future version. Please adapt your code to use either `displot` (a figure-level function with similar flexibility) or `histplot` (an axes-level function for histograms).\n",
      "  warnings.warn(msg, FutureWarning)\n"
     ]
    },
    {
     "data": {
      "text/plain": [
       "<AxesSubplot:xlabel='gains', ylabel='Density'>"
      ]
     },
     "execution_count": 9,
     "metadata": {},
     "output_type": "execute_result"
    },
    {
     "data": {
      "image/png": "[encoded data removed]",
      "text/plain": [
       "<Figure size 432x288 with 1 Axes>"
      ]
     },
     "metadata": {
      "needs_background": "light"
     },
     "output_type": "display_data"
    }
   ],
   "source": [
    "sns.distplot(hist.gains)"
   ]
  },
  {
   "cell_type": "code",
   "execution_count": 10,
   "id": "behind-spine",
   "metadata": {},
   "outputs": [
    {
     "data": {
      "text/plain": [
       "0.288214694086535"
      ]
     },
     "execution_count": 10,
     "metadata": {},
     "output_type": "execute_result"
    }
   ],
   "source": [
    "st.norm.cdf(-5, hist['gains'].mean(), hist['gains'].std())"
   ]
  },
  {
   "cell_type": "code",
   "execution_count": 11,
   "id": "still-shade",
   "metadata": {},
   "outputs": [],
   "source": [
    "spy = yf.Ticker(\"SPY\")\n",
    "spy_hist = spy.history(period=\"300d\")\n"
   ]
  },
  {
   "cell_type": "code",
   "execution_count": 12,
   "id": "copyrighted-attendance",
   "metadata": {},
   "outputs": [
    {
     "data": {
      "text/html": [
       "<div>\n",
       "<style scoped>\n",
       "    .dataframe tbody tr th:only-of-type {\n",
       "        vertical-align: middle;\n",
       "    }\n",
       "\n",
       "    .dataframe tbody tr th {\n",
       "        vertical-align: top;\n",
       "    }\n",
       "\n",
       "    .dataframe thead th {\n",
       "        text-align: right;\n",
       "    }\n",
       "</style>\n",
       "<table border=\"1\" class=\"dataframe\">\n",
       "  <thead>\n",
       "    <tr style=\"text-align: right;\">\n",
       "      <th></th>\n",
       "      <th>Open</th>\n",
       "      <th>High</th>\n",
       "      <th>Low</th>\n",
       "      <th>Close</th>\n",
       "      <th>Volume</th>\n",
       "      <th>Dividends</th>\n",
       "      <th>Stock Splits</th>\n",
       "      <th>gains</th>\n",
       "    </tr>\n",
       "    <tr>\n",
       "      <th>Date</th>\n",
       "      <th></th>\n",
       "      <th></th>\n",
       "      <th></th>\n",
       "      <th></th>\n",
       "      <th></th>\n",
       "      <th></th>\n",
       "      <th></th>\n",
       "      <th></th>\n",
       "    </tr>\n",
       "  </thead>\n",
       "  <tbody>\n",
       "    <tr>\n",
       "      <th>2020-01-08</th>\n",
       "      <td>317.019747</td>\n",
       "      <td>319.807680</td>\n",
       "      <td>316.754708</td>\n",
       "      <td>318.502075</td>\n",
       "      <td>68296000</td>\n",
       "      <td>0.0</td>\n",
       "      <td>0</td>\n",
       "      <td>NaN</td>\n",
       "    </tr>\n",
       "    <tr>\n",
       "      <th>2020-01-09</th>\n",
       "      <td>320.180675</td>\n",
       "      <td>320.740232</td>\n",
       "      <td>319.552393</td>\n",
       "      <td>320.661682</td>\n",
       "      <td>48473300</td>\n",
       "      <td>0.0</td>\n",
       "      <td>0</td>\n",
       "      <td>0.678051</td>\n",
       "    </tr>\n",
       "    <tr>\n",
       "      <th>2020-01-10</th>\n",
       "      <td>321.289974</td>\n",
       "      <td>321.456840</td>\n",
       "      <td>319.238292</td>\n",
       "      <td>319.738922</td>\n",
       "      <td>53029300</td>\n",
       "      <td>0.0</td>\n",
       "      <td>0</td>\n",
       "      <td>-0.287767</td>\n",
       "    </tr>\n",
       "    <tr>\n",
       "      <th>2020-01-13</th>\n",
       "      <td>320.406467</td>\n",
       "      <td>321.947663</td>\n",
       "      <td>319.945082</td>\n",
       "      <td>321.937866</td>\n",
       "      <td>47086800</td>\n",
       "      <td>0.0</td>\n",
       "      <td>0</td>\n",
       "      <td>0.687731</td>\n",
       "    </tr>\n",
       "    <tr>\n",
       "      <th>2020-01-14</th>\n",
       "      <td>321.466675</td>\n",
       "      <td>322.595586</td>\n",
       "      <td>320.848219</td>\n",
       "      <td>321.447052</td>\n",
       "      <td>62832800</td>\n",
       "      <td>0.0</td>\n",
       "      <td>0</td>\n",
       "      <td>-0.152456</td>\n",
       "    </tr>\n",
       "    <tr>\n",
       "      <th>...</th>\n",
       "      <td>...</td>\n",
       "      <td>...</td>\n",
       "      <td>...</td>\n",
       "      <td>...</td>\n",
       "      <td>...</td>\n",
       "      <td>...</td>\n",
       "      <td>...</td>\n",
       "      <td>...</td>\n",
       "    </tr>\n",
       "    <tr>\n",
       "      <th>2021-03-10</th>\n",
       "      <td>389.690002</td>\n",
       "      <td>391.399994</td>\n",
       "      <td>388.170013</td>\n",
       "      <td>389.579987</td>\n",
       "      <td>109660800</td>\n",
       "      <td>0.0</td>\n",
       "      <td>0</td>\n",
       "      <td>0.622459</td>\n",
       "    </tr>\n",
       "    <tr>\n",
       "      <th>2021-03-11</th>\n",
       "      <td>392.230011</td>\n",
       "      <td>395.649994</td>\n",
       "      <td>391.739990</td>\n",
       "      <td>393.529999</td>\n",
       "      <td>86027400</td>\n",
       "      <td>0.0</td>\n",
       "      <td>0</td>\n",
       "      <td>1.013916</td>\n",
       "    </tr>\n",
       "    <tr>\n",
       "      <th>2021-03-12</th>\n",
       "      <td>392.070007</td>\n",
       "      <td>394.209991</td>\n",
       "      <td>391.200012</td>\n",
       "      <td>394.059998</td>\n",
       "      <td>64608100</td>\n",
       "      <td>0.0</td>\n",
       "      <td>0</td>\n",
       "      <td>0.134678</td>\n",
       "    </tr>\n",
       "    <tr>\n",
       "      <th>2021-03-15</th>\n",
       "      <td>394.329987</td>\n",
       "      <td>396.690002</td>\n",
       "      <td>392.029999</td>\n",
       "      <td>396.410004</td>\n",
       "      <td>73427200</td>\n",
       "      <td>0.0</td>\n",
       "      <td>0</td>\n",
       "      <td>0.596357</td>\n",
       "    </tr>\n",
       "    <tr>\n",
       "      <th>2021-03-17</th>\n",
       "      <td>394.529999</td>\n",
       "      <td>394.980011</td>\n",
       "      <td>393.299988</td>\n",
       "      <td>394.138092</td>\n",
       "      <td>32111811</td>\n",
       "      <td>0.0</td>\n",
       "      <td>0</td>\n",
       "      <td>-0.573122</td>\n",
       "    </tr>\n",
       "  </tbody>\n",
       "</table>\n",
       "<p>299 rows × 8 columns</p>\n",
       "</div>"
      ],
      "text/plain": [
       "                  Open        High         Low       Close     Volume  \\\n",
       "Date                                                                    \n",
       "2020-01-08  317.019747  319.807680  316.754708  318.502075   68296000   \n",
       "2020-01-09  320.180675  320.740232  319.552393  320.661682   48473300   \n",
       "2020-01-10  321.289974  321.456840  319.238292  319.738922   53029300   \n",
       "2020-01-13  320.406467  321.947663  319.945082  321.937866   47086800   \n",
       "2020-01-14  321.466675  322.595586  320.848219  321.447052   62832800   \n",
       "...                ...         ...         ...         ...        ...   \n",
       "2021-03-10  389.690002  391.399994  388.170013  389.579987  109660800   \n",
       "2021-03-11  392.230011  395.649994  391.739990  393.529999   86027400   \n",
       "2021-03-12  392.070007  394.209991  391.200012  394.059998   64608100   \n",
       "2021-03-15  394.329987  396.690002  392.029999  396.410004   73427200   \n",
       "2021-03-17  394.529999  394.980011  393.299988  394.138092   32111811   \n",
       "\n",
       "            Dividends  Stock Splits     gains  \n",
       "Date                                           \n",
       "2020-01-08        0.0             0       NaN  \n",
       "2020-01-09        0.0             0  0.678051  \n",
       "2020-01-10        0.0             0 -0.287767  \n",
       "2020-01-13        0.0             0  0.687731  \n",
       "2020-01-14        0.0             0 -0.152456  \n",
       "...               ...           ...       ...  \n",
       "2021-03-10        0.0             0  0.622459  \n",
       "2021-03-11        0.0             0  1.013916  \n",
       "2021-03-12        0.0             0  0.134678  \n",
       "2021-03-15        0.0             0  0.596357  \n",
       "2021-03-17        0.0             0 -0.573122  \n",
       "\n",
       "[299 rows x 8 columns]"
      ]
     },
     "execution_count": 12,
     "metadata": {},
     "output_type": "execute_result"
    }
   ],
   "source": [
    "spy_hist['gains'] = (spy_hist.Close - spy_hist.Close.shift(1))/spy_hist.Close.shift(1) * 100\n",
    "spy_hist"
   ]
  },
  {
   "cell_type": "code",
   "execution_count": 13,
   "id": "wired-republican",
   "metadata": {},
   "outputs": [
    {
     "data": {
      "text/plain": [
       "count    298.000000\n",
       "mean       0.091268\n",
       "std        1.981088\n",
       "min      -10.942365\n",
       "25%       -0.566472\n",
       "50%        0.212628\n",
       "75%        0.939782\n",
       "max        9.060328\n",
       "Name: gains, dtype: float64"
      ]
     },
     "execution_count": 13,
     "metadata": {},
     "output_type": "execute_result"
    }
   ],
   "source": [
    "spy_hist['gains'].describe()"
   ]
  },
  {
   "cell_type": "code",
   "execution_count": 14,
   "id": "practical-ballet",
   "metadata": {},
   "outputs": [
    {
     "name": "stderr",
     "output_type": "stream",
     "text": [
      "/Library/Frameworks/Python.framework/Versions/3.9/lib/python3.9/site-packages/seaborn/distributions.py:2557: FutureWarning: `distplot` is a deprecated function and will be removed in a future version. Please adapt your code to use either `displot` (a figure-level function with similar flexibility) or `histplot` (an axes-level function for histograms).\n",
      "  warnings.warn(msg, FutureWarning)\n"
     ]
    },
    {
     "data": {
      "text/plain": [
       "<AxesSubplot:xlabel='gains', ylabel='Density'>"
      ]
     },
     "execution_count": 14,
     "metadata": {},
     "output_type": "execute_result"
    },
    {
     "data": {
      "image/png": "[encoded data removed]",
      "text/plain": [
       "<Figure size 432x288 with 1 Axes>"
      ]
     },
     "metadata": {
      "needs_background": "light"
     },
     "output_type": "display_data"
    }
   ],
   "source": [
    "sns.distplot(spy_hist.gains)"
   ]
  },
  {
   "cell_type": "code",
   "execution_count": 15,
   "id": "bound-evans",
   "metadata": {},
   "outputs": [
    {
     "data": {
      "text/plain": [
       "0.2908706578586717"
      ]
     },
     "execution_count": 15,
     "metadata": {},
     "output_type": "execute_result"
    }
   ],
   "source": [
    "st.norm.cdf(-1, spy_hist['gains'].mean(), spy_hist['gains'].std())"
   ]
  },
  {
   "cell_type": "code",
   "execution_count": 16,
   "id": "wrapped-adelaide",
   "metadata": {},
   "outputs": [
    {
     "data": {
      "text/plain": [
       "<AxesSubplot:xlabel='Date'>"
      ]
     },
     "execution_count": 16,
     "metadata": {},
     "output_type": "execute_result"
    },
    {
     "data": {
      "image/png": "[encoded data removed]",
      "text/plain": [
       "<Figure size 720x720 with 1 Axes>"
      ]
     },
     "metadata": {
      "needs_background": "light"
     },
     "output_type": "display_data"
    }
   ],
   "source": [
    "spy_hist.Close.plot(figsize=(10,10))\n",
    "hist.Close.plot()"
   ]
  },
  {
   "cell_type": "code",
   "execution_count": 17,
   "id": "flying-shade",
   "metadata": {},
   "outputs": [
    {
     "data": {
      "text/plain": [
       "array([[ 1.        , -0.87950285],\n",
       "       [-0.87950285,  1.        ]])"
      ]
     },
     "execution_count": 17,
     "metadata": {},
     "output_type": "execute_result"
    }
   ],
   "source": [
    "np.corrcoef(spy_hist.Close, hist.Close)"
   ]
  },
  {
   "cell_type": "code",
   "execution_count": 18,
   "id": "neither-feature",
   "metadata": {},
   "outputs": [],
   "source": [
    "spy_hist.gains.fillna(0, inplace=True)\n",
    "hist.gains.fillna(0, inplace=True)"
   ]
  },
  {
   "cell_type": "code",
   "execution_count": 19,
   "id": "mature-conditions",
   "metadata": {},
   "outputs": [
    {
     "data": {
      "text/plain": [
       "array([[ 1.        , -0.76891746],\n",
       "       [-0.76891746,  1.        ]])"
      ]
     },
     "execution_count": 19,
     "metadata": {},
     "output_type": "execute_result"
    }
   ],
   "source": [
    "np.corrcoef(spy_hist.gains, hist.gains)"
   ]
  },
  {
   "cell_type": "code",
   "execution_count": 20,
   "id": "outstanding-discrimination",
   "metadata": {},
   "outputs": [
    {
     "data": {
      "text/plain": [
       "<AxesSubplot:xlabel='Date'>"
      ]
     },
     "execution_count": 20,
     "metadata": {},
     "output_type": "execute_result"
    },
    {
     "data": {
      "image/png": "[encoded data removed]",
      "text/plain": [
       "<Figure size 432x288 with 1 Axes>"
      ]
     },
     "metadata": {
      "needs_background": "light"
     },
     "output_type": "display_data"
    }
   ],
   "source": [
    "hist.gains.cumsum().plot()\n",
    "spy_hist.gains.cumsum().plot()"
   ]
  },
  {
   "cell_type": "code",
   "execution_count": 21,
   "id": "requested-intermediate",
   "metadata": {
    "scrolled": true
   },
   "outputs": [
    {
     "name": "stdout",
     "output_type": "stream",
     "text": [
      "-4.817014590317245 0.00035216167793320174\n",
      "-3.0897730540618102 0.09037539396687716\n"
     ]
    }
   ],
   "source": [
    "score, pvalue, _ = coint(hist.gains, spy_hist.gains)\n",
    "print(score, pvalue)\n",
    "\n",
    "score, pvalue, _ = coint(hist.Close, spy_hist.Close)\n",
    "print(score, pvalue)"
   ]
  },
  {
   "cell_type": "code",
   "execution_count": 22,
   "id": "covered-breach",
   "metadata": {},
   "outputs": [
    {
     "data": {
      "text/plain": [
       "array([[ 1.        , -0.87950285],\n",
       "       [-0.87950285,  1.        ]])"
      ]
     },
     "execution_count": 22,
     "metadata": {},
     "output_type": "execute_result"
    }
   ],
   "source": [
    "np.corrcoef(hist.Close, spy_hist.Close)"
   ]
  },
  {
   "cell_type": "code",
   "execution_count": 23,
   "id": "visible-adrian",
   "metadata": {},
   "outputs": [],
   "source": [
    "spy_hist['spy_gains'] = spy_hist['gains']"
   ]
  },
  {
   "cell_type": "code",
   "execution_count": 24,
   "id": "qualified-secret",
   "metadata": {},
   "outputs": [],
   "source": [
    "hist.reset_index(inplace=True)\n",
    "spy_hist.reset_index(inplace=True)"
   ]
  },
  {
   "cell_type": "code",
   "execution_count": 25,
   "id": "seventh-wedding",
   "metadata": {},
   "outputs": [
    {
     "data": {
      "text/html": [
       "<div>\n",
       "<style scoped>\n",
       "    .dataframe tbody tr th:only-of-type {\n",
       "        vertical-align: middle;\n",
       "    }\n",
       "\n",
       "    .dataframe tbody tr th {\n",
       "        vertical-align: top;\n",
       "    }\n",
       "\n",
       "    .dataframe thead th {\n",
       "        text-align: right;\n",
       "    }\n",
       "</style>\n",
       "<table border=\"1\" class=\"dataframe\">\n",
       "  <thead>\n",
       "    <tr style=\"text-align: right;\">\n",
       "      <th></th>\n",
       "      <th>gains</th>\n",
       "      <th>Close</th>\n",
       "      <th>spy_gains</th>\n",
       "    </tr>\n",
       "    <tr>\n",
       "      <th>Date</th>\n",
       "      <th></th>\n",
       "      <th></th>\n",
       "      <th></th>\n",
       "    </tr>\n",
       "  </thead>\n",
       "  <tbody>\n",
       "    <tr>\n",
       "      <th>2020-01-08</th>\n",
       "      <td>0.000000</td>\n",
       "      <td>12.3700</td>\n",
       "      <td>0.000000</td>\n",
       "    </tr>\n",
       "    <tr>\n",
       "      <th>2020-01-09</th>\n",
       "      <td>-5.578008</td>\n",
       "      <td>11.6800</td>\n",
       "      <td>0.678051</td>\n",
       "    </tr>\n",
       "    <tr>\n",
       "      <th>2020-01-10</th>\n",
       "      <td>-0.770549</td>\n",
       "      <td>11.5900</td>\n",
       "      <td>-0.287767</td>\n",
       "    </tr>\n",
       "    <tr>\n",
       "      <th>2020-01-13</th>\n",
       "      <td>-3.968939</td>\n",
       "      <td>11.1300</td>\n",
       "      <td>0.687731</td>\n",
       "    </tr>\n",
       "    <tr>\n",
       "      <th>2020-01-14</th>\n",
       "      <td>-0.898476</td>\n",
       "      <td>11.0300</td>\n",
       "      <td>-0.152456</td>\n",
       "    </tr>\n",
       "    <tr>\n",
       "      <th>...</th>\n",
       "      <td>...</td>\n",
       "      <td>...</td>\n",
       "      <td>...</td>\n",
       "    </tr>\n",
       "    <tr>\n",
       "      <th>2021-03-10</th>\n",
       "      <td>-1.785710</td>\n",
       "      <td>8.2500</td>\n",
       "      <td>0.622459</td>\n",
       "    </tr>\n",
       "    <tr>\n",
       "      <th>2021-03-11</th>\n",
       "      <td>-4.242423</td>\n",
       "      <td>7.9000</td>\n",
       "      <td>1.013916</td>\n",
       "    </tr>\n",
       "    <tr>\n",
       "      <th>2021-03-12</th>\n",
       "      <td>-2.025321</td>\n",
       "      <td>7.7400</td>\n",
       "      <td>0.134678</td>\n",
       "    </tr>\n",
       "    <tr>\n",
       "      <th>2021-03-15</th>\n",
       "      <td>-8.785528</td>\n",
       "      <td>7.0600</td>\n",
       "      <td>0.596357</td>\n",
       "    </tr>\n",
       "    <tr>\n",
       "      <th>2021-03-17</th>\n",
       "      <td>0.419265</td>\n",
       "      <td>7.0896</td>\n",
       "      <td>-0.573122</td>\n",
       "    </tr>\n",
       "  </tbody>\n",
       "</table>\n",
       "<p>299 rows × 3 columns</p>\n",
       "</div>"
      ],
      "text/plain": [
       "               gains    Close  spy_gains\n",
       "Date                                    \n",
       "2020-01-08  0.000000  12.3700   0.000000\n",
       "2020-01-09 -5.578008  11.6800   0.678051\n",
       "2020-01-10 -0.770549  11.5900  -0.287767\n",
       "2020-01-13 -3.968939  11.1300   0.687731\n",
       "2020-01-14 -0.898476  11.0300  -0.152456\n",
       "...              ...      ...        ...\n",
       "2021-03-10 -1.785710   8.2500   0.622459\n",
       "2021-03-11 -4.242423   7.9000   1.013916\n",
       "2021-03-12 -2.025321   7.7400   0.134678\n",
       "2021-03-15 -8.785528   7.0600   0.596357\n",
       "2021-03-17  0.419265   7.0896  -0.573122\n",
       "\n",
       "[299 rows x 3 columns]"
      ]
     },
     "execution_count": 25,
     "metadata": {},
     "output_type": "execute_result"
    }
   ],
   "source": [
    "data = pd.merge(hist[['Date','gains','Close']], spy_hist[['Date','spy_gains']], on='Date')\n",
    "data.set_index(keys='Date')"
   ]
  },
  {
   "cell_type": "code",
   "execution_count": 68,
   "id": "southern-tragedy",
   "metadata": {},
   "outputs": [],
   "source": [
    "# data['rate'] = (data.gains+0.1) / (data.spy_gains+0.1)\n",
    "data['rate'] = data.gains - data.spy_gains"
   ]
  },
  {
   "cell_type": "code",
   "execution_count": 69,
   "id": "assigned-midnight",
   "metadata": {},
   "outputs": [
    {
     "data": {
      "text/html": [
       "<div>\n",
       "<style scoped>\n",
       "    .dataframe tbody tr th:only-of-type {\n",
       "        vertical-align: middle;\n",
       "    }\n",
       "\n",
       "    .dataframe tbody tr th {\n",
       "        vertical-align: top;\n",
       "    }\n",
       "\n",
       "    .dataframe thead th {\n",
       "        text-align: right;\n",
       "    }\n",
       "</style>\n",
       "<table border=\"1\" class=\"dataframe\">\n",
       "  <thead>\n",
       "    <tr style=\"text-align: right;\">\n",
       "      <th></th>\n",
       "      <th>Date</th>\n",
       "      <th>gains</th>\n",
       "      <th>Close</th>\n",
       "      <th>spy_gains</th>\n",
       "      <th>rate</th>\n",
       "    </tr>\n",
       "  </thead>\n",
       "  <tbody>\n",
       "    <tr>\n",
       "      <th>7</th>\n",
       "      <td>2020-01-17</td>\n",
       "      <td>0.378071</td>\n",
       "      <td>10.6200</td>\n",
       "      <td>0.311269</td>\n",
       "      <td>0.066802</td>\n",
       "    </tr>\n",
       "    <tr>\n",
       "      <th>8</th>\n",
       "      <td>2020-01-21</td>\n",
       "      <td>1.129942</td>\n",
       "      <td>10.7400</td>\n",
       "      <td>-0.195824</td>\n",
       "      <td>1.325767</td>\n",
       "    </tr>\n",
       "    <tr>\n",
       "      <th>9</th>\n",
       "      <td>2020-01-22</td>\n",
       "      <td>0.837990</td>\n",
       "      <td>10.8300</td>\n",
       "      <td>0.012067</td>\n",
       "      <td>0.825923</td>\n",
       "    </tr>\n",
       "    <tr>\n",
       "      <th>11</th>\n",
       "      <td>2020-01-24</td>\n",
       "      <td>8.921933</td>\n",
       "      <td>11.7200</td>\n",
       "      <td>-0.889309</td>\n",
       "      <td>9.811242</td>\n",
       "    </tr>\n",
       "    <tr>\n",
       "      <th>12</th>\n",
       "      <td>2020-01-27</td>\n",
       "      <td>15.614333</td>\n",
       "      <td>13.5500</td>\n",
       "      <td>-1.602939</td>\n",
       "      <td>17.217272</td>\n",
       "    </tr>\n",
       "    <tr>\n",
       "      <th>...</th>\n",
       "      <td>...</td>\n",
       "      <td>...</td>\n",
       "      <td>...</td>\n",
       "      <td>...</td>\n",
       "      <td>...</td>\n",
       "    </tr>\n",
       "    <tr>\n",
       "      <th>288</th>\n",
       "      <td>2021-03-02</td>\n",
       "      <td>1.056329</td>\n",
       "      <td>8.6100</td>\n",
       "      <td>-0.780322</td>\n",
       "      <td>1.836650</td>\n",
       "    </tr>\n",
       "    <tr>\n",
       "      <th>289</th>\n",
       "      <td>2021-03-03</td>\n",
       "      <td>6.387923</td>\n",
       "      <td>9.1600</td>\n",
       "      <td>-1.324571</td>\n",
       "      <td>7.712494</td>\n",
       "    </tr>\n",
       "    <tr>\n",
       "      <th>290</th>\n",
       "      <td>2021-03-04</td>\n",
       "      <td>6.441050</td>\n",
       "      <td>9.7500</td>\n",
       "      <td>-1.237481</td>\n",
       "      <td>7.678531</td>\n",
       "    </tr>\n",
       "    <tr>\n",
       "      <th>292</th>\n",
       "      <td>2021-03-08</td>\n",
       "      <td>2.293576</td>\n",
       "      <td>8.9200</td>\n",
       "      <td>-0.497877</td>\n",
       "      <td>2.791452</td>\n",
       "    </tr>\n",
       "    <tr>\n",
       "      <th>298</th>\n",
       "      <td>2021-03-17</td>\n",
       "      <td>0.419265</td>\n",
       "      <td>7.0896</td>\n",
       "      <td>-0.573122</td>\n",
       "      <td>0.992387</td>\n",
       "    </tr>\n",
       "  </tbody>\n",
       "</table>\n",
       "<p>116 rows × 5 columns</p>\n",
       "</div>"
      ],
      "text/plain": [
       "          Date      gains    Close  spy_gains       rate\n",
       "7   2020-01-17   0.378071  10.6200   0.311269   0.066802\n",
       "8   2020-01-21   1.129942  10.7400  -0.195824   1.325767\n",
       "9   2020-01-22   0.837990  10.8300   0.012067   0.825923\n",
       "11  2020-01-24   8.921933  11.7200  -0.889309   9.811242\n",
       "12  2020-01-27  15.614333  13.5500  -1.602939  17.217272\n",
       "..         ...        ...      ...        ...        ...\n",
       "288 2021-03-02   1.056329   8.6100  -0.780322   1.836650\n",
       "289 2021-03-03   6.387923   9.1600  -1.324571   7.712494\n",
       "290 2021-03-04   6.441050   9.7500  -1.237481   7.678531\n",
       "292 2021-03-08   2.293576   8.9200  -0.497877   2.791452\n",
       "298 2021-03-17   0.419265   7.0896  -0.573122   0.992387\n",
       "\n",
       "[116 rows x 5 columns]"
      ]
     },
     "execution_count": 69,
     "metadata": {},
     "output_type": "execute_result"
    }
   ],
   "source": [
    "data[data['rate']>0]"
   ]
  },
  {
   "cell_type": "code",
   "execution_count": 70,
   "id": "retained-identity",
   "metadata": {},
   "outputs": [
    {
     "data": {
      "text/plain": [
       "count    299.000000\n",
       "mean       0.109240\n",
       "std       10.889203\n",
       "min      -22.688240\n",
       "25%       -5.432485\n",
       "50%       -1.900239\n",
       "75%        2.787444\n",
       "max       68.419648\n",
       "Name: rate, dtype: float64"
      ]
     },
     "execution_count": 70,
     "metadata": {},
     "output_type": "execute_result"
    }
   ],
   "source": [
    "data.rate.describe()"
   ]
  },
  {
   "cell_type": "code",
   "execution_count": 71,
   "id": "textile-regulation",
   "metadata": {},
   "outputs": [
    {
     "name": "stderr",
     "output_type": "stream",
     "text": [
      "/Library/Frameworks/Python.framework/Versions/3.9/lib/python3.9/site-packages/seaborn/distributions.py:2557: FutureWarning: `distplot` is a deprecated function and will be removed in a future version. Please adapt your code to use either `displot` (a figure-level function with similar flexibility) or `histplot` (an axes-level function for histograms).\n",
      "  warnings.warn(msg, FutureWarning)\n"
     ]
    },
    {
     "data": {
      "text/plain": [
       "<AxesSubplot:xlabel='rate', ylabel='Density'>"
      ]
     },
     "execution_count": 71,
     "metadata": {},
     "output_type": "execute_result"
    },
    {
     "data": {
      "image/png": "[encoded data removed]",
      "text/plain": [
       "<Figure size 432x288 with 1 Axes>"
      ]
     },
     "metadata": {
      "needs_background": "light"
     },
     "output_type": "display_data"
    }
   ],
   "source": [
    "sns.distplot(data.rate)"
   ]
  },
  {
   "cell_type": "code",
   "execution_count": 72,
   "id": "breeding-pendant",
   "metadata": {},
   "outputs": [
    {
     "data": {
      "text/plain": [
       "Date         0\n",
       "gains        0\n",
       "Close        0\n",
       "spy_gains    0\n",
       "rate         0\n",
       "dtype: int64"
      ]
     },
     "execution_count": 72,
     "metadata": {},
     "output_type": "execute_result"
    }
   ],
   "source": [
    "data.fillna(0,inplace=True)\n",
    "data.isna().sum()"
   ]
  },
  {
   "cell_type": "code",
   "execution_count": 73,
   "id": "listed-scene",
   "metadata": {},
   "outputs": [
    {
     "name": "stdout",
     "output_type": "stream",
     "text": [
      "2\n"
     ]
    },
    {
     "data": {
      "text/plain": [
       "2"
      ]
     },
     "execution_count": 73,
     "metadata": {},
     "output_type": "execute_result"
    }
   ],
   "source": [
    "print((data.rate>50).sum())\n",
    "# data = data[abs(data['rate'])<50]\n",
    "(data.rate>50).sum()"
   ]
  },
  {
   "cell_type": "markdown",
   "id": "spectacular-sharp",
   "metadata": {},
   "source": [
    "data.rate.plot()\n",
    "plt.axhline(data.rate.mean(), color='red', linestyle='--') "
   ]
  },
  {
   "cell_type": "code",
   "execution_count": 74,
   "id": "conceptual-aircraft",
   "metadata": {},
   "outputs": [
    {
     "name": "stdout",
     "output_type": "stream",
     "text": [
      "0.10924037236190204 10.889202751387174\n"
     ]
    },
    {
     "data": {
      "image/png": "[encoded data removed]",
      "text/plain": [
       "<Figure size 720x720 with 1 Axes>"
      ]
     },
     "metadata": {
      "needs_background": "light"
     },
     "output_type": "display_data"
    }
   ],
   "source": [
    "def zscore(series):\n",
    "    print(series.mean(), series.std())\n",
    "    return (series - series.mean()) / np.std(series)\n",
    "\n",
    "z_score = zscore(data.rate)\n",
    "z_score.plot(figsize=(10,10))\n",
    "plt.axhline(z_score.mean())\n",
    "plt.axhline(1.0, color='red')\n",
    "plt.axhline(-1.0, color='green')\n",
    "plt.show()"
   ]
  },
  {
   "cell_type": "markdown",
   "id": "given-budapest",
   "metadata": {},
   "source": [
    "# 开始预测"
   ]
  },
  {
   "cell_type": "code",
   "execution_count": 75,
   "id": "boring-rating",
   "metadata": {},
   "outputs": [],
   "source": [
    "# rolling ?"
   ]
  },
  {
   "cell_type": "code",
   "execution_count": 76,
   "id": "distributed-canvas",
   "metadata": {},
   "outputs": [
    {
     "name": "stdout",
     "output_type": "stream",
     "text": [
      "(299,)\n",
      "(200,) (99,)\n"
     ]
    }
   ],
   "source": [
    "print(z_score.shape)\n",
    "train = z_score[:200]\n",
    "test = z_score[200:]\n",
    "print(train.shape, test.shape)"
   ]
  },
  {
   "cell_type": "code",
   "execution_count": 77,
   "id": "appointed-internet",
   "metadata": {},
   "outputs": [
    {
     "data": {
      "image/png": "[encoded data removed]",
      "text/plain": [
       "<Figure size 1080x504 with 1 Axes>"
      ]
     },
     "metadata": {
      "needs_background": "light"
     },
     "output_type": "display_data"
    }
   ],
   "source": [
    "plt.figure(figsize=(15,7))\n",
    "train.plot()\n",
    "buy = train.copy()\n",
    "sell = train.copy()\n",
    "\n",
    "# buy[z_score>-1] = 0\n",
    "# sell[z_score<1] = 0\n",
    "buy[~((data['gains']>-1) & (data['spy_gains']>0))] = 0\n",
    "sell[~((data['gains']<1) & (data['spy_gains']<0))] = 0\n",
    "\n",
    "\n",
    "\n",
    "buy.plot(color='g', linestyle='None', marker='^')\n",
    "sell.plot(color='r', linestyle='None', marker='^')\n",
    "x1,x2,y1,y2 = plt.axis()\n",
    "# plt.axis((x1,x2,data.rate.min(),data.rate.max()))\n",
    "plt.legend(['Ratio', 'Buy Signal', 'Sell Signal'])\n",
    "plt.show()"
   ]
  },
  {
   "cell_type": "code",
   "execution_count": 78,
   "id": "european-guide",
   "metadata": {},
   "outputs": [
    {
     "data": {
      "image/png": "[encoded data removed]",
      "text/plain": [
       "<Figure size 720x720 with 1 Axes>"
      ]
     },
     "metadata": {
      "needs_background": "light"
     },
     "output_type": "display_data"
    }
   ],
   "source": [
    "# Plot the prices and buy and sell signals from z score\n",
    "plt.figure(figsize=(10,10))\n",
    "S1 = hist.iloc[:200].Close\n",
    "S2 = spy_hist.iloc[:200].Close\n",
    "\n",
    "S1.plot(color='b')\n",
    "S2.plot(color='c')\n",
    "\n",
    "buyR = 0*S1.copy()\n",
    "sellR = 0*S1.copy()\n",
    "\n",
    "# When buying the ratio, buy S1 and sell S2\n",
    "buyR[buy!=0] = S1[buy!=0]\n",
    "sellR[buy!=0] = S2[buy!=0]\n",
    "# When selling the ratio, sell S1 and buy S2 \n",
    "buyR[sell!=0] = S2[sell!=0]\n",
    "sellR[sell!=0] = S1[sell!=0]\n",
    "\n",
    "buyR.plot(color='g', linestyle='None', marker='^')\n",
    "# sellR.plot(color='r', linestyle='None', marker='^')\n",
    "\n",
    "x1,x2,y1,y2 = plt.axis()\n",
    "plt.axis((x1,x2,min(S1.min(),S2.min()),max(S1.max(),S2.max())))\n",
    "plt.legend(['UVXY','SPY', 'Buy Signal', 'Sell Signal'])\n",
    "plt.show()"
   ]
  },
  {
   "cell_type": "code",
   "execution_count": 79,
   "id": "naughty-arnold",
   "metadata": {},
   "outputs": [
    {
     "name": "stdout",
     "output_type": "stream",
     "text": [
      "Selling volatility 2020-01-10 00:00:00 at 11.590000 0.000000 -1 0\n",
      "Selling volatility 2020-01-14 00:00:00 at 11.030000 0.560000 -2 0\n",
      "Buying volatility 2020-01-17 00:00:00 at 10.620000 1.380000 1 0\n",
      "Buying volatility 2020-01-22 00:00:00 at 10.830000 1.590000 2 0\n",
      "Buying volatility 2020-02-11 00:00:00 at 11.450000 2.830000 3 0\n",
      "Selling volatility 2020-02-26 00:00:00 at 17.420000 20.740001 -1 0\n",
      "Selling volatility 2020-03-20 00:00:00 at 91.110001 -52.950000 -2 0\n",
      "Selling volatility 2020-03-23 00:00:00 at 69.930000 -10.589999 -3 0\n",
      "Buying volatility 2020-03-25 00:00:00 at 68.000000 -4.799998 1 0\n",
      "Selling volatility 2020-03-31 00:00:00 at 58.560001 -14.239997 -1 0\n",
      "Selling volatility 2020-04-03 00:00:00 at 56.590000 -12.269996 -2 0\n",
      "Buying volatility 2020-04-07 00:00:00 at 52.700001 -4.489997 1 0\n",
      "Selling volatility 2020-04-13 00:00:00 at 47.799999 -9.389998 -1 0\n",
      "Buying volatility 2020-04-16 00:00:00 at 47.529999 -9.119998 1 0\n",
      "Selling volatility 2020-04-23 00:00:00 at 53.099998 -3.549998 -1 0\n",
      "Buying volatility 2020-06-01 00:00:00 at 33.849998 15.700002 1 0\n",
      "Selling volatility 2020-06-04 00:00:00 at 29.980000 11.830003 -1 0\n",
      "Buying volatility 2020-06-08 00:00:00 at 28.469999 13.340003 1 0\n",
      "Selling volatility 2020-06-10 00:00:00 at 30.340000 15.210004 -1 0\n",
      "Selling volatility 2020-06-17 00:00:00 at 37.529999 8.020005 -2 0\n",
      "Selling volatility 2020-07-16 00:00:00 at 29.500000 24.080003 -3 0\n",
      "Buying volatility 2020-07-21 00:00:00 at 26.299999 33.680005 1 0\n",
      "Selling volatility 2020-07-28 00:00:00 at 25.820000 33.200006 -1 0\n",
      "Selling volatility 2020-08-13 00:00:00 at 21.030001 37.990005 -2 0\n",
      "Buying volatility 2020-08-21 00:00:00 at 19.920000 40.210006 1 0\n",
      "Buying volatility 2020-08-26 00:00:00 at 20.309999 40.600005 2 0\n",
      "Buying volatility 2020-08-27 00:00:00 at 21.230000 42.440005 3 0\n",
      "Buying volatility 2020-09-01 00:00:00 at 23.240000 48.470006 4 0\n",
      "Buying volatility 2020-09-02 00:00:00 at 24.080000 51.830007 5 0\n",
      "Selling volatility 2020-09-04 00:00:00 at 25.299999 57.930003 -1 0\n",
      "Selling volatility 2020-09-08 00:00:00 at 24.320000 58.910003 -2 0\n",
      "Selling volatility 2020-09-16 00:00:00 at 20.059999 67.430003 -3 0\n",
      "Selling volatility 2020-09-17 00:00:00 at 19.450001 69.259999 -4 0\n",
      "Selling volatility 2020-09-18 00:00:00 at 19.410000 69.420003 -5 0\n",
      "Buying volatility 2020-09-22 00:00:00 at 20.549999 63.720006 1 0\n",
      "Selling volatility 2020-09-29 00:00:00 at 20.030001 63.200007 -1 0\n",
      "Buying volatility 2020-10-01 00:00:00 at 20.110001 63.120008 1 0\n",
      "Selling volatility 2020-10-14 00:00:00 at 16.440001 59.450007 -1 0\n",
      "Selling volatility 2020-10-21 00:00:00 at 17.270000 58.620008 -2 0\n"
     ]
    },
    {
     "data": {
      "text/plain": [
       "58.62000751495361"
      ]
     },
     "execution_count": 79,
     "metadata": {},
     "output_type": "execute_result"
    }
   ],
   "source": [
    "# Trade using a simple strategy\n",
    "def trade(data, window1, window2):\n",
    "    \n",
    "    S1 = data['gains']\n",
    "    S2 = data['spy_gains']\n",
    "    \n",
    "    close = data['Close']\n",
    "    date = data['Date']\n",
    "    # If window length is 0, algorithm doesn't make sense, so exit\n",
    "    if (window1 == 0) or (window2 == 0):\n",
    "        return 0\n",
    "    \n",
    "    # Compute rolling mean and rolling standard deviation\n",
    "    \n",
    "    # Simulate trading\n",
    "    # Start with no money and no positions\n",
    "    money = 0\n",
    "    countS1 = 0\n",
    "    countS2 = 0\n",
    "    for i in range(len(S1)):\n",
    "        # buy\n",
    "        if S1[i]>0 and S2[i]>0:\n",
    "          \n",
    "            if countS1<0:\n",
    "                money -= close[i]*abs(countS1)\n",
    "                countS1 = 0\n",
    "            \n",
    "            money -= close[i]\n",
    "            countS1 += 1\n",
    "                \n",
    "            print('Buying volatility %s at %f %f %s %s'%(date[i], close[i], money+countS1*close[i], countS1,countS2))\n",
    "        elif S1[i]<0 and S2[i]<0:\n",
    "            if countS1>0:\n",
    "                money += close[i] * countS1\n",
    "                countS1 = 0\n",
    "            \n",
    "            money += close[i]\n",
    "            countS1 -= 1\n",
    "                \n",
    "            print('Selling volatility %s at %f %f %s %s'%(date[i], close[i], money+countS1*close[i], countS1,countS2))\n",
    "            \n",
    "   \n",
    "            \n",
    "    return money+countS1*close.iloc[-1]\n",
    "trade(data.iloc[:200], 5, 60)"
   ]
  },
  {
   "cell_type": "code",
   "execution_count": 80,
   "id": "substantial-register",
   "metadata": {},
   "outputs": [
    {
     "data": {
      "text/html": [
       "<div>\n",
       "<style scoped>\n",
       "    .dataframe tbody tr th:only-of-type {\n",
       "        vertical-align: middle;\n",
       "    }\n",
       "\n",
       "    .dataframe tbody tr th {\n",
       "        vertical-align: top;\n",
       "    }\n",
       "\n",
       "    .dataframe thead th {\n",
       "        text-align: right;\n",
       "    }\n",
       "</style>\n",
       "<table border=\"1\" class=\"dataframe\">\n",
       "  <thead>\n",
       "    <tr style=\"text-align: right;\">\n",
       "      <th></th>\n",
       "      <th>Date</th>\n",
       "      <th>Open</th>\n",
       "      <th>High</th>\n",
       "      <th>Low</th>\n",
       "      <th>Close</th>\n",
       "      <th>Volume</th>\n",
       "      <th>Dividends</th>\n",
       "      <th>Stock Splits</th>\n",
       "      <th>gains</th>\n",
       "    </tr>\n",
       "  </thead>\n",
       "  <tbody>\n",
       "    <tr>\n",
       "      <th>53</th>\n",
       "      <td>2020-03-25</td>\n",
       "      <td>63.0</td>\n",
       "      <td>72.019997</td>\n",
       "      <td>62.299999</td>\n",
       "      <td>68.0</td>\n",
       "      <td>11370100</td>\n",
       "      <td>0</td>\n",
       "      <td>0</td>\n",
       "      <td>12.582779</td>\n",
       "    </tr>\n",
       "  </tbody>\n",
       "</table>\n",
       "</div>"
      ],
      "text/plain": [
       "         Date  Open       High        Low  Close    Volume  Dividends  \\\n",
       "53 2020-03-25  63.0  72.019997  62.299999   68.0  11370100          0   \n",
       "\n",
       "    Stock Splits      gains  \n",
       "53             0  12.582779  "
      ]
     },
     "execution_count": 80,
     "metadata": {},
     "output_type": "execute_result"
    }
   ],
   "source": [
    "hist[hist['Date'] == \"2020-03-25\"]"
   ]
  },
  {
   "cell_type": "code",
   "execution_count": 81,
   "id": "cleared-cisco",
   "metadata": {},
   "outputs": [
    {
     "data": {
      "text/html": [
       "<div>\n",
       "<style scoped>\n",
       "    .dataframe tbody tr th:only-of-type {\n",
       "        vertical-align: middle;\n",
       "    }\n",
       "\n",
       "    .dataframe tbody tr th {\n",
       "        vertical-align: top;\n",
       "    }\n",
       "\n",
       "    .dataframe thead th {\n",
       "        text-align: right;\n",
       "    }\n",
       "</style>\n",
       "<table border=\"1\" class=\"dataframe\">\n",
       "  <thead>\n",
       "    <tr style=\"text-align: right;\">\n",
       "      <th></th>\n",
       "      <th>Date</th>\n",
       "      <th>Open</th>\n",
       "      <th>High</th>\n",
       "      <th>Low</th>\n",
       "      <th>Close</th>\n",
       "      <th>Volume</th>\n",
       "      <th>Dividends</th>\n",
       "      <th>Stock Splits</th>\n",
       "      <th>gains</th>\n",
       "      <th>spy_gains</th>\n",
       "    </tr>\n",
       "  </thead>\n",
       "  <tbody>\n",
       "    <tr>\n",
       "      <th>53</th>\n",
       "      <td>2020-03-25</td>\n",
       "      <td>241.79444</td>\n",
       "      <td>253.130262</td>\n",
       "      <td>236.738752</td>\n",
       "      <td>243.690323</td>\n",
       "      <td>299430300</td>\n",
       "      <td>0.0</td>\n",
       "      <td>0</td>\n",
       "      <td>1.497019</td>\n",
       "      <td>1.497019</td>\n",
       "    </tr>\n",
       "  </tbody>\n",
       "</table>\n",
       "</div>"
      ],
      "text/plain": [
       "         Date       Open        High         Low       Close     Volume  \\\n",
       "53 2020-03-25  241.79444  253.130262  236.738752  243.690323  299430300   \n",
       "\n",
       "    Dividends  Stock Splits     gains  spy_gains  \n",
       "53        0.0             0  1.497019   1.497019  "
      ]
     },
     "execution_count": 81,
     "metadata": {},
     "output_type": "execute_result"
    }
   ],
   "source": [
    "spy_hist[spy_hist['Date'] == \"2020-03-25\"]"
   ]
  },
  {
   "cell_type": "code",
   "execution_count": null,
   "id": "sixth-wiring",
   "metadata": {},
   "outputs": [],
   "source": []
  }
 ],
 "metadata": {
  "kernelspec": {
   "display_name": "Python 3",
   "language": "python",
   "name": "python3"
  },
  "language_info": {
   "codemirror_mode": {
    "name": "ipython",
    "version": 3
   },
   "file_extension": ".py",
   "mimetype": "text/x-python",
   "name": "python",
   "nbconvert_exporter": "python",
   "pygments_lexer": "ipython3",
   "version": "3.9.2"
  }
 },
 "nbformat": 4,
 "nbformat_minor": 5
}
